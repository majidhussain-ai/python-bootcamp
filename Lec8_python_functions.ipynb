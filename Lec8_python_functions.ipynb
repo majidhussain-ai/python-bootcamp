{
 "cells": [
  {
   "cell_type": "markdown",
   "id": "f746d31f-f3bc-4c67-8a82-04aebe60e90b",
   "metadata": {},
   "source": [
    "# Function:\n",
    "- A `function` is a block of reusable code that performs a specific task.\n",
    "- You define it once and call it many times.\n",
    "\n",
    "## Types of Functions\n",
    "\n",
    "- **Built-in functions:** Already provided by Python (len(), sum(), print() etc).\n",
    "- **User-defined functions:** Created by the user manually.\n",
    "- **Lambda (anonymous) functions:** Short one-line functions.\n",
    "\n",
    "## Types of Arguments :\n",
    "- Default Arguments:\n",
    "- Positional Arguments:\n",
    "- Keyword Arguments:s :"
   ]
  },
  {
   "cell_type": "markdown",
   "id": "d3bfd2af-f9e1-4d6e-9b14-5780934470a5",
   "metadata": {},
   "source": [
    "## Examples:"
   ]
  },
  {
   "cell_type": "code",
   "execution_count": 2,
   "id": "a4f45c02-0f9c-4eab-81e9-df4b49d6cfcd",
   "metadata": {},
   "outputs": [
    {
     "name": "stdout",
     "output_type": "stream",
     "text": [
      "Hello Majid Hussain!\n"
     ]
    }
   ],
   "source": [
    "# Simple function without parameters\n",
    "def greet():\n",
    "    \"\"\"This function prints a greeting.\"\"\"\n",
    "    print(\"Hello Majid Hussain!\")\n",
    "    \n",
    "greet()\n",
    "\n"
   ]
  },
  {
   "cell_type": "code",
   "execution_count": 3,
   "id": "4c8385ec-2f37-48e7-9975-02c3572567be",
   "metadata": {},
   "outputs": [
    {
     "name": "stdout",
     "output_type": "stream",
     "text": [
      "Hello Amjad Hussain, welcome to Python!\n"
     ]
    }
   ],
   "source": [
    "# Function with parameters\n",
    "def greet_friend(name):\n",
    "    \"\"\"Greet a friend by name.\"\"\"\n",
    "    print(f\"Hello {name}, welcome to Python!\")\n",
    "    \n",
    "greet_friend(\"Amjad Hussain\")\n"
   ]
  },
  {
   "cell_type": "code",
   "execution_count": 4,
   "id": "82243edb-430e-4ac1-aa9d-a74cc35376fe",
   "metadata": {},
   "outputs": [
    {
     "name": "stdout",
     "output_type": "stream",
     "text": [
      "Sum: 15\n"
     ]
    }
   ],
   "source": [
    "# Function with return value\n",
    "def add_numbers(a,b):\n",
    "    \"\"\"Return the sum of two numbers.\"\"\"\n",
    "    return a + b\n",
    "\n",
    "result = add_numbers(5,10)\n",
    "print(\"Sum:\", result)\n"
   ]
  },
  {
   "cell_type": "code",
   "execution_count": 5,
   "id": "9ae8abfb-a927-420a-8943-b66e4557b528",
   "metadata": {},
   "outputs": [
    {
     "name": "stdout",
     "output_type": "stream",
     "text": [
      "My name is Majid and I study Machine Learning.\n",
      "My name is Amir Hussain and I study Deep Learning.\n"
     ]
    }
   ],
   "source": [
    "#  Default parameter\n",
    "def introduce(name=\"Majid\", course=\"Machine Learning\"):\n",
    "    \"\"\"Introduce yourself with default parameters.\"\"\"\n",
    "    print(f\"My name is {name} and I study {course}.\")\n",
    "    \n",
    "introduce()\n",
    "introduce(\"Amir Hussain\",\"Deep Learning\")\n"
   ]
  },
  {
   "cell_type": "code",
   "execution_count": 6,
   "id": "52ef2948-d4c8-44cb-bc8e-04f9843cf64f",
   "metadata": {},
   "outputs": [
    {
     "data": {
      "text/plain": [
       "'Hello, Majid'"
      ]
     },
     "execution_count": 6,
     "metadata": {},
     "output_type": "execute_result"
    }
   ],
   "source": [
    "def greet(name):\n",
    "    return f\"Hello, {name}\"\n",
    "greet(\"Majid\")"
   ]
  },
  {
   "cell_type": "code",
   "execution_count": 28,
   "id": "e7e63de3-d670-41b4-954f-c8ffd5f39f84",
   "metadata": {},
   "outputs": [
    {
     "name": "stdin",
     "output_type": "stream",
     "text": [
      "Enter Student name  amir\n"
     ]
    },
    {
     "name": "stdout",
     "output_type": "stream",
     "text": [
      " Hello , amir\n"
     ]
    }
   ],
   "source": [
    "\n",
    "def student_name(name):\n",
    "    print(f\" Hello , {name}\")\n",
    "\n",
    "student = input(\"Enter Student name \")\n",
    "student_name(student)"
   ]
  },
  {
   "cell_type": "code",
   "execution_count": 3,
   "id": "7b0026de-6afe-4f67-992e-1381b239b368",
   "metadata": {},
   "outputs": [
    {
     "name": "stdin",
     "output_type": "stream",
     "text": [
      "enter your name khan\n"
     ]
    },
    {
     "name": "stdout",
     "output_type": "stream",
     "text": [
      " Hello , khan\n"
     ]
    }
   ],
   "source": [
    "name = input('enter your name')\n",
    "student_name(name)"
   ]
  },
  {
   "cell_type": "code",
   "execution_count": 4,
   "id": "dcf6a247-83c2-46be-b815-59f9a0a3a97c",
   "metadata": {},
   "outputs": [
    {
     "data": {
      "text/plain": [
       "13"
      ]
     },
     "execution_count": 4,
     "metadata": {},
     "output_type": "execute_result"
    }
   ],
   "source": [
    "# using a parametrized function to print the sum of two variables  \n",
    "def calc_sum(a, b):    \n",
    "    return a+b \n",
    "calc_sum(8, 5)\n"
   ]
  },
  {
   "cell_type": "code",
   "execution_count": 54,
   "id": "90793347-d976-493e-9359-415e1df6ce93",
   "metadata": {},
   "outputs": [
    {
     "name": "stdout",
     "output_type": "stream",
     "text": [
      "20\n"
     ]
    }
   ],
   "source": [
    "calc_sum(13, 7)"
   ]
  },
  {
   "cell_type": "code",
   "execution_count": 7,
   "id": "9a2f18f0-8df8-4756-83a1-106cec86298f",
   "metadata": {},
   "outputs": [
    {
     "name": "stdout",
     "output_type": "stream",
     "text": [
      "3.67\n"
     ]
    }
   ],
   "source": [
    "# Calculate the sum of three numbers and print their average\n",
    "def calc_avg(a,b,c):\n",
    "    sum=a+b+c\n",
    "    avg=sum/3\n",
    "    print(f'{avg:.2f}')\n",
    "calc_avg(2,5,4)"
   ]
  },
  {
   "cell_type": "code",
   "execution_count": 9,
   "id": "4dc983cc-2c51-4eca-93c0-e7483667e9ab",
   "metadata": {},
   "outputs": [
    {
     "data": {
      "text/plain": [
       "12"
      ]
     },
     "execution_count": 9,
     "metadata": {},
     "output_type": "execute_result"
    }
   ],
   "source": [
    "# default parameters in which the value print without any passing parameters.\n",
    "def calc_prod(a=3, b=4):\n",
    "    return a*b\n",
    "calc_prod() "
   ]
  },
  {
   "cell_type": "code",
   "execution_count": 7,
   "id": "7673914b-c580-4f76-8954-d3b1f0c74f03",
   "metadata": {},
   "outputs": [
    {
     "name": "stdout",
     "output_type": "stream",
     "text": [
      "782\n"
     ]
    }
   ],
   "source": [
    "calc_prod(23 , 34)"
   ]
  },
  {
   "cell_type": "code",
   "execution_count": 9,
   "id": "fc409dfb-ebd3-46dc-a859-49edbc77b60f",
   "metadata": {},
   "outputs": [
    {
     "name": "stdout",
     "output_type": "stream",
     "text": [
      "7\n",
      "9\n"
     ]
    }
   ],
   "source": [
    "# WAF to print the length of list using length function\n",
    "countries=[\"Iran\", \"Pakistan\", \"Lebnan\", \"Serya\", \"yaman\", \"Palestine\",4]\n",
    "list=[2,3,5,65,3,2,65,99,32]\n",
    "def print_len(items):\n",
    "        return len(items)\n",
    "print(print_len(countries))\n",
    "print(print_len(list))"
   ]
  },
  {
   "cell_type": "code",
   "execution_count": 31,
   "id": "e94dfae2-c267-4984-9bf5-a89f551221fd",
   "metadata": {},
   "outputs": [
    {
     "name": "stdout",
     "output_type": "stream",
     "text": [
      "1 3 4 5 6 7 8 8 2 Iran Pakistan Lebnan Serya yaman Palestine 4 "
     ]
    }
   ],
   "source": [
    "# WAF to print the list in a single line using funtion \n",
    "count=[1,3,4,5,6,7,8,8,2]\n",
    "countries=[\"Iran\", \"Pakistan\", \"Lebnan\", \"Serya\", \"yaman\", \"Palestine\",4]\n",
    "\n",
    "# 1st method\n",
    "def single_line_list(list):\n",
    "    for item in list:\n",
    "        print(item , end = \" \")\n",
    "single_line_list(count)\n",
    "single_line_list(countries)\n",
    "\n",
    "# 2nd method\n",
    "# def print_list(list):\n",
    "#     for item in list:\n",
    "#         print(item, end=\" \")\n",
    "#     print()\n",
    "# print_list(count)\n",
    "# print_list(countries)\n",
    "    "
   ]
  },
  {
   "cell_type": "code",
   "execution_count": 22,
   "id": "8d09a755-c335-4984-bf6c-e81128fdf428",
   "metadata": {},
   "outputs": [
    {
     "name": "stdout",
     "output_type": "stream",
     "text": [
      "1 3 4 5 6 7 8 8 2 \n",
      "Iran Pakistan Lebnan Serya yaman Palestine 4 \n",
      "1 3 4 5 6 7 8 8 2 \n",
      "Iran Pakistan Lebnan Serya yaman Palestine 4 \n"
     ]
    }
   ],
   "source": [
    "# here accessing of above code by using of for loop and calling functions:\n",
    "for i in count:\n",
    "    print(i, end = \" \")\n",
    "print()\n",
    "\n",
    "for country in countries:\n",
    "    print(country, end = \" \")\n",
    "print()\n",
    "\n",
    "print_list(count)\n",
    "print_list(countries)"
   ]
  },
  {
   "cell_type": "code",
   "execution_count": 1,
   "id": "e4b66650-57a3-4a9c-9ffc-d21a5462b2c4",
   "metadata": {},
   "outputs": [
    {
     "name": "stdin",
     "output_type": "stream",
     "text": [
      "Enter number: 7\n"
     ]
    },
    {
     "name": "stdout",
     "output_type": "stream",
     "text": [
      "the factorial of 7 = 5040\n",
      "The execution time of custom function is 2.1021814346313477\n"
     ]
    }
   ],
   "source": [
    "# WAF to find the factorial of n where n is parameter_\n",
    "import time\n",
    "def calc_fact(num):\n",
    "    fact=1\n",
    "    for i in range(1,num+1):\n",
    "        fact*=i\n",
    "    print(f\"the factorial of {n} = {fact}\")\n",
    "start = time.time()\n",
    "n=int(input(\"Enter number:\"))\n",
    "calc_fact(n)\n",
    "end = time.time()\n",
    "print(f\"The execution time of custom function is {end - start}\")"
   ]
  },
  {
   "cell_type": "code",
   "execution_count": 30,
   "id": "96b248d4-33c2-40d6-92d9-48fed643dbf9",
   "metadata": {},
   "outputs": [
    {
     "name": "stdout",
     "output_type": "stream",
     "text": [
      "120\n"
     ]
    }
   ],
   "source": [
    "fact_num(n)"
   ]
  },
  {
   "cell_type": "code",
   "execution_count": 32,
   "id": "8e42a39e-9c59-424c-9ff7-fd92784dca80",
   "metadata": {},
   "outputs": [
    {
     "name": "stdin",
     "output_type": "stream",
     "text": [
      "Enter number : 6\n"
     ]
    },
    {
     "name": "stdout",
     "output_type": "stream",
     "text": [
      "The factorial of 6 = 720\n",
      "the time excution is 0.0035152435302734375\n"
     ]
    }
   ],
   "source": [
    "# Instead using above custom factorial you can use module like math class factorial\n",
    "import math\n",
    "import time\n",
    "n = int(input(\"Enter number :\"))\n",
    "start = time.time()\n",
    "print(f'The factorial of {n} = {math.factorial(n)}')\n",
    "end = time.time()\n",
    "print(f'the time excution is {end - start}')"
   ]
  },
  {
   "cell_type": "code",
   "execution_count": 33,
   "id": "c4f1c511-63a9-45a5-bb20-730d43751c1b",
   "metadata": {},
   "outputs": [
    {
     "name": "stdin",
     "output_type": "stream",
     "text": [
      "enter money you convert : 5\n"
     ]
    },
    {
     "name": "stdout",
     "output_type": "stream",
     "text": [
      "5 USD= 1390 PKR\n"
     ]
    }
   ],
   "source": [
    "# convert the money of usd dollar into pkr by using function method\n",
    "\n",
    "def converter(usd_val):\n",
    "    pkr_val=usd_val *278\n",
    "    print(usd_val,\"USD=\", pkr_val,\"PKR\")\n",
    "\n",
    "n = int(input('enter money you convert :'))\n",
    "converter(n)"
   ]
  },
  {
   "cell_type": "code",
   "execution_count": 12,
   "id": "3d4bac4f-af27-413c-aa66-6fbeaa379340",
   "metadata": {},
   "outputs": [
    {
     "name": "stdin",
     "output_type": "stream",
     "text": [
      "Enter PKR to convert in US dollar:  343434\n"
     ]
    },
    {
     "name": "stdout",
     "output_type": "stream",
     "text": [
      "343434 pkr in US dollar is 1235.37\n"
     ]
    }
   ],
   "source": [
    "def converter(pkr):\n",
    "    usd = pkr/278\n",
    "    print(f\"{pkr} pkr in US dollar is {usd:.2f}\")\n",
    "\n",
    "convert = int(input(\"Enter PKR to convert in US dollar: \"))\n",
    "converter(convert)"
   ]
  },
  {
   "cell_type": "code",
   "execution_count": 16,
   "id": "7b1d84d9-e211-49a4-ac5b-003c3318f477",
   "metadata": {},
   "outputs": [
    {
     "name": "stdin",
     "output_type": "stream",
     "text": [
      "Enter money to convert in USD:  12\n"
     ]
    },
    {
     "name": "stdout",
     "output_type": "stream",
     "text": [
      "12 USD = 3336 pkr\n"
     ]
    }
   ],
   "source": [
    "# instead of above I can write this shrot and readable code\n",
    "converter = lambda usd : usd*278\n",
    "usd = int(input(\"Enter money to convert in USD: \"))\n",
    "print(f'{usd} USD = {converter(usd)} pkr')"
   ]
  },
  {
   "cell_type": "code",
   "execution_count": 19,
   "id": "991c266b-b666-42ef-92f4-1064fcd76160",
   "metadata": {},
   "outputs": [
    {
     "name": "stdin",
     "output_type": "stream",
     "text": [
      "enter money you convert 433\n"
     ]
    },
    {
     "data": {
      "text/plain": [
       "120374"
      ]
     },
     "execution_count": 19,
     "metadata": {},
     "output_type": "execute_result"
    }
   ],
   "source": [
    "# reusable of above code\n",
    "\n",
    "n = int(input('enter money you convert'))\n",
    "converter(n)"
   ]
  },
  {
   "cell_type": "code",
   "execution_count": 3,
   "id": "8b0d942a-a628-4582-bc57-0ba6b320124e",
   "metadata": {},
   "outputs": [
    {
     "name": "stdin",
     "output_type": "stream",
     "text": [
      "Enter amount in USD:  5\n"
     ]
    },
    {
     "name": "stdout",
     "output_type": "stream",
     "text": [
      "0 USD = 0 PKR\n",
      "1 USD = 278 PKR\n",
      "2 USD = 556 PKR\n",
      "3 USD = 834 PKR\n",
      "4 USD = 1112 PKR\n",
      "5 USD = 1390 PKR\n"
     ]
    }
   ],
   "source": [
    "usd_input = float(input(\"Enter amount in USD: \"))  \n",
    "usd_to_pkr_rate = 278  # Exchange rate  \n",
    "pkr_value = 0  \n",
    "usd_value = 0  \n",
    "\n",
    "while usd_value <= usd_input:  \n",
    "    pkr_value = usd_value * usd_to_pkr_rate  \n",
    "    print(f\"{usd_value} USD = {pkr_value} PKR\")  \n",
    "    usd_value += 1  # Increment USD value by 1 for the next iteration"
   ]
  },
  {
   "cell_type": "code",
   "execution_count": 22,
   "id": "da166921-3045-4269-badc-0126e9ac1341",
   "metadata": {},
   "outputs": [
    {
     "name": "stdin",
     "output_type": "stream",
     "text": [
      "Enter nunber 232\n"
     ]
    },
    {
     "name": "stdout",
     "output_type": "stream",
     "text": [
      "Even\n"
     ]
    }
   ],
   "source": [
    "# WAP to input from user that if number is even return string even and if it is odd return string odd\n",
    "def is_even(num):\n",
    "    if num%2 == 0:\n",
    "        print('Even')\n",
    "    else:\n",
    "        print('Odd')\n",
    "\n",
    "num = int(input(\"Enter nunber\"))\n",
    "is_even(num)"
   ]
  },
  {
   "cell_type": "code",
   "execution_count": 24,
   "id": "7afe5764-922f-4972-8a6a-c2ad6cae383c",
   "metadata": {},
   "outputs": [
    {
     "name": "stdout",
     "output_type": "stream",
     "text": [
      "12\n"
     ]
    }
   ],
   "source": [
    "def multiply(a , b=3):\n",
    "    prod = a*b\n",
    "    print(prod)\n",
    "multiply(4)"
   ]
  },
  {
   "cell_type": "code",
   "execution_count": 25,
   "id": "8e7f003e-33b1-4187-869a-348f04edee05",
   "metadata": {},
   "outputs": [
    {
     "name": "stdout",
     "output_type": "stream",
     "text": [
      "20\n"
     ]
    }
   ],
   "source": [
    "multiply(4,5)"
   ]
  },
  {
   "cell_type": "markdown",
   "id": "72326898-0bd7-4969-b2c2-54ca9a5bd6c1",
   "metadata": {},
   "source": [
    "##  `*args` and `**kwargs` in Python\r\n",
    "\r\n",
    "### 1. Definition of `*args`\r\n",
    "- `*args` allows a function to accept **any number of positional arguments**.\r\n",
    "- Inside the function, `args` is treated as a **tuple** of all extra positional arguments.\r\n",
    "- Use it when you don’t know beforehand how many positional arguments you’ll need.\r\n",
    "\r\n",
    "### 2. Definition of `**kwargs`\r\n",
    "- `**kwargs` allows a function to accept **any number of keyword arguments**.\r\n",
    "- Inside the function, `kwargs` is treated as a **dictionary** of all extra keyword arguments.\r\n",
    "- Use it when you don’t know beforehand how many named (key=value) arguments you’ll need.\r\n",
    "\r\n",
    "### 3. Why It’s Useful\r\n",
    "- It makes your functions **flexible and reusable**.\r\n",
    "- Commonly used in data science libraries (like pandas, matplotlib, seaborn) to pass extra configuration parameters without rewriting the function signature.\r\n"
   ]
  },
  {
   "cell_type": "code",
   "execution_count": 24,
   "id": "74332aaf-690a-457b-949f-b5e8e5dbab19",
   "metadata": {},
   "outputs": [
    {
     "name": "stdout",
     "output_type": "stream",
     "text": [
      "3 4 4 \n",
      "name : khan \n",
      "age : 14 \n",
      "roll_no : 2 \n",
      "school_name : High School \n",
      "name : Awais\n",
      "age : 4\n"
     ]
    }
   ],
   "source": [
    "def show_args(*args):\n",
    "    for arg in args:\n",
    "        print(arg , end= \" \")\n",
    "    print()\n",
    "    \n",
    "def show_kwargs(**kwargs):\n",
    "    for key, value in kwargs.items():\n",
    "        print(f\"{key} : {value} \")\n",
    "\n",
    "def show_para(**kwargs):\n",
    "    for key, value in kwargs.items():\n",
    "        print(f\"{key} : {value}\")\n",
    "show_args(3,4,4)\n",
    "# this kwargs depend upon me that i want i can define data as a argument\n",
    "show_kwargs(name=\"khan\", age = 14 , roll_no = 2 , school_name = \"High School\")\n",
    "show_para(name = \"Awais\", age = 4)"
   ]
  },
  {
   "cell_type": "code",
   "execution_count": 49,
   "id": "283fc7a0-19b0-4ae7-ba98-dc8b50282c4e",
   "metadata": {},
   "outputs": [
    {
     "name": "stdout",
     "output_type": "stream",
     "text": [
      "name : majid\n",
      "age : 19\n"
     ]
    }
   ],
   "source": [
    "show_para(name = \"majid\" , age = 19)"
   ]
  },
  {
   "cell_type": "code",
   "execution_count": 5,
   "id": "c060423d-90ce-4231-81fd-f91519fa6f72",
   "metadata": {},
   "outputs": [
    {
     "name": "stdout",
     "output_type": "stream",
     "text": [
      "Hello, Guest\n",
      "Hello, majid\n"
     ]
    }
   ],
   "source": [
    "def  greet(name = \"Guest\"):\n",
    "    return f'Hello, {name}'\n",
    "print(greet())\n",
    "print(greet('majid'))"
   ]
  },
  {
   "cell_type": "code",
   "execution_count": 8,
   "id": "11f53f3f-d17a-4627-8307-b98ec49b7d0b",
   "metadata": {},
   "outputs": [
    {
     "name": "stdout",
     "output_type": "stream",
     "text": [
      "15\n"
     ]
    }
   ],
   "source": [
    "# veriable length parameter\n",
    "def sum_num(*args):\n",
    "    return sum(args)\n",
    "print(sum_num(1,2,3,4,5))"
   ]
  },
  {
   "cell_type": "code",
   "execution_count": 45,
   "id": "1b1bf8ad-1b82-487c-8d42-f0c6d7e2cfa3",
   "metadata": {},
   "outputs": [
    {
     "name": "stdout",
     "output_type": "stream",
     "text": [
      "name : majid\n",
      "age : 21\n",
      "city : Bwp\n"
     ]
    }
   ],
   "source": [
    "# length of kwargs\n",
    "def print_detail(**kwargs):\n",
    "    for key, value in kwargs.items():\n",
    "        print(f'{key} : {value}')\n",
    "print_detail(name = 'majid', age=21, city = 'Bwp')"
   ]
  },
  {
   "cell_type": "markdown",
   "id": "3aa001ec-7e85-4723-baf5-7e1e5f09b79a",
   "metadata": {},
   "source": [
    "##  Global vs Local Variables in Python\r\n",
    "\r\n",
    "### 1. Global Variable\r\n",
    "- A **global variable** is defined **outside of any function**.\r\n",
    "- It can be accessed anywhere in the file — both inside and outside functions (read-only by default inside functions).\r\n",
    "- To **modify** a global variable inside a function, you must explicitly declare it with the `global` keyword.\r\n",
    "\r\n",
    "### 2. Local Variable\r\n",
    "- A **local variable** is defined **inside a function**.\r\n",
    "- It only exists while the function is running.\r\n",
    "- It cannot be accessed directly outside the function.\r\n",
    "\r\n",
    "### 3. Why This Matters\r\n",
    "- Using local variables keeps data isolated to a function, which makes code cleaner.\r\n",
    "- Global variables are useful for constants or shared configuration, but overusing them can make debugging harder.\r\n"
   ]
  },
  {
   "cell_type": "code",
   "execution_count": 9,
   "id": "210fc35f-5604-4bb6-af42-b0e045dbf0ba",
   "metadata": {},
   "outputs": [
    {
     "name": "stdout",
     "output_type": "stream",
     "text": [
      "Inside function, x = 10\n",
      "Outside function, x = 10\n"
     ]
    }
   ],
   "source": [
    "# Global variable\n",
    "x = 10  # global variable\n",
    "\n",
    "def show_global():\n",
    "    print(\"Inside function, x =\", x)  # can read global variable\n",
    "\n",
    "show_global()\n",
    "print(\"Outside function, x =\", x)\n"
   ]
  },
  {
   "cell_type": "code",
   "execution_count": 12,
   "id": "e6114b5e-8285-4372-a942-77d77eefceeb",
   "metadata": {},
   "outputs": [
    {
     "name": "stdout",
     "output_type": "stream",
     "text": [
      "Inside function, y = 5\n"
     ]
    }
   ],
   "source": [
    "#Local variable\n",
    "def my_function():\n",
    "    y = 5  # local variable\n",
    "    print(\"Inside function, y =\", y)\n",
    "\n",
    "my_function()\n",
    "\n",
    "# This will raise an error if uncommented because y is local:\n",
    "# print(y)\n"
   ]
  },
  {
   "cell_type": "code",
   "execution_count": 13,
   "id": "eb76de51-fad7-4517-9af8-5b51a67bc1af",
   "metadata": {},
   "outputs": [
    {
     "name": "stdout",
     "output_type": "stream",
     "text": [
      "z after modification = 150\n"
     ]
    }
   ],
   "source": [
    "#  Modifying a global variable inside a function\n",
    "z = 100  # global\n",
    "\n",
    "def change_global():\n",
    "    global z  # tell Python to use the global variable\n",
    "    z = z + 50\n",
    "\n",
    "change_global()\n",
    "print(\"z after modification =\", z)\n"
   ]
  },
  {
   "cell_type": "markdown",
   "id": "056dd268-5127-416a-9bde-bfb92d832aff",
   "metadata": {},
   "source": [
    "### Summary\n",
    "- **Global variable**: declared outside functions; accessible everywhere.  \n",
    "- **Local variable**: declared inside functions; accessible only there.  \n",
    "- Use `global` keyword to modify a global variable inside a function.  \n"
   ]
  },
  {
   "cell_type": "code",
   "execution_count": 29,
   "id": "25c901ac-38df-4640-a422-91af475a67e6",
   "metadata": {},
   "outputs": [
    {
     "name": "stdout",
     "output_type": "stream",
     "text": [
      "inside value 12\n",
      "outside value 10\n"
     ]
    }
   ],
   "source": [
    "# local and global variable\n",
    "x = 10\n",
    "def modify():\n",
    "    y = 12\n",
    "    return f'inside value {y}'\n",
    "print(modify())\n",
    "print(f'outside value {x}') # if I write y in place of x then it raise error that y is not define"
   ]
  },
  {
   "cell_type": "code",
   "execution_count": 42,
   "id": "83b28f17-3ad8-4e90-b57a-7d56052f86c1",
   "metadata": {},
   "outputs": [
    {
     "data": {
      "text/plain": [
       "[2, 4, 6, 2, 4, 6]"
      ]
     },
     "execution_count": 42,
     "metadata": {},
     "output_type": "execute_result"
    }
   ],
   "source": [
    "# filter evens numbers:\n",
    "def filter_evens(numbers):\n",
    "    return [num for num in numbers if num%2 == 0]\n",
    "filter_evens([1,2,3,4,45,5,5,6,543,2,4,5,6])"
   ]
  },
  {
   "cell_type": "markdown",
   "id": "f150f2a8-d44e-4d4f-b760-35dccecc2b15",
   "metadata": {},
   "source": [
    "## Advance Functions:"
   ]
  },
  {
   "cell_type": "code",
   "execution_count": 9,
   "id": "94c0b1ec-b7c3-4f04-9639-145ea45e79b6",
   "metadata": {},
   "outputs": [
    {
     "data": {
      "text/plain": [
       "Counter({'cat': 2, 'dog': 2, 'mouse': 1, 'lion': 1, 'elephent': 1})"
      ]
     },
     "execution_count": 9,
     "metadata": {},
     "output_type": "execute_result"
    }
   ],
   "source": [
    "# word frequency for nlp\n",
    "from collections import Counter\n",
    "text = ['cat dog mouse lion dog cat Elephent']\n",
    "clean_value = text[0].lower().split()\n",
    "count = Counter(clean_value)\n",
    "count"
   ]
  },
  {
   "cell_type": "code",
   "execution_count": 8,
   "id": "c588ca4d-eee3-4746-9842-d336d632c022",
   "metadata": {},
   "outputs": [
    {
     "name": "stdin",
     "output_type": "stream",
     "text": [
      "Enter any words civic\n"
     ]
    },
    {
     "data": {
      "text/plain": [
       "'Palindrome'"
      ]
     },
     "execution_count": 8,
     "metadata": {},
     "output_type": "execute_result"
    }
   ],
   "source": [
    "# palindrome values\n",
    "def is_palindrome(text):\n",
    "    if text == text[::-1]:\n",
    "        \n",
    "        return 'Palindrome'\n",
    "    return 'Not palindrome'\n",
    "\n",
    "user_input = input(\"Enter any words\")\n",
    "is_palindrome(user_input)"
   ]
  },
  {
   "cell_type": "code",
   "execution_count": 17,
   "id": "be74caa3-b1b3-4bc3-aad5-88a5bfac8d15",
   "metadata": {},
   "outputs": [
    {
     "name": "stdin",
     "output_type": "stream",
     "text": [
      "Enter any words for checking vowels count what's happend\n"
     ]
    },
    {
     "data": {
      "text/plain": [
       "3"
      ]
     },
     "execution_count": 17,
     "metadata": {},
     "output_type": "execute_result"
    }
   ],
   "source": [
    "# count vowels\n",
    "def count_vow(text):\n",
    "    vowels = 'aeiou'\n",
    "    return sum(1 for txt in text.lower() if txt in vowels)\n",
    "user_input = input(\"Enter any words for checking vowels count\")\n",
    "count_vow(user_input)"
   ]
  },
  {
   "cell_type": "code",
   "execution_count": 47,
   "id": "534cd089-381d-4b1f-9418-3d5d7c3ce1b6",
   "metadata": {},
   "outputs": [
    {
     "name": "stdin",
     "output_type": "stream",
     "text": [
      "Enter paragraph to count of vowels : Hi my name is majid hussain and i'm from rajanpur what's your name and what are you doing here can I help you If you need any help from me without any reason you can ask me and hopefully I feel free i can help yu\n"
     ]
    },
    {
     "data": {
      "text/plain": [
       "69"
      ]
     },
     "execution_count": 47,
     "metadata": {},
     "output_type": "execute_result"
    }
   ],
   "source": [
    "# count vowels from parageraph\n",
    "def count_vowels(text):\n",
    "    vowels = 'aeiou'\n",
    "    return sum(1 for txt in text.lower() if txt in vowels)\n",
    "\n",
    "input = input(\"Enter paragraph to count of vowels :\")\n",
    "count_vowels(input)"
   ]
  },
  {
   "cell_type": "markdown",
   "id": "2960b244-9f19-4688-be21-14c74df46307",
   "metadata": {},
   "source": [
    "## Advance Functions Recursion:\n"
   ]
  },
  {
   "cell_type": "code",
   "execution_count": 1,
   "id": "2394d9e6-a35c-4d0b-8781-866c7aef530d",
   "metadata": {},
   "outputs": [
    {
     "name": "stdin",
     "output_type": "stream",
     "text": [
      "Enter  num: 5\n"
     ]
    },
    {
     "name": "stdout",
     "output_type": "stream",
     "text": [
      "5\n",
      "4\n",
      "3\n",
      "2\n",
      "1\n"
     ]
    }
   ],
   "source": [
    "# WAP in which n prints backwords by using recursion\n",
    "def show(n):\n",
    "    if(n==0):\n",
    "        return 0\n",
    "    print(n)\n",
    "    show(n-1)\n",
    "\n",
    "\n",
    "n=int(input(\"Enter  num:\"))\n",
    "show(n)"
   ]
  },
  {
   "cell_type": "code",
   "execution_count": 2,
   "id": "171dd569-7cec-4f5e-985e-ae81b0f016f2",
   "metadata": {},
   "outputs": [
    {
     "name": "stdin",
     "output_type": "stream",
     "text": [
      "Enter Num for Fact: 5\n"
     ]
    },
    {
     "name": "stdout",
     "output_type": "stream",
     "text": [
      "Factorial of 5 = 120\n"
     ]
    }
   ],
   "source": [
    "# using recursion in case of factorial \n",
    "def fact(n):\n",
    "    if(n==1 or n==0):\n",
    "        return 1\n",
    "    return n*fact(n-1)\n",
    "\n",
    "n=int(input(\"Enter Num for Fact:\"))\n",
    "print(f\"Factorial of {n} = {fact(n)}\")"
   ]
  },
  {
   "cell_type": "code",
   "execution_count": 3,
   "id": "9de13946-f941-4aff-9214-b0aea8a7a6b1",
   "metadata": {},
   "outputs": [
    {
     "name": "stdin",
     "output_type": "stream",
     "text": [
      "Enter number: 6\n"
     ]
    },
    {
     "data": {
      "text/plain": [
       "21"
      ]
     },
     "execution_count": 3,
     "metadata": {},
     "output_type": "execute_result"
    }
   ],
   "source": [
    "# wap to print the sum of natural number of n using recursion\n",
    "def sum(n):\n",
    "    if(n==0):         #base case which is compulsry for recursion\n",
    "        return 0\n",
    "    return sum(n-1)+n \n",
    "\n",
    "n=int(input(\"Enter number:\"))\n",
    "sum(n)"
   ]
  },
  {
   "cell_type": "code",
   "execution_count": 4,
   "id": "9b2c8855-8ee0-43f6-9b46-07675d905eea",
   "metadata": {},
   "outputs": [
    {
     "name": "stdout",
     "output_type": "stream",
     "text": [
      "Majid\n",
      "Amjad\n",
      "Amir\n",
      "Yasir\n",
      "Ayan\n"
     ]
    }
   ],
   "source": [
    "# wap to print the all elements of list using recursion \n",
    "def print_list(list, idx=0):\n",
    "    if(idx==len(list)):               # it is base case for recursion\n",
    "        return\n",
    "    print(list[idx])\n",
    "    print_list(list, idx+1)\n",
    "list=[\"Majid\", \"Amjad\", \"Amir\",\"Yasir\",\"Ayan\"]\n",
    "print_list(list)\n"
   ]
  },
  {
   "cell_type": "markdown",
   "id": "fb1b4cba-0e52-4612-87c2-39c2b174f605",
   "metadata": {},
   "source": [
    "## Nested Functions:"
   ]
  },
  {
   "cell_type": "code",
   "execution_count": 14,
   "id": "72aa9914-785d-4536-82a9-09674fea0aa0",
   "metadata": {},
   "outputs": [
    {
     "name": "stdout",
     "output_type": "stream",
     "text": [
      "in g(x): x =  5\n",
      "in f(x): x =  6\n",
      "in main program the scope of x  4\n",
      "in main program the scope of z  5\n"
     ]
    }
   ],
   "source": [
    "def g(x):\n",
    "    def h(x):\n",
    "        x = x+1\n",
    "        print('in f(x): x = ' , x)  \n",
    "    x = x + 1\n",
    "    print('in g(x): x = ' , x)\n",
    "    h(x)\n",
    "    return x\n",
    "x = 4 \n",
    "z = g(x)\n",
    "print('in main program the scope of x ' , x)\n",
    "print('in main program the scope of z ' , z)\n",
    "    \n",
    "        "
   ]
  },
  {
   "cell_type": "code",
   "execution_count": 15,
   "id": "44bb2576-e31e-4e25-9aca-1e1056c74fd5",
   "metadata": {},
   "outputs": [
    {
     "name": "stdout",
     "output_type": "stream",
     "text": [
      "Hello, Majid!\n"
     ]
    }
   ],
   "source": [
    "# We can pass of function inside an other function\n",
    "\n",
    "def greet(name):  \n",
    "    def get_greeting():  \n",
    "        return \"Hello\"  \n",
    "    \n",
    "    greeting = get_greeting()  \n",
    "    return f\"{greeting}, {name}!\"  \n",
    "\n",
    "# Usage  \n",
    "print(greet(\"Majid\"))"
   ]
  },
  {
   "cell_type": "code",
   "execution_count": 17,
   "id": "b14ae90a-812d-46f0-9594-e2f2de4eaa94",
   "metadata": {},
   "outputs": [
    {
     "name": "stdout",
     "output_type": "stream",
     "text": [
      "15\n"
     ]
    }
   ],
   "source": [
    "def outer_function(x):  \n",
    "    def inner_function(y):  \n",
    "        return x + y  # accessing x from the outer function  \n",
    "    \n",
    "    return inner_function(5)  \n",
    "\n",
    "# Usage  \n",
    "print(outer_function(10))  "
   ]
  },
  {
   "cell_type": "code",
   "execution_count": 18,
   "id": "b5d12545-9a62-4363-8d67-2bca1be31a70",
   "metadata": {},
   "outputs": [
    {
     "name": "stdout",
     "output_type": "stream",
     "text": [
      "10\n"
     ]
    }
   ],
   "source": [
    "def multiply_by(n):  \n",
    "    def multiplier(x):  \n",
    "        return x * n  \n",
    "    return multiplier  \n",
    "\n",
    "double = multiply_by(2)  \n",
    "print(double(5))  "
   ]
  },
  {
   "cell_type": "code",
   "execution_count": 19,
   "id": "042e0699-7595-4b44-89d3-901a0506d449",
   "metadata": {},
   "outputs": [
    {
     "name": "stdout",
     "output_type": "stream",
     "text": [
      "15\n",
      "5\n"
     ]
    }
   ],
   "source": [
    "# Functions can be stored in Data Structures :\n",
    "def add(x, y):  \n",
    "    return x + y  \n",
    "\n",
    "def subtract(x, y):  \n",
    "    return x - y  \n",
    "\n",
    "operations = {'add': add, 'subtract': subtract}  \n",
    "\n",
    "print(operations['add'](10,5))   \n",
    "print(operations['subtract'](10,5)) "
   ]
  },
  {
   "cell_type": "code",
   "execution_count": 20,
   "id": "7efefcb7-f49d-41fe-a27f-f84b02ce88f2",
   "metadata": {},
   "outputs": [
    {
     "name": "stdout",
     "output_type": "stream",
     "text": [
      "9\n"
     ]
    }
   ],
   "source": [
    "# Calling of function inside of function :\n",
    "def f():\n",
    "    def x(a,b):\n",
    "        return a+b\n",
    "    return x\n",
    "\n",
    "val = f()(4,5)\n",
    "print(val)"
   ]
  },
  {
   "cell_type": "markdown",
   "id": "595c2cf7-61d8-4e01-b036-e97d7122faed",
   "metadata": {},
   "source": [
    "##  Lambda Function in Python\r\n",
    "\r\n",
    "### 1. Definition\r\n",
    "A **lambda function** is a small, anonymous function defined without a name using the `lambda` keyword.\r\n",
    "\r\n",
    "Syntax:\r\n",
    "```python\r\n",
    "lambda arguments: expression\r\n"
   ]
  },
  {
   "cell_type": "markdown",
   "id": "6e643bc0-4e03-440b-86f0-0ea6001a80d3",
   "metadata": {},
   "source": [
    "## When to Use:\n",
    "- When you need a simple function for a short period of time.\n",
    "- To pass a function as an argument to higher-order functions (like map(), filter(), apply() in pandas).\n",
    "- To keep code concise and readable.\n",
    "\n",
    "## Why It’s Important in Data Science:\n",
    "- Very handy for quick transformations on data frames and lists.\n",
    "- Commonly used with pandas .`apply(), map(), and filter()` for custom operations without defining a full def function."
   ]
  },
  {
   "cell_type": "code",
   "execution_count": 22,
   "id": "cbc0f082-c47d-497e-b09d-31c5f4e91925",
   "metadata": {},
   "outputs": [
    {
     "name": "stdout",
     "output_type": "stream",
     "text": [
      "25\n"
     ]
    }
   ],
   "source": [
    "# Basic lambda function\n",
    "square = lambda x: x ** 2\n",
    "print(square(5))  \n"
   ]
  },
  {
   "cell_type": "code",
   "execution_count": 24,
   "id": "a4d311c2-651d-4692-a0fc-3917ec7b2e1c",
   "metadata": {},
   "outputs": [
    {
     "name": "stdout",
     "output_type": "stream",
     "text": [
      "10\n"
     ]
    }
   ],
   "source": [
    "# Lambda with multiple arguments\n",
    "add = lambda a, b: a + b\n",
    "print(add(3, 7)) "
   ]
  },
  {
   "cell_type": "code",
   "execution_count": 25,
   "id": "1a36f404-f751-4420-a58f-41dc02e0dfdf",
   "metadata": {},
   "outputs": [
    {
     "name": "stdout",
     "output_type": "stream",
     "text": [
      "[1, 4, 9, 16]\n"
     ]
    }
   ],
   "source": [
    "# Using lambda with map()\n",
    "numbers = [1, 2, 3, 4]\n",
    "squares = list(map(lambda x: x**2, numbers))\n",
    "print(squares)  \n"
   ]
  },
  {
   "cell_type": "code",
   "execution_count": 26,
   "id": "7c9989da-42c1-4b3c-ab55-a3ceb3fec417",
   "metadata": {},
   "outputs": [
    {
     "data": {
      "text/html": [
       "<div>\n",
       "<style scoped>\n",
       "    .dataframe tbody tr th:only-of-type {\n",
       "        vertical-align: middle;\n",
       "    }\n",
       "\n",
       "    .dataframe tbody tr th {\n",
       "        vertical-align: top;\n",
       "    }\n",
       "\n",
       "    .dataframe thead th {\n",
       "        text-align: right;\n",
       "    }\n",
       "</style>\n",
       "<table border=\"1\" class=\"dataframe\">\n",
       "  <thead>\n",
       "    <tr style=\"text-align: right;\">\n",
       "      <th></th>\n",
       "      <th>Age</th>\n",
       "      <th>Age_plus_5</th>\n",
       "    </tr>\n",
       "  </thead>\n",
       "  <tbody>\n",
       "    <tr>\n",
       "      <th>0</th>\n",
       "      <td>20</td>\n",
       "      <td>25</td>\n",
       "    </tr>\n",
       "    <tr>\n",
       "      <th>1</th>\n",
       "      <td>30</td>\n",
       "      <td>35</td>\n",
       "    </tr>\n",
       "    <tr>\n",
       "      <th>2</th>\n",
       "      <td>40</td>\n",
       "      <td>45</td>\n",
       "    </tr>\n",
       "  </tbody>\n",
       "</table>\n",
       "</div>"
      ],
      "text/plain": [
       "   Age  Age_plus_5\n",
       "0   20          25\n",
       "1   30          35\n",
       "2   40          45"
      ]
     },
     "execution_count": 26,
     "metadata": {},
     "output_type": "execute_result"
    }
   ],
   "source": [
    "# Using lambda in pandas apply()\n",
    "import pandas as pd\n",
    "df = pd.DataFrame({'Age': [20, 30, 40]})\n",
    "df['Age_plus_5'] = df['Age'].apply(lambda x: x + 5)\n",
    "df\n"
   ]
  },
  {
   "cell_type": "code",
   "execution_count": 27,
   "id": "1babbbfe-8a78-4f73-9bc2-ea897d093f01",
   "metadata": {},
   "outputs": [
    {
     "name": "stdout",
     "output_type": "stream",
     "text": [
      "[{'name': 'amir', 'age': 25}, {'name': 'amir', 'age': 30}, {'name': 'majid', 'age': 45}]\n"
     ]
    }
   ],
   "source": [
    "data = [{'name': 'majid', 'age': 45}, {'name': 'amir', 'age': 30}, {'name': 'amir', 'age': 25}]  \n",
    "sort_by_age = sorted(data, key = lambda x:x['age'])\n",
    "print(sort_by_age)"
   ]
  },
  {
   "cell_type": "code",
   "execution_count": 28,
   "id": "d7ed6cd1-7ff7-4d62-975d-b513c1fab9a3",
   "metadata": {},
   "outputs": [
    {
     "name": "stdout",
     "output_type": "stream",
     "text": [
      "[True, True, False, True, False]\n",
      "['even', 'even', 'odd', 'even', 'odd']\n",
      "[2, 4, 8]\n"
     ]
    }
   ],
   "source": [
    "l = [2,4,5,8,11]\n",
    "data = list(map(lambda x: x%2==0 , l))\n",
    "print(data)\n",
    "\n",
    "data = list(map(lambda x:'even' if x%2==0 else 'odd' , l))\n",
    "print(data)\n",
    "\n",
    "data = list(filter(lambda x: x%2==0 , l))\n",
    "print(data)"
   ]
  },
  {
   "cell_type": "code",
   "execution_count": 29,
   "id": "c4934974-1dc6-46d8-9125-2fc4e85bda8a",
   "metadata": {},
   "outputs": [
    {
     "name": "stdout",
     "output_type": "stream",
     "text": [
      "['even', 'even', 'even', 'even', 'even', 'even', 'odd', 'odd']\n"
     ]
    }
   ],
   "source": [
    "# lambda function to check the given number is even or odd :\n",
    "my_list = [12, 32, 432, 2132, 42,44, 43423, 423]\n",
    "is_even = list(map(lambda x: 'even' if x%2 == 0 else 'odd',  my_list))\n",
    "print(is_even)"
   ]
  },
  {
   "cell_type": "code",
   "execution_count": 30,
   "id": "53b7e0a8-08a6-49a9-bcee-a48244857b0a",
   "metadata": {},
   "outputs": [
    {
     "name": "stdout",
     "output_type": "stream",
     "text": [
      "['ML', 'AI', 'PYTHON']\n"
     ]
    }
   ],
   "source": [
    "words = [\"ml\", \"ai\", \"python\"]\n",
    "uppercased = list(map(lambda s: s.upper(), words))\n",
    "print(uppercased)\n"
   ]
  },
  {
   "cell_type": "code",
   "execution_count": 31,
   "id": "c2456118-04a4-481a-a14e-6f34a46efe33",
   "metadata": {},
   "outputs": [
    {
     "name": "stdout",
     "output_type": "stream",
     "text": [
      "2025-09-20 11:54:13.080544\n"
     ]
    }
   ],
   "source": [
    "import datetime\n",
    "today = datetime.datetime.today()\n",
    "print(today)"
   ]
  },
  {
   "cell_type": "code",
   "execution_count": null,
   "id": "e586e1b0-d031-4128-a53f-7c5fc603bc45",
   "metadata": {},
   "outputs": [],
   "source": []
  }
 ],
 "metadata": {
  "kernelspec": {
   "display_name": "Python 3 (ipykernel)",
   "language": "python",
   "name": "python3"
  },
  "language_info": {
   "codemirror_mode": {
    "name": "ipython",
    "version": 3
   },
   "file_extension": ".py",
   "mimetype": "text/x-python",
   "name": "python",
   "nbconvert_exporter": "python",
   "pygments_lexer": "ipython3",
   "version": "3.12.4"
  }
 },
 "nbformat": 4,
 "nbformat_minor": 5
}
