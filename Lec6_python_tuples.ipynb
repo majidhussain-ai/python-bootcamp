{
 "cells": [
  {
   "cell_type": "markdown",
   "id": "856ffa79-2579-4f6c-a807-ffcd95ed0ca7",
   "metadata": {},
   "source": [
    "# What is tuple:\n",
    "- A tuple in python is similar to list. The difference is that tuple can't be changed whereas list can be changed. Simply tuples are immutable where list are mutable\n",
    "- ordered\n",
    "- duplicate allows\n",
    "- unchangeable"
   ]
  },
  {
   "cell_type": "markdown",
   "id": "decd82f2-3f7b-4542-a743-2ed594425f11",
   "metadata": {},
   "source": [
    "## Examples:"
   ]
  },
  {
   "cell_type": "code",
   "execution_count": 1,
   "id": "6e90b641-8794-452b-b7a7-e5ae10017261",
   "metadata": {},
   "outputs": [
    {
     "name": "stdout",
     "output_type": "stream",
     "text": [
      "()\n"
     ]
    }
   ],
   "source": [
    "# empty tuple\n",
    "tuple = ()\n",
    "print(tuple)\n"
   ]
  },
  {
   "cell_type": "code",
   "execution_count": 2,
   "id": "259f28ac-d9bb-460a-a932-fcb5227d410d",
   "metadata": {},
   "outputs": [
    {
     "name": "stdout",
     "output_type": "stream",
     "text": [
      "(3,)\n"
     ]
    }
   ],
   "source": [
    "# single tuple\n",
    "tuple1 = (3,)      # mandatory with end comma of single tuple value\n",
    "print(tuple1)\n"
   ]
  },
  {
   "cell_type": "code",
   "execution_count": 7,
   "id": "5eb9f559-d154-4de7-8d72-6fe0f3d5e2eb",
   "metadata": {},
   "outputs": [
    {
     "name": "stdout",
     "output_type": "stream",
     "text": [
      "<class 'tuple'> (1, 3, 'Majid', 'S')\n",
      "4\n"
     ]
    }
   ],
   "source": [
    "# Tuples: A tuple is a built-in data types, like of list , but it lets us to create immutable sequence of values, it can store str, int, float etc values\n",
    "tup=(1,3, \"Majid\", 'S')\n",
    "print(type(tup) , tup)\n",
    "print(len(tup))\n",
    "\n",
    "#It is because of immutable so we try to change value  in output it says tuple does not support item assignment it mean we can't change\n",
    "# tup[3]='A'"
   ]
  },
  {
   "cell_type": "code",
   "execution_count": 4,
   "id": "48a4fc67-1dd0-4455-a7bd-fcebaa036138",
   "metadata": {},
   "outputs": [
    {
     "name": "stdout",
     "output_type": "stream",
     "text": [
      "<class 'tuple'> (2,)\n"
     ]
    }
   ],
   "source": [
    "# When we use single method to print it is compulsry we put comma at the end \n",
    "tup=(2,)\n",
    "print(type(tup),tup)"
   ]
  },
  {
   "cell_type": "markdown",
   "id": "7c34ad63-e7a4-42e6-b9e5-08f65de6ac74",
   "metadata": {},
   "source": [
    "## Indexing and Slicing:"
   ]
  },
  {
   "cell_type": "code",
   "execution_count": 3,
   "id": "57ede97f-60a8-40d0-8fc7-f57bd3096c79",
   "metadata": {},
   "outputs": [
    {
     "name": "stdout",
     "output_type": "stream",
     "text": [
      "Amir khan\n",
      "4.3\n",
      "1\n"
     ]
    }
   ],
   "source": [
    "# Accessing values by using of indexing\n",
    "tuple3 = ( 1,2,\"Amir khan\",True , False,  4.3 )\n",
    "print(tuple3[2])\n",
    "print(tuple3[-1])\n",
    "print(tuple3[-6])\n"
   ]
  },
  {
   "cell_type": "code",
   "execution_count": 4,
   "id": "67d59cc2-6cfd-4211-8970-7ea0e4aff0dd",
   "metadata": {},
   "outputs": [
    {
     "name": "stdout",
     "output_type": "stream",
     "text": [
      "(2, 'Amir khan', True)\n",
      "(2, True)\n",
      "(4.3, True, 2)\n",
      "(4.3, False, True, 'Amir khan', 2, 1)\n"
     ]
    }
   ],
   "source": [
    "# Accessing values by using of slicing\n",
    "tuple3 = ( 1,2,\"Amir khan\",True , False,  4.3 )\n",
    "print(tuple3[ 1:4: 1])\n",
    "print(tuple3[-5 :-1 : 2])\n",
    "print(tuple3[ -1: -6: -2])\n",
    "print(tuple3[ : : -1])"
   ]
  },
  {
   "cell_type": "code",
   "execution_count": 2,
   "id": "77a4a0f0-6334-4c91-b9f7-55915dd72ccf",
   "metadata": {},
   "outputs": [
    {
     "name": "stdout",
     "output_type": "stream",
     "text": [
      "('Khan', 'A')\n",
      "(2, 3, 'Khan')\n",
      "(2, 3, 'Khan', 'A')\n"
     ]
    }
   ],
   "source": [
    "#Slicing in tuple It is like of list slicing to learn more about go list slicing \n",
    "tup=(2,3,\"Khan\", 'A')\n",
    "print(tup[2:4])\n",
    "print(tup[:3])\n",
    "print(tup[0:])\n"
   ]
  },
  {
   "cell_type": "code",
   "execution_count": 5,
   "id": "837d00e6-22c1-45bd-ac48-609ebfda35d8",
   "metadata": {},
   "outputs": [
    {
     "name": "stdout",
     "output_type": "stream",
     "text": [
      "4\n",
      "4\n"
     ]
    }
   ],
   "source": [
    "tuple4 = ( 1,2,3,(5,4,3))\n",
    "print(tuple4[3][1])\n",
    "# 2nd method\n",
    "print(tuple4[-1][1])\n"
   ]
  },
  {
   "cell_type": "markdown",
   "id": "00d71b27-10d4-4b2f-bc4b-10b04bab4b3c",
   "metadata": {},
   "source": [
    "## Editing tuple:"
   ]
  },
  {
   "cell_type": "code",
   "execution_count": 8,
   "id": "8ca7248b-f386-4f84-8d89-6c24b6dc1795",
   "metadata": {},
   "outputs": [
    {
     "ename": "AttributeError",
     "evalue": "'tuple' object has no attribute 'append'",
     "output_type": "error",
     "traceback": [
      "\u001b[1;31m---------------------------------------------------------------------------\u001b[0m",
      "\u001b[1;31mAttributeError\u001b[0m                            Traceback (most recent call last)",
      "Cell \u001b[1;32mIn[8], line 3\u001b[0m\n\u001b[0;32m      1\u001b[0m \u001b[38;5;66;03m# By adding in tuples are not allowed\u001b[39;00m\n\u001b[0;32m      2\u001b[0m tuple4 \u001b[38;5;241m=\u001b[39m ( \u001b[38;5;241m1\u001b[39m,\u001b[38;5;241m2\u001b[39m,\u001b[38;5;241m3\u001b[39m,(\u001b[38;5;241m5\u001b[39m,\u001b[38;5;241m4\u001b[39m,\u001b[38;5;241m3\u001b[39m))\n\u001b[1;32m----> 3\u001b[0m tuple4\u001b[38;5;241m.\u001b[39mappend(\u001b[38;5;241m12\u001b[39m)\n\u001b[0;32m      4\u001b[0m \u001b[38;5;28mprint\u001b[39m(tuple4)\n",
      "\u001b[1;31mAttributeError\u001b[0m: 'tuple' object has no attribute 'append'"
     ]
    }
   ],
   "source": [
    "# By adding in tuples are not allowed\n",
    "tuple4 = ( 1,2,3,(5,4,3))\n",
    "tuple4.append(12)\n",
    "print(tuple4)       # Again error that in tuple has no object or append mean it not changeable"
   ]
  },
  {
   "cell_type": "code",
   "execution_count": 9,
   "id": "f08998e2-8b31-4587-9692-1439d32c2b6b",
   "metadata": {},
   "outputs": [
    {
     "name": "stdout",
     "output_type": "stream",
     "text": [
      "(1, 2, 3, (5, 4, 3))\n"
     ]
    }
   ],
   "source": [
    "# As we know in list we can delete specific value the help of del function but here we only del whole variable data not specific value by indexing or slcing\n",
    "tuple4 = ( 1,2,3,(5,4,3))\n",
    "print(tuple4)\n",
    "del tuple4\n",
    "# print(tuple4)   Here first tuple print but on second print it said tuple4 is not defined mean it was deleted successfully"
   ]
  },
  {
   "cell_type": "code",
   "execution_count": 10,
   "id": "c5090160-752b-492f-8306-7e1b825e8fc4",
   "metadata": {},
   "outputs": [
    {
     "name": "stdout",
     "output_type": "stream",
     "text": [
      "[1, 2, 3, 4, 5, 6]\n",
      "[1, 2, 3, 4, 5, 6]\n"
     ]
    }
   ],
   "source": [
    "# the disadvantages of additing in list is that if I change in one list and access this one to another then it will automatically change in 2nd list\n",
    "a = [1,2,3,4,5]\n",
    "b = a \n",
    "a.append(6)\n",
    "print(a)\n",
    "print(b)"
   ]
  },
  {
   "cell_type": "code",
   "execution_count": 13,
   "id": "5b97a6d9-e6b9-4f65-bdd4-463a0d4a30f4",
   "metadata": {},
   "outputs": [
    {
     "name": "stdout",
     "output_type": "stream",
     "text": [
      "(1, 2, 3, 4, 5, 4)\n",
      "(1, 2, 3, 4, 5)\n"
     ]
    }
   ],
   "source": [
    "# but in tuple if I change in one list and access  this to another then it not be change to another list value\n",
    "a = (1,2,3,4,5)\n",
    "b = a\n",
    "a = a + (4,)\n",
    "print(a)\n",
    "print(b)"
   ]
  },
  {
   "cell_type": "code",
   "execution_count": 12,
   "id": "1c4c22c6-de4a-4203-86b7-05398738e277",
   "metadata": {},
   "outputs": [
    {
     "name": "stdout",
     "output_type": "stream",
     "text": [
      "1 4 2\n"
     ]
    }
   ],
   "source": [
    "# tuple unpacking syntax\n",
    "a,b,c = (1,2,4)\n",
    "print(a,c,b)"
   ]
  },
  {
   "cell_type": "code",
   "execution_count": 14,
   "id": "86f9604b-87c5-413e-9c5a-a419889d470a",
   "metadata": {},
   "outputs": [
    {
     "name": "stdout",
     "output_type": "stream",
     "text": [
      "The swaped value of a is : (3, 4)\n",
      "The swaped value of b is : (1, 2)\n"
     ]
    }
   ],
   "source": [
    "# swipe values syntax\n",
    "a = (1,2)\n",
    "b = (3,4)\n",
    "a , b = b ,a \n",
    "print(\"The swaped value of a is :\" ,a)\n",
    "\n",
    "print(\"The swaped value of b is :\", b)"
   ]
  },
  {
   "cell_type": "code",
   "execution_count": 15,
   "id": "838f528a-6d46-469e-9d38-2304bc26c795",
   "metadata": {},
   "outputs": [
    {
     "ename": "ValueError",
     "evalue": "too many values to unpack (expected 2)",
     "output_type": "error",
     "traceback": [
      "\u001b[1;31m---------------------------------------------------------------------------\u001b[0m",
      "\u001b[1;31mValueError\u001b[0m                                Traceback (most recent call last)",
      "Cell \u001b[1;32mIn[15], line 2\u001b[0m\n\u001b[0;32m      1\u001b[0m \u001b[38;5;66;03m# This is give an error in which that give variable is too less then given value\u001b[39;00m\n\u001b[1;32m----> 2\u001b[0m a ,b \u001b[38;5;241m=\u001b[39m ( \u001b[38;5;241m2\u001b[39m,\u001b[38;5;241m3\u001b[39m,\u001b[38;5;241m4\u001b[39m)\n\u001b[0;32m      3\u001b[0m \u001b[38;5;28mprint\u001b[39m( a,b)\n",
      "\u001b[1;31mValueError\u001b[0m: too many values to unpack (expected 2)"
     ]
    }
   ],
   "source": [
    "# This is give an error in which that give variable is too less then given value\n",
    "a ,b = ( 2,3,4)\n",
    "print( a,b)\n"
   ]
  },
  {
   "cell_type": "code",
   "execution_count": 16,
   "id": "2672d041-81b7-42dc-a63e-947b676a17b0",
   "metadata": {},
   "outputs": [
    {
     "name": "stdout",
     "output_type": "stream",
     "text": [
      "1 3\n",
      "[4, 45, 5, 4]\n"
     ]
    }
   ],
   "source": [
    "# The solution of above cell error is that if you use like this \n",
    "a,b, * others = (1,3,4,45,5,4)\n",
    "print(a,b)\n",
    "print(others)"
   ]
  },
  {
   "cell_type": "code",
   "execution_count": 1,
   "id": "c2f82d9c-a7ec-4b3e-b7b2-1a8f3f63599f",
   "metadata": {},
   "outputs": [
    {
     "data": {
      "text/plain": [
       "((1, 5), (2, 6), (3, 7), (4, 8))"
      ]
     },
     "execution_count": 1,
     "metadata": {},
     "output_type": "execute_result"
    }
   ],
   "source": [
    "# zip tuple:\n",
    "a = (1,2,3,4)\n",
    "b = (5,6,7,8)\n",
    "tuple(zip(a,b))"
   ]
  },
  {
   "cell_type": "markdown",
   "id": "bfc0cfe9-6549-4225-b0ce-4f57a4f5d5e1",
   "metadata": {},
   "source": [
    "# Tuple methods :\n",
    "- it is because of immutable so we can't be changing . When we changing in tuple it create new tuple but in original desn't any changing\n",
    "- remove/ pop / append/ reverse/ sort/ count/ index/ copy :  These operations will apply when inside tuples list exit\n",
    "- And important that we use of append method to create empty tuple "
   ]
  },
  {
   "cell_type": "code",
   "execution_count": 9,
   "id": "6b53a5aa-b208-4d30-8a87-5c9e28d310ed",
   "metadata": {},
   "outputs": [
    {
     "data": {
      "text/plain": [
       "3"
      ]
     },
     "execution_count": 9,
     "metadata": {},
     "output_type": "execute_result"
    }
   ],
   "source": [
    "# Method in tuple in which we use mehtod of remove, append, pop, index, sort in ascending and descending order\n",
    "\n",
    "# Index in tuple tell us that in which index your value are placed that you give in input like asjad it tell us the value placed in 3 index\n",
    "tup=(2,3,4,\"Asjad\", 'a')\n",
    "tup.index(\"Asjad\")"
   ]
  },
  {
   "cell_type": "markdown",
   "id": "3a7730ef-1693-4715-befd-2c8ead06424f",
   "metadata": {},
   "source": [
    "# Practice exercise questions :"
   ]
  },
  {
   "cell_type": "code",
   "execution_count": 2,
   "id": "3b44b71d-6ffa-43d9-b771-69b050824e32",
   "metadata": {},
   "outputs": [
    {
     "name": "stdout",
     "output_type": "stream",
     "text": [
      "Enter 1st moive: Tere Name \n",
      "Enter 2nd moive: Sanam Tery Qasam\n",
      "Enter 3rd moive: Shadi mein Zaroor ana\n"
     ]
    },
    {
     "name": "stdout",
     "output_type": "stream",
     "text": [
      "['Tere Name ', 'Sanam Tery Qasam', 'Shadi mein Zaroor ana']\n"
     ]
    }
   ],
   "source": [
    "# create a list enter movies name from user_input and store them in list\n",
    "movies_list=[]\n",
    "movies_list.append(input(\"Enter 1st moive:\"))\n",
    "movies_list.append(input(\"Enter 2nd moive:\"))\n",
    "movies_list.append(input(\"Enter 3rd moive:\"))\n",
    "print(movies_list)\n"
   ]
  },
  {
   "cell_type": "code",
   "execution_count": 6,
   "id": "9f1f1814-9e5a-4153-9296-f10e99a0cad2",
   "metadata": {},
   "outputs": [
    {
     "name": "stdout",
     "output_type": "stream",
     "text": [
      "palindrome\n"
     ]
    }
   ],
   "source": [
    "# Practice2: WAP to check if a list contain palindrome of elements.  Here palindrome mean if we write Ma'am and learn reverse and sort it will equal and\n",
    "#if we write a list [1,2,3,4,3,2,1] it is a palindrome list \n",
    "list1=[1,2,3,3, 2, 1,]\n",
    "copy_list1=list1.copy()\n",
    "copy_list1.reverse()\n",
    "if(copy_list1 == list1):\n",
    "   print(\"palindrome\")\n",
    "else:\n",
    "     print(\"Non palindrome\")\n",
    "\n",
    "# Here if we write a list [ 1,2,3,3,2,1] it tell us this is not palindrome but if this value written in double couts it will tell us it is a palindrome"
   ]
  },
  {
   "cell_type": "code",
   "execution_count": 4,
   "id": "24e809f5-a303-428a-b4d1-0a773dcd6332",
   "metadata": {},
   "outputs": [
    {
     "name": "stdout",
     "output_type": "stream",
     "text": [
      "3\n",
      "['A', 'A', 'A', 'B', 'B', 'C']\n",
      "<class 'list'> ['A', 'A', 'A', 'B', 'B', 'C']\n"
     ]
    }
   ],
   "source": [
    "# WAP to count the number of student with \"A\" grade of the tuple\n",
    "grade= ( \"A\" , \"A\", \"B\" , \"B\" , \"C\" , \"A\" )\n",
    "print(grade.count(\"A\"))\n",
    "\n",
    "# store the above values in a list and sort them from A to z there are two ways to solve with tuple to list\n",
    "grading=sorted(grade)\n",
    "print(grading)\n",
    "\n",
    "# 2nd method of list \n",
    "grade= [ \"A\" , \"A\", \"B\" , \"B\" , \"C\" , \"A\" ]\n",
    "grade.sort()\n",
    "print(type(grade),grade)\n"
   ]
  },
  {
   "cell_type": "code",
   "execution_count": 12,
   "id": "cf2c6ef2-b67d-434a-9a59-a1c2cc020a67",
   "metadata": {},
   "outputs": [
    {
     "name": "stdout",
     "output_type": "stream",
     "text": [
      "Enter numbers separated by spaces:  1 2 3 4 5\n"
     ]
    },
    {
     "name": "stdout",
     "output_type": "stream",
     "text": [
      "Sum numbers entered by user: 15\n",
      "Average of numbers: 3.0\n"
     ]
    }
   ],
   "source": [
    "# sum of tuples elements\n",
    "\n",
    "def sum_tuple(numbers):\n",
    "    return sum(numbers)\n",
    "\n",
    "# Test\n",
    "input_str = input(\"Enter numbers separated by spaces: \")\n",
    "numbers = tuple(int(x) for x in input_str.split())\n",
    "avg = sum(numbers)/len(numbers)\n",
    "print(f'Sum numbers entered by user: {sum_tuple(numbers)}')\n",
    "print(f'Average of numbers: {avg}')"
   ]
  },
  {
   "cell_type": "code",
   "execution_count": 8,
   "id": "9be21628-2f70-484e-91d7-5b49ade151a3",
   "metadata": {},
   "outputs": [
    {
     "name": "stdout",
     "output_type": "stream",
     "text": [
      "Enter number with spaces:  1 2 3 4 5 6 \n"
     ]
    },
    {
     "name": "stdout",
     "output_type": "stream",
     "text": [
      "Average of numbers: 3.5\n"
     ]
    }
   ],
   "source": [
    "# Enter by user and averages them\n",
    "def sum_tup(numbers):\n",
    "    return sum(numbers)/len(numbers)\n",
    "value = input(\"Enter number with spaces: \")\n",
    "numbers = tuple(int(x) for x in value.split())\n",
    "print(f'Average of numbers: {sum_tup(numbers)}')\n",
    "\n"
   ]
  },
  {
   "cell_type": "code",
   "execution_count": 3,
   "id": "6c843d73-eb09-4d9b-bc4c-f89c8c14e8ec",
   "metadata": {},
   "outputs": [
    {
     "name": "stdout",
     "output_type": "stream",
     "text": [
      "Enter numbers separated by spaces:  1 2 43 4 5 3 2 4 45 5 4 3 \n",
      "Enter value to find:  4\n"
     ]
    },
    {
     "name": "stdout",
     "output_type": "stream",
     "text": [
      "3\n"
     ]
    }
   ],
   "source": [
    "# Find element in tuple\n",
    "\n",
    "def find_in_tuple(tup, value):\n",
    "    for i in range(len(tup)):\n",
    "        if tup[i] == value:\n",
    "            return i\n",
    "    return -1\n",
    "\n",
    "# Test\n",
    "input_str = input(\"Enter numbers separated by spaces: \")\n",
    "value = int(input(\"Enter value to find: \"))\n",
    "numbers = tuple(int(x) for x in input_str.split())\n",
    "print(find_in_tuple(numbers, value))"
   ]
  },
  {
   "cell_type": "code",
   "execution_count": 12,
   "id": "7c7f9d9c-5015-47fc-97bb-45bbb6ea8f6c",
   "metadata": {},
   "outputs": [
    {
     "name": "stdout",
     "output_type": "stream",
     "text": [
      "Enter First tuple values with separated:  1 2 3 4 5 \n",
      "Enter second tuple values with separated:  6 7 8 9 0 \n"
     ]
    },
    {
     "name": "stdout",
     "output_type": "stream",
     "text": [
      "This is merged tuple: (1, 2, 3, 4, 5, 6, 7, 8, 9, 0)\n"
     ]
    }
   ],
   "source": [
    "# Merge two tuples\n",
    "\n",
    "def merge_tuple(tup1, tup2):\n",
    "    return tup1+tup2\n",
    "    \n",
    "input1 = input(\"Enter First tuple values with separated: \")\n",
    "input2 = input(\"Enter second tuple values with separated: \")\n",
    "\n",
    "tup1 = tuple(int(x) for x in input1.split())\n",
    "tup2 = tuple(int(x) for x in input2.split())\n",
    "\n",
    "print(f\"This is merged tuple: {merge_tuple(tup1, tup2)}\")"
   ]
  },
  {
   "cell_type": "code",
   "execution_count": 15,
   "id": "3f323184-bd7c-4095-bee1-cffb1678b791",
   "metadata": {},
   "outputs": [
    {
     "name": "stdout",
     "output_type": "stream",
     "text": [
      "Enter numbers sperated by spaces:  1 2 3 3 4 5 \n",
      "Enter value to count:  3\n"
     ]
    },
    {
     "name": "stdout",
     "output_type": "stream",
     "text": [
      "2\n"
     ]
    }
   ],
   "source": [
    "# Count accourances\n",
    "\n",
    "def count_accourances(tup , value):\n",
    "    return tup.count(value)\n",
    "\n",
    "input_str = input(\"Enter numbers sperated by spaces: \")\n",
    "value =  int(input(\"Enter value to count: \"))\n",
    "\n",
    "numbers = tuple(int(x) for x in input_str.split())\n",
    "print(count_accourances(numbers, value ))\n"
   ]
  },
  {
   "cell_type": "code",
   "execution_count": null,
   "id": "1ad8fdcc-9126-4431-be95-503b34c52718",
   "metadata": {},
   "outputs": [],
   "source": []
  }
 ],
 "metadata": {
  "kernelspec": {
   "display_name": "Python 3 (ipykernel)",
   "language": "python",
   "name": "python3"
  },
  "language_info": {
   "codemirror_mode": {
    "name": "ipython",
    "version": 3
   },
   "file_extension": ".py",
   "mimetype": "text/x-python",
   "name": "python",
   "nbconvert_exporter": "python",
   "pygments_lexer": "ipython3",
   "version": "3.12.4"
  }
 },
 "nbformat": 4,
 "nbformat_minor": 5
}
