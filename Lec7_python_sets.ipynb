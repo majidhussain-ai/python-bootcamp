{
 "cells": [
  {
   "cell_type": "markdown",
   "id": "84ab68ea-616f-498d-bd17-61d7e94634ca",
   "metadata": {},
   "source": [
    "# What is sets:\n",
    "- A set is an unordered collection of items . Every set element is unique ( no duplicates allow) and must be immutable( a set element inside must be immutable) . \n",
    "A set by itself is mutable . Mean we can change with it\n",
    "- set can also be used to perform mathematically operations like union, intersection, symmetric method etc\n",
    "- unordered\n",
    "- mutable\n",
    "- no duplicates\n",
    "- can't contain mutable data types "
   ]
  },
  {
   "cell_type": "code",
   "execution_count": 1,
   "id": "738e7357-5ba1-4877-b73c-569f4e378900",
   "metadata": {},
   "outputs": [
    {
     "name": "stdout",
     "output_type": "stream",
     "text": [
      "set()\n",
      "<class 'set'>\n"
     ]
    }
   ],
   "source": [
    "# empty set\n",
    "# set = {}     basically the syntax of dictionary and set are same so bydefault interpreter understand that this is an dictionary syntax \n",
    "s = set()\n",
    "print(s)\n",
    "print(type(s))"
   ]
  },
  {
   "cell_type": "code",
   "execution_count": 2,
   "id": "9e7d423f-ae9e-40ba-80c3-1f1bf1c14359",
   "metadata": {},
   "outputs": [
    {
     "name": "stdout",
     "output_type": "stream",
     "text": [
      "{1, 3, 4}\n"
     ]
    }
   ],
   "source": [
    "# 1D and 2D sets\n",
    "set = {1,3,4}\n",
    "print(set)\n",
    "\n",
    "# 2D sets mean that can't contain mutable data types \n",
    "# set = {4,5,5,{2,44,}}         but this line give an error that unhashable type set"
   ]
  },
  {
   "cell_type": "code",
   "execution_count": 3,
   "id": "52fb98db-4a4a-4c8f-aee3-eacd74fe7332",
   "metadata": {},
   "outputs": [
    {
     "name": "stdout",
     "output_type": "stream",
     "text": [
      "{1, 2, 4, 5, (1, 2, 3)}\n"
     ]
    }
   ],
   "source": [
    "# we can add of tuple within set : like this\n",
    "set = {1,2,4,5,(1,2,3)}\n",
    "print(set)"
   ]
  },
  {
   "cell_type": "code",
   "execution_count": 3,
   "id": "5cf0737c-aff8-4513-a04e-cebf63b91312",
   "metadata": {},
   "outputs": [
    {
     "name": "stdout",
     "output_type": "stream",
     "text": [
      "<class 'dict'>\n",
      "<class 'set'>\n"
     ]
    }
   ],
   "source": [
    "# sets are mutable but its elements are imutable suppose we find two ways of type sets\n",
    "collection={}\n",
    "print(type(collection))  # it is dictionary syntex\n",
    "my_set= set()\n",
    "print(type(my_set)) # Here is empty syntex of set\n",
    "\n"
   ]
  },
  {
   "cell_type": "code",
   "execution_count": 17,
   "id": "d8f5d1d9-9e8b-46dd-8747-7dce85593768",
   "metadata": {},
   "outputs": [
    {
     "name": "stdout",
     "output_type": "stream",
     "text": [
      "{2, 3, 4, 'Khan', 'Majid', 5, 'khan', 'amir'}\n",
      "<class 'set'>\n",
      "8\n",
      "{2, 3, 4, 'Khan', 'Amir'}\n"
     ]
    }
   ],
   "source": [
    "# Set: Sets is the collection of unordered list. Each element in the set must be unique and mutable Not allowed to duplicate value: We can't access \n",
    "# values with indexing\n",
    "\n",
    "set={ 2,3,3,3,2 , \"Majid\" , \"Khan\", 'amir', 'khan',4, 5}\n",
    "print(set)\n",
    "print(type(set))\n",
    "print(len(set))\n",
    "\n",
    "# # Another method that we find set are ordered or unordered \n",
    "set={ 2,3,3,2,3,4,\"Amir\", \"Khan\", }\n",
    "print(set)\n",
    "# print(set[4])    this means it is unordered so we can't access values with indexing\n",
    " "
   ]
  },
  {
   "cell_type": "code",
   "execution_count": 2,
   "id": "2cca73ad-d4aa-4c6f-ac36-2852eacdee92",
   "metadata": {},
   "outputs": [
    {
     "data": {
      "text/plain": [
       "True"
      ]
     },
     "execution_count": 2,
     "metadata": {},
     "output_type": "execute_result"
    }
   ],
   "source": [
    "# So it is because of unordered hence its same value but different methods are True\n",
    "set1 = { 1,2,3,4,5}\n",
    "set2 = {5,2,3,4,1}\n",
    "set1 == set2\n",
    "# print(set1[3])  this means its elements are immutable we can't access"
   ]
  },
  {
   "cell_type": "markdown",
   "id": "bfc88381-80a1-4452-8bc7-962e670d493f",
   "metadata": {},
   "source": [
    "# Sets methods & functions :\n",
    "These methods and functions are mostly used in sets here is not object of append/add and update .\n",
    "- add/ remove or discard/ update/ pop/ union/ intersection/ difference/ clear .\n",
    "- We use of add for integer in existing sets and update for append values in empty sets and these are string and integer"
   ]
  },
  {
   "cell_type": "code",
   "execution_count": 19,
   "id": "2ec28b5b-a2a0-48b4-b0ad-17999075711b",
   "metadata": {},
   "outputs": [
    {
     "name": "stdout",
     "output_type": "stream",
     "text": [
      "{1, 2, 3, 4, 5, 9}\n",
      "{1, 2, 4, 5, 9}\n"
     ]
    }
   ],
   "source": [
    "# Sets Method in which we can update value in set . Imp. Sets are mutable but its elements are immutable its elem. can't change but we add and remove elem. from set\n",
    "set={ 1,2,3}\n",
    "set.add(4)\n",
    "set.add(5)\n",
    "set.add(5)\n",
    "set.add(9)\n",
    "print(set)\n",
    "\n",
    "# Remove value from set through set method this means in set many values are same and we remove any value same values are remove automatically like in this set \n",
    "set.discard(12)     # By using of discard which means it is not return error if value is not exit instead of remove if value if not exit it return an eror\n",
    "set.remove(3)\n",
    "print(set)"
   ]
  },
  {
   "cell_type": "markdown",
   "id": "4f0fd35d-e22c-4760-b4fe-d1e52c62affd",
   "metadata": {},
   "source": [
    "# Advance level practice:"
   ]
  },
  {
   "cell_type": "code",
   "execution_count": 6,
   "id": "97cc6d67-42e5-4fb7-a9f9-b15a745a0d14",
   "metadata": {},
   "outputs": [
    {
     "name": "stdout",
     "output_type": "stream",
     "text": [
      "{1, 2, 34, 3, 4, 9, 'majid', 'khan'}\n"
     ]
    },
    {
     "ename": "TypeError",
     "evalue": "'set' object does not support item assignment",
     "output_type": "error",
     "traceback": [
      "\u001b[1;31m---------------------------------------------------------------------------\u001b[0m",
      "\u001b[1;31mTypeError\u001b[0m                                 Traceback (most recent call last)",
      "Cell \u001b[1;32mIn[6], line 6\u001b[0m\n\u001b[0;32m      4\u001b[0m \u001b[38;5;28mset\u001b[39m\u001b[38;5;241m.\u001b[39mupdate({\u001b[38;5;241m4\u001b[39m,\u001b[38;5;241m3\u001b[39m,\u001b[38;5;124m\"\u001b[39m\u001b[38;5;124mmajid\u001b[39m\u001b[38;5;124m\"\u001b[39m, \u001b[38;5;124m\"\u001b[39m\u001b[38;5;124mkhan\u001b[39m\u001b[38;5;124m\"\u001b[39m})\n\u001b[0;32m      5\u001b[0m \u001b[38;5;28mprint\u001b[39m(\u001b[38;5;28mset\u001b[39m)\n\u001b[1;32m----> 6\u001b[0m \u001b[38;5;28mset\u001b[39m[\u001b[38;5;241m2\u001b[39m] \u001b[38;5;241m=\u001b[39m \u001b[38;5;241m3\u001b[39m           \u001b[38;5;66;03m# set object does not support item assingment which means it is mutable but there is not indexing \u001b[39;00m\n\u001b[0;32m      7\u001b[0m \u001b[38;5;28mprint\u001b[39m(\u001b[38;5;28mset\u001b[39m)\n",
      "\u001b[1;31mTypeError\u001b[0m: 'set' object does not support item assignment"
     ]
    }
   ],
   "source": [
    "# sets are mutable but we can't change its elements  like this example\n",
    "set = { 1,2,34}\n",
    "set.add(9)\n",
    "set.update({4,3,\"majid\", \"khan\"})\n",
    "print(set)\n",
    "set[2] = 3           # set object does not support item assingment which means it is mutable but there is not indexing \n",
    "print(set)"
   ]
  },
  {
   "cell_type": "code",
   "execution_count": 9,
   "id": "c2a068c6-d6a2-45a3-89c8-4405e0ff501d",
   "metadata": {},
   "outputs": [
    {
     "name": "stdout",
     "output_type": "stream",
     "text": [
      "0\n",
      "set()\n"
     ]
    }
   ],
   "source": [
    "# Here we can use clear method in set here clear means the length of set be empty\n",
    "set={3,3,4,45,55,6,6,8}\n",
    "set.clear()\n",
    "print(len(set))\n",
    "print(set)\n"
   ]
  },
  {
   "cell_type": "code",
   "execution_count": 20,
   "id": "f75d2bf3-fab6-487e-ac55-9738107474dd",
   "metadata": {},
   "outputs": [
    {
     "name": "stdout",
     "output_type": "stream",
     "text": [
      "Science\n",
      "majid\n",
      "{'Hussain', 'Computer', 'BSCS'}\n"
     ]
    }
   ],
   "source": [
    "# Here we can use pop method in which random values are removed\n",
    "set={\"majid\", \"Hussain\", \"BSCS\", \"Computer\", \"Science\"}\n",
    "print(set.pop())\n",
    "print(set.pop())\n",
    "print(set)"
   ]
  },
  {
   "cell_type": "code",
   "execution_count": 5,
   "id": "035a3b51-13d2-458e-996c-1e710f94182c",
   "metadata": {},
   "outputs": [
    {
     "name": "stdout",
     "output_type": "stream",
     "text": [
      "{1, 2, 3, 4, 5, 6, 7, 22}\n",
      "{1, 2, 3, 4, 22}\n",
      "{3, 4, 5, 6, 7}\n"
     ]
    }
   ],
   "source": [
    "\"\"\"\n",
    "Use case:\n",
    "Agar tumhare paas do logon ki skill sets hain aur tum dono ka combined skill set dekhna chahte ho:\n",
    "Union method in which the sequence wise values are print doublicate values print only once\n",
    "ombines both set values and return new values\n",
    "\"\"\"\n",
    "set1={1,2,3,4 , 3,2,22,1,2}\n",
    "set2={3,4,5,6,7}\n",
    "print(set1.union(set2))\n",
    "print(set1)\n",
    "print(set2)\n"
   ]
  },
  {
   "cell_type": "code",
   "execution_count": 6,
   "id": "e2cb1147-8efe-420f-966e-5c232c4b4e4a",
   "metadata": {},
   "outputs": [
    {
     "name": "stdout",
     "output_type": "stream",
     "text": [
      "{'SQL', 'C++', 'Python'}\n"
     ]
    }
   ],
   "source": [
    "skills_A = {\"Python\", \"SQL\"}\n",
    "skills_B = {\"C++\", \"Python\"}\n",
    "all_skills = skills_A.union(skills_B)\n",
    "print(all_skills)  "
   ]
  },
  {
   "cell_type": "code",
   "execution_count": 23,
   "id": "bc77d794-f8b8-4a83-94f5-776d4395c6f8",
   "metadata": {},
   "outputs": [
    {
     "name": "stdout",
     "output_type": "stream",
     "text": [
      "{3, 4}\n",
      "{1, 2, 3, 4}\n",
      "{3, 4, 5, 6, 7}\n"
     ]
    }
   ],
   "source": [
    "# Intersection values in which comman values are print of combine set..    combines comman values and return new\n",
    "set1={1,2,3,4}\n",
    "set2={3,4,5,6,7}\n",
    "print(set1.intersection(set2))\n",
    "print(set1)\n",
    "print(set2)"
   ]
  },
  {
   "cell_type": "code",
   "execution_count": 4,
   "id": "8e3ab8d9-8426-4f7f-83c5-bce524d28b79",
   "metadata": {},
   "outputs": [
    {
     "name": "stdout",
     "output_type": "stream",
     "text": [
      "{'Ahmed', 'Sara'}\n"
     ]
    }
   ],
   "source": [
    "\"\"\"\n",
    "Use case:\n",
    "Common students jo 2 courses mein enrolled hai\n",
    "\"\"\"\n",
    "course_A = {\"Ali\", \"Sara\", \"Ahmed\"}\n",
    "course_B = {\"Ahmed\", \"Bilal\", \"Sara\"}\n",
    "common = course_A.intersection(course_B)\n",
    "print(common)   # {'Ahmed', 'Sara'}\n"
   ]
  },
  {
   "cell_type": "markdown",
   "id": "b73f873b-a40e-4ebc-b48e-db48f6f66ef5",
   "metadata": {},
   "source": [
    "# Practice exercise questions :"
   ]
  },
  {
   "cell_type": "code",
   "execution_count": 25,
   "id": "b91becee-f5f0-452e-a078-141d362b4cdb",
   "metadata": {},
   "outputs": [
    {
     "name": "stdout",
     "output_type": "stream",
     "text": [
      "5\n",
      "{'java', 'javascript', 'c', 'python', 'c++'}\n"
     ]
    }
   ],
   "source": [
    "# Practice questions 2  in which the comman subject print only once because sets not allow duplicates value\n",
    "set={\"python\", \"java\", \"c++\", \"python\", \"javascript\", \"java\", \"python\", \"java\", \"c++\", \"c\"}\n",
    "print(len(set))\n",
    "print(set)"
   ]
  },
  {
   "cell_type": "code",
   "execution_count": 47,
   "id": "50746cb2-c052-457e-a2ce-f1f116abc0af",
   "metadata": {},
   "outputs": [
    {
     "name": "stdout",
     "output_type": "stream",
     "text": [
      "{9}\n",
      "{9, '9.0'}\n",
      "{('int', 9), ('float', 9.0)}\n"
     ]
    }
   ],
   "source": [
    "# figure out the way in the the value 9 and 9.0 as separet store in set ... IMP... the set compiler understand equal of 9 and 9.0\n",
    "# here are two ways to write this code First.\n",
    "\n",
    "values={9, 9.0}\n",
    "print(values)\n",
    "\n",
    "values={9, \"9.0\"}\n",
    "print(values)\n",
    "\n",
    "# 2nd way\n",
    "values={\n",
    "    (\"int\", 9),\n",
    "    (\"float\",9.0)\n",
    "}\n",
    "print(values)\n"
   ]
  },
  {
   "cell_type": "code",
   "execution_count": 48,
   "id": "5849bae9-e1ca-4682-82e8-44f26ed81fdb",
   "metadata": {},
   "outputs": [
    {
     "name": "stdout",
     "output_type": "stream",
     "text": [
      "{1, 2, 3, 4, 24, 43}\n"
     ]
    }
   ],
   "source": [
    "# practice byself\n",
    "set={24,5,5,6,6,43,2,1}\n",
    "set.add(3)\n",
    "set.add(4)\n",
    "set.remove(5)\n",
    "set.remove(6)\n",
    "print(set)"
   ]
  },
  {
   "cell_type": "code",
   "execution_count": 1,
   "id": "0307b01e-ca2e-4f95-af42-20d18214031d",
   "metadata": {},
   "outputs": [
    {
     "name": "stdout",
     "output_type": "stream",
     "text": [
      "Original Set: {1, 2, 3, 4, 5}\n",
      "After Adding 6: {1, 2, 3, 4, 5, 6}\n",
      "After Removing 3: {1, 2, 4, 5, 6}\n",
      "Union: {1, 2, 3, 4, 5}\n",
      "Intersection: {3}\n",
      "Difference: {1, 2}\n"
     ]
    }
   ],
   "source": [
    "# Creating a set\n",
    "my_set = {1, 2, 3, 4, 5}\n",
    "print(\"Original Set:\", my_set)\n",
    "\n",
    "# Adding elements\n",
    "my_set.add(6)\n",
    "print(\"After Adding 6:\", my_set)\n",
    "\n",
    "# Removing elements\n",
    "my_set.remove(3)\n",
    "print(\"After Removing 3:\", my_set)\n",
    "\n",
    "# Set operations\n",
    "set1 = {1, 2, 3}\n",
    "set2 = {3, 4, 5}\n",
    "print(\"Union:\", set1.union(set2))\n",
    "print(\"Intersection:\", set1.intersection(set2))\n",
    "print(\"Difference:\", set1.difference(set2))\n"
   ]
  },
  {
   "cell_type": "code",
   "execution_count": 65,
   "id": "ede2cc3b-64a6-4e11-a5ce-fb366a4429a3",
   "metadata": {},
   "outputs": [
    {
     "name": "stdout",
     "output_type": "stream",
     "text": [
      "frozenset({1, 2, 3, 4})\n"
     ]
    }
   ],
   "source": [
    "frozen = frozenset([1, 2, 3, 4])  \n",
    "print(frozen)  # Output: frozenset({1, 2, 3, 4})  \n",
    "\n",
    "# frozen.add(5)  # This will raise AttributeError as frozensets cannot be modified"
   ]
  },
  {
   "cell_type": "code",
   "execution_count": 3,
   "id": "6b805837-0757-4d32-afc4-e29c3bd5e5db",
   "metadata": {},
   "outputs": [
    {
     "name": "stdin",
     "output_type": "stream",
     "text": [
      "Enter words separed by spaces majid hussain rind\n"
     ]
    },
    {
     "name": "stdout",
     "output_type": "stream",
     "text": [
      "{'majid', 'hussain', 'rind'}\n"
     ]
    }
   ],
   "source": [
    "# create set form input\n",
    "input_str = input(\"Enter words separed by spaces\")\n",
    "words = set(input_str.split())\n",
    "print(words)"
   ]
  },
  {
   "cell_type": "code",
   "execution_count": 4,
   "id": "31bd944f-c030-4825-b0fa-cdb6a3857951",
   "metadata": {},
   "outputs": [
    {
     "name": "stdout",
     "output_type": "stream",
     "text": [
      "{'banana', 'grapes', 'mango', 'apple'}\n"
     ]
    }
   ],
   "source": [
    "# add and remove items\n",
    "fruits = {'banana', 'apple', 'mango'}\n",
    "fruits.add('grapes')\n",
    "fruits.discard('watermelon')        # because watermelon is not exit so discard can't give an error\n",
    "print(fruits)"
   ]
  },
  {
   "cell_type": "code",
   "execution_count": 28,
   "id": "3677810c-734f-4268-a9c6-187e4bcf0b97",
   "metadata": {},
   "outputs": [
    {
     "name": "stdout",
     "output_type": "stream",
     "text": [
      "2025-08-28 12:21:42.742472\n"
     ]
    }
   ],
   "source": [
    "import datetime\n",
    "today = datetime.datetime.today()\n",
    "print(today)\n"
   ]
  },
  {
   "cell_type": "code",
   "execution_count": null,
   "id": "3b078612-a611-4282-9ebf-57c90502b43b",
   "metadata": {},
   "outputs": [],
   "source": []
  }
 ],
 "metadata": {
  "kernelspec": {
   "display_name": "Python 3 (ipykernel)",
   "language": "python",
   "name": "python3"
  },
  "language_info": {
   "codemirror_mode": {
    "name": "ipython",
    "version": 3
   },
   "file_extension": ".py",
   "mimetype": "text/x-python",
   "name": "python",
   "nbconvert_exporter": "python",
   "pygments_lexer": "ipython3",
   "version": "3.12.4"
  }
 },
 "nbformat": 4,
 "nbformat_minor": 5
}
