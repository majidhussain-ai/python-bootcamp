{
 "cells": [
  {
   "cell_type": "markdown",
   "id": "2ebad086-d0c0-4de6-95a9-e23e0744d598",
   "metadata": {},
   "source": [
    "# Working with String from Basics to more advance :"
   ]
  },
  {
   "cell_type": "markdown",
   "id": "f8ab6daa-5224-4817-92fb-fb25982ffae6",
   "metadata": {},
   "source": [
    "### What is String in python :\n",
    "- A `string` is a sequence of characters enclosed in quotes (single ' ', double \" \", or triple quotes).\n",
    "- `Strings` can contain letters, numbers, symbols, and spaces, and are used to represent textual data in Python.\n",
    "\n",
    "  ### Where Strings Are Widely Used in Data Science:\n",
    "  - **1. Data Cleaning & Preprocessing:**\n",
    "- Handling text-based columns (like names, addresses, product IDs).\n",
    "- **Example:** trimming spaces, converting to lowercase, replacing words.\n",
    "\n",
    "- **2.Categorical Data Handling:**\n",
    "- `Labels`, `categories`, or `classes` are often stored as strings before being encoded into numbers for `machine learning models`.\n",
    "\n",
    "- **3. Text Analytics / NLP:**\n",
    "- Working with unstructured text data (tweets, reviews, articles) requires string manipulation, tokenization, and cleaning.\n",
    "\n",
    "- **4. File Paths & API Calls:**\n",
    "- Reading file paths, URLs, or JSON keys, which are typically strings.\n",
    "\n",
    "- **5. Reporting & Visualization:**\n",
    "- Titles, labels, annotations in plots or dashboards are strings."
   ]
  },
  {
   "cell_type": "code",
   "execution_count": 9,
   "id": "0c36bf7d-0aa4-4e15-ad4a-8e62f492d1f6",
   "metadata": {},
   "outputs": [
    {
     "name": "stdout",
     "output_type": "stream",
     "text": [
      "This is multi-line\n",
      "string that I can write documentation of any code \n",
      "and for readable actually what's code addressing\n"
     ]
    }
   ],
   "source": [
    "name = \"Majid Hussain\"\n",
    "msg = 'Welcome to Data Analytics'\n",
    "multi_line = \"\"\"This is multi-line\n",
    "string that I can write documentation of any code \n",
    "and for readable actually what's code addressing\"\"\"\n",
    "# print(name)\n",
    "# print(msg)\n",
    "print(multi_line)"
   ]
  },
  {
   "cell_type": "code",
   "execution_count": 4,
   "id": "bde815da-d2d7-4798-8200-cdce069faaa1",
   "metadata": {},
   "outputs": [
    {
     "name": "stdout",
     "output_type": "stream",
     "text": [
      "Data Science\n"
     ]
    }
   ],
   "source": [
    "first = \"Data\"\n",
    "second = \"Science\"\n",
    "print(first + \" \" + second)  # Data Science\n"
   ]
  },
  {
   "cell_type": "code",
   "execution_count": 11,
   "id": "468174cb-aa1c-43a0-88dc-bf79ffd313bb",
   "metadata": {},
   "outputs": [
    {
     "name": "stdout",
     "output_type": "stream",
     "text": [
      "MajidHussain\n"
     ]
    }
   ],
   "source": [
    " # concatenate of string\n",
    "str1=\"Majid\"\n",
    "str2=\"Hussain\"\n",
    "final_string=str1+str2\n",
    "print(final_string)"
   ]
  },
  {
   "cell_type": "code",
   "execution_count": 6,
   "id": "1f283e2f-32f9-4ee9-b1c8-173c4258c4be",
   "metadata": {},
   "outputs": [
    {
     "ename": "TypeError",
     "evalue": "'str' object does not support item assignment",
     "output_type": "error",
     "traceback": [
      "\u001b[1;31m---------------------------------------------------------------------------\u001b[0m",
      "\u001b[1;31mTypeError\u001b[0m                                 Traceback (most recent call last)",
      "Cell \u001b[1;32mIn[6], line 3\u001b[0m\n\u001b[0;32m      1\u001b[0m \u001b[38;5;66;03m# Because string is immutable so that's why it gives an error if we want to modify string we create new string \u001b[39;00m\n\u001b[0;32m      2\u001b[0m text \u001b[38;5;241m=\u001b[39m \u001b[38;5;124m'\u001b[39m\u001b[38;5;124mkaleel\u001b[39m\u001b[38;5;124m'\u001b[39m\n\u001b[1;32m----> 3\u001b[0m text[\u001b[38;5;241m0\u001b[39m] \u001b[38;5;241m=\u001b[39m \u001b[38;5;124m'\u001b[39m\u001b[38;5;124mj\u001b[39m\u001b[38;5;124m'\u001b[39m\n\u001b[0;32m      4\u001b[0m text\n",
      "\u001b[1;31mTypeError\u001b[0m: 'str' object does not support item assignment"
     ]
    }
   ],
   "source": [
    "# Because string is immutable so that's why it gives an error if we want to modify string we create new string \n",
    "text = 'kaleel'\n",
    "text[0] = 'j'\n",
    "text"
   ]
  },
  {
   "cell_type": "code",
   "execution_count": 8,
   "id": "dc5e679c-78e0-46bc-b45d-ea25cce58708",
   "metadata": {},
   "outputs": [
    {
     "data": {
      "text/plain": [
       "'jaleel'"
      ]
     },
     "execution_count": 8,
     "metadata": {},
     "output_type": "execute_result"
    }
   ],
   "source": [
    "# here we create new str variable then we modify but not in original\n",
    "text = 'kaleel'\n",
    "text = 'j' + text[1:]\n",
    "text"
   ]
  },
  {
   "cell_type": "code",
   "execution_count": 12,
   "id": "2e22b2e0-9cd9-4b33-9ca4-d27e257917af",
   "metadata": {},
   "outputs": [
    {
     "name": "stdout",
     "output_type": "stream",
     "text": [
      "10\n"
     ]
    }
   ],
   "source": [
    "#find length of string\n",
    "str=\"RindBaloch\"\n",
    "print(len(str))\n"
   ]
  },
  {
   "cell_type": "markdown",
   "id": "c65d2ff8-2ea5-47af-82a9-d5052f58362b",
   "metadata": {},
   "source": [
    "# operations on string:\n",
    "- 1. Arithmatic operations\n",
    "- 2. logic operation\n",
    "- 3. Relation operator\n",
    "- 4. opps operation\n",
    "- 5. membership operations"
   ]
  },
  {
   "cell_type": "code",
   "execution_count": 1,
   "id": "0233c84d-f243-4574-b523-ce9a6a082b73",
   "metadata": {},
   "outputs": [
    {
     "name": "stdout",
     "output_type": "stream",
     "text": [
      "amir khan and amjad khan\n",
      "khankhankhankhankhan\n"
     ]
    }
   ],
   "source": [
    " #  Arithematic operation in string \n",
    "print(\"amir khan\" + \" and \"+ \"amjad khan\")\n",
    "\n",
    "print(\"khan\"*5)\n"
   ]
  },
  {
   "cell_type": "code",
   "execution_count": 2,
   "id": "6333f5a8-2e9e-4c8b-a601-ce9f942cefea",
   "metadata": {},
   "outputs": [
    {
     "data": {
      "text/plain": [
       "'world'"
      ]
     },
     "execution_count": 2,
     "metadata": {},
     "output_type": "execute_result"
    }
   ],
   "source": [
    "\"hello\" and \"world\"\n",
    "# here 'and' operator check whether first string is empty or not if first string is not empty then go to next if next is not empty then and operation print of second"
   ]
  },
  {
   "cell_type": "code",
   "execution_count": 3,
   "id": "5b609df0-dc34-451c-8bb5-dc0e4214b41e",
   "metadata": {},
   "outputs": [
    {
     "data": {
      "text/plain": [
       "'hello'"
      ]
     },
     "execution_count": 3,
     "metadata": {},
     "output_type": "execute_result"
    }
   ],
   "source": [
    "\"hello\" or \"world\"\n",
    "# Here comparison of OR operator which means first compiler go to first comparison word if first is non empty then print out this first one"
   ]
  },
  {
   "cell_type": "markdown",
   "id": "8499f98f-1b64-400c-9561-192ba4976dd6",
   "metadata": {},
   "source": [
    "# Functions in String :\n",
    "- count ()     \n",
    "- find()           \n",
    "- index()          \n",
    "- startswith()     \n",
    "- endswith()       \n",
    "- isalnum()       \n",
    "- isalpha()        \n",
    "- isdigit()        \n",
    "- isidentifier() "
   ]
  },
  {
   "cell_type": "code",
   "execution_count": 6,
   "id": "af66dfec-17a0-4734-b50d-1e37f08a8026",
   "metadata": {},
   "outputs": [
    {
     "data": {
      "text/plain": [
       "2"
      ]
     },
     "execution_count": 6,
     "metadata": {},
     "output_type": "execute_result"
    }
   ],
   "source": [
    "str= \"Hello World World\"\n",
    "str.count(\"World\")\n",
    "\n",
    "# By using of count function we find specific worlds or specific digits that in paragraph or article how mach time repeat"
   ]
  },
  {
   "cell_type": "code",
   "execution_count": 33,
   "id": "b8c2d44d-0899-4f19-afc9-7d2f5631dd61",
   "metadata": {},
   "outputs": [
    {
     "data": {
      "text/plain": [
       "7"
      ]
     },
     "execution_count": 33,
     "metadata": {},
     "output_type": "execute_result"
    }
   ],
   "source": [
    "str.find(\"orld\")\n",
    "\n",
    "# In find function we easily find world or digits that on which index is placed"
   ]
  },
  {
   "cell_type": "code",
   "execution_count": 34,
   "id": "f528fd9a-9295-495d-9cd7-51e7f0e9a838",
   "metadata": {},
   "outputs": [
    {
     "data": {
      "text/plain": [
       "2"
      ]
     },
     "execution_count": 34,
     "metadata": {},
     "output_type": "execute_result"
    }
   ],
   "source": [
    "str.index(\"l\")\n",
    "\n",
    "# this is similar to find but here is one more feature that if any world or digits is not found from given  paragrph it would give an error axcept of give -"
   ]
  },
  {
   "cell_type": "code",
   "execution_count": 3,
   "id": "6dae1c69-be49-48bf-9df0-afbb289651ae",
   "metadata": {},
   "outputs": [
    {
     "data": {
      "text/plain": [
       "True"
      ]
     },
     "execution_count": 3,
     "metadata": {},
     "output_type": "execute_result"
    }
   ],
   "source": [
    "str = \"Amir Khan\"\n",
    "str.endswith(\"n\")\n",
    "\n",
    "# this endswith function give an output if given world are exists in the given  paragraph . If not exists it will give error"
   ]
  },
  {
   "cell_type": "code",
   "execution_count": 5,
   "id": "0be85217-ca02-4102-b9e1-f5d53fcbc4ef",
   "metadata": {},
   "outputs": [
    {
     "data": {
      "text/plain": [
       "False"
      ]
     },
     "execution_count": 5,
     "metadata": {},
     "output_type": "execute_result"
    }
   ],
   "source": [
    "str.startswith(\"t\")\n",
    "# This is also give an output true if started digits are exists to given digits"
   ]
  },
  {
   "cell_type": "code",
   "execution_count": 1,
   "id": "183ac4d5-4a29-402d-b39f-02e509a0fed7",
   "metadata": {},
   "outputs": [
    {
     "name": "stdout",
     "output_type": "stream",
     "text": [
      "True\n"
     ]
    }
   ],
   "source": [
    "# most common String function that tells us endswith value is given or not output in True or False\n",
    "str= \"My name is majid hussain\"\n",
    "print(str.endswith(\"sain\"))"
   ]
  },
  {
   "cell_type": "code",
   "execution_count": 2,
   "id": "51b112dd-efeb-47d2-adc9-f216755e995b",
   "metadata": {},
   "outputs": [
    {
     "name": "stdout",
     "output_type": "stream",
     "text": [
      "True\n",
      "2\n",
      "6\n",
      "False\n"
     ]
    }
   ],
   "source": [
    "str = \"majid hussain\"\n",
    "data = str.startswith(\"majid\")\n",
    "print(data)\n",
    "\n",
    "print(str.count(\"s\"))\n",
    "print(str.index(\"h\"))\n",
    "print(str.isalpha())"
   ]
  },
  {
   "cell_type": "markdown",
   "id": "8df26580-ba12-49de-81a4-83f4a5010eb8",
   "metadata": {},
   "source": [
    "# Slicing in string:"
   ]
  },
  {
   "cell_type": "code",
   "execution_count": 27,
   "id": "2f36362e-9df2-4a56-96c3-4a56f621c307",
   "metadata": {},
   "outputs": [
    {
     "name": "stdout",
     "output_type": "stream",
     "text": [
      "M\n"
     ]
    }
   ],
   "source": [
    "# indexing in string\n",
    "# Find indexing using string \n",
    "str= \"Majid Hussain\"\n",
    "ch = str[0]\n",
    "print(ch)"
   ]
  },
  {
   "cell_type": "code",
   "execution_count": 30,
   "id": "25cf0f37-b00a-4adf-a701-1d421be02e21",
   "metadata": {},
   "outputs": [
    {
     "name": "stdout",
     "output_type": "stream",
     "text": [
      "Majid\n",
      "Hussain\n",
      "ssain\n",
      "ajid\n"
     ]
    }
   ],
   "source": [
    "# Using slicing string for print specific words or line from paragraph\n",
    "str= \"Majid Hussain\"\n",
    "print(str[:5])  \n",
    "print(str[6:])\n",
    "print(str[-5:]) \n",
    "print(str[1:5])"
   ]
  },
  {
   "cell_type": "markdown",
   "id": "3f255076-f60b-46f6-bcde-595685bc94cf",
   "metadata": {},
   "source": [
    "# New method of Format string :"
   ]
  },
  {
   "cell_type": "code",
   "execution_count": 6,
   "id": "78c105ce-f304-4f24-992a-e082f9a84b11",
   "metadata": {},
   "outputs": [
    {
     "name": "stdout",
     "output_type": "stream",
     "text": [
      " Hi my name is Khan and my gender is male \n"
     ]
    }
   ],
   "source": [
    "# FORMAT STRING NEW METHOD:   \n",
    "name=\"Khan\"\n",
    "gender = \"male\"\n",
    "# print(\" Hi my name is {1} and my gender is {0} \".format(gender, name))        #1st method\n",
    "\n",
    "# There are three ways to print format string \n",
    "print(\" Hi my name is {} and my gender is {} \".format(name, gender))          # 2nd method \n",
    "\n",
    "# print(f\"Hi my name is {name} and my gender is {gender}\")                        # 3rd method \n"
   ]
  },
  {
   "cell_type": "code",
   "execution_count": 38,
   "id": "1f70111c-4e0c-42f3-9c08-3eb59f2b462f",
   "metadata": {},
   "outputs": [
    {
     "name": "stdout",
     "output_type": "stream",
     "text": [
      "True\n"
     ]
    }
   ],
   "source": [
    "\n",
    "print(\"majidkhan3939\".isalnum())\n",
    "\n",
    "# Here alphanumeric means if all the given text based on characters strings and only numbers but if any special character included it will give error"
   ]
  },
  {
   "cell_type": "code",
   "execution_count": 7,
   "id": "cf60fa10-6323-4233-af3b-4918ab2f1415",
   "metadata": {},
   "outputs": [
    {
     "name": "stdout",
     "output_type": "stream",
     "text": [
      "True\n"
     ]
    }
   ],
   "source": [
    "print(\"majidkha\".isalpha())\n",
    "\n",
    "# Here give an output false which means that the given text is not only based on alphabit but also incuded numerical values"
   ]
  },
  {
   "cell_type": "code",
   "execution_count": 40,
   "id": "92cc8e66-01cf-4c3b-9a96-abcbdc5c4bb9",
   "metadata": {},
   "outputs": [
    {
     "name": "stdout",
     "output_type": "stream",
     "text": [
      "True\n"
     ]
    }
   ],
   "source": [
    "print(\"3939\".isdigit())\n",
    "\n",
    "# Output give True that means isdigit only understand digit numerical but if we only one character add then it will give output error"
   ]
  },
  {
   "cell_type": "code",
   "execution_count": 41,
   "id": "62e1bb3a-6f07-4d71-81bb-619d20d20667",
   "metadata": {},
   "outputs": [
    {
     "name": "stdout",
     "output_type": "stream",
     "text": [
      "True\n"
     ]
    }
   ],
   "source": [
    "# print(\"majidkhan3939\".isidentifier())\n",
    "print(\"majid_khan3939\".isidentifier())\n",
    "# print(\"majid-khan3939\".isalnum())     # this will give an error because here we used - special char means identifer have some rule \n",
    "\n",
    "# Here i used some identifier that some of them are valid identifier and some are not valid then compiler give an error"
   ]
  },
  {
   "cell_type": "code",
   "execution_count": 42,
   "id": "d47297d9-ae57-4124-b39e-3fa165119a23",
   "metadata": {},
   "outputs": [
    {
     "name": "stdout",
     "output_type": "stream",
     "text": [
      "H\n",
      "e\n",
      "l\n",
      "l\n",
      "o\n",
      " \n"
     ]
    }
   ],
   "source": [
    "# Loops using in string\n",
    "for i in \"Hello \":\n",
    "    print(i)"
   ]
  },
  {
   "cell_type": "code",
   "execution_count": 43,
   "id": "288094a4-ab32-460c-aa96-d78bb0998880",
   "metadata": {},
   "outputs": [
    {
     "name": "stdout",
     "output_type": "stream",
     "text": [
      "World\n",
      "World\n",
      "World\n",
      "World\n",
      "World\n",
      "World\n"
     ]
    }
   ],
   "source": [
    "for i in \"HelloK\":\n",
    "    print(\"World\")\n",
    "#  It means jitna character uppar for loop mein hon ge utna time ye print wali statement print ho gi"
   ]
  },
  {
   "cell_type": "code",
   "execution_count": 44,
   "id": "d5c119de-04e1-4756-95c2-07bbe019f060",
   "metadata": {},
   "outputs": [
    {
     "data": {
      "text/plain": [
       "True"
      ]
     },
     "execution_count": 44,
     "metadata": {},
     "output_type": "execute_result"
    }
   ],
   "source": [
    "# Membership Operator\n",
    "\"M\" in \"Majid\"\n"
   ]
  },
  {
   "cell_type": "code",
   "execution_count": 11,
   "id": "68d47632-9ff2-47e2-a608-e7eeabea2dce",
   "metadata": {},
   "outputs": [
    {
     "data": {
      "text/plain": [
       "False"
      ]
     },
     "execution_count": 11,
     "metadata": {},
     "output_type": "execute_result"
    }
   ],
   "source": [
    "\"i\" not in \"majid\".lower()\n",
    "# \"s\" not in \"majid\""
   ]
  },
  {
   "cell_type": "markdown",
   "id": "a78a7abe-88f8-4963-acf2-f0fb0f8cb17a",
   "metadata": {},
   "source": [
    "# Most popular Functions in string :\n",
    "- len/max/min/sorted\n",
    "- capitalize / title/ upper / lower / swapecase"
   ]
  },
  {
   "cell_type": "code",
   "execution_count": 8,
   "id": "0e85cbb5-5364-42ea-b227-8725d42258a6",
   "metadata": {},
   "outputs": [
    {
     "name": "stdout",
     "output_type": "stream",
     "text": [
      "H\n"
     ]
    }
   ],
   "source": [
    "# Common function applying on string like\n",
    "# 1.len     2.max       3.min      4.sorted \n",
    "str = \"Majid_Hussain\"\n",
    "# print(max(str))\n",
    "# Here using of maximum function it will give the output on the base of lexiographycally dictionary of oxfard\n",
    " \n",
    "print(min(str))\n",
    "# Here H is that minimum value because in oxfard dictionary capital digits is smaller than small digits abc > ABC"
   ]
  },
  {
   "cell_type": "code",
   "execution_count": 9,
   "id": "a2e21a36-b7b5-4289-b3d4-7976c3b4c2da",
   "metadata": {},
   "outputs": [
    {
     "data": {
      "text/plain": [
       "['H', 'M', '_', 'a', 'a', 'd', 'i', 'i', 'j', 'n', 's', 's', 'u']"
      ]
     },
     "execution_count": 9,
     "metadata": {},
     "output_type": "execute_result"
    }
   ],
   "source": [
    "# this will sort according to lexiography dictionary :\n",
    "sorted(str)"
   ]
  },
  {
   "cell_type": "code",
   "execution_count": 48,
   "id": "a6f1a094-8d11-48e2-856f-e75880eeb64a",
   "metadata": {},
   "outputs": [
    {
     "data": {
      "text/plain": [
       "['u', 's', 's', 'n', 'j', 'i', 'i', 'd', 'a', 'a', '_', 'M', 'H']"
      ]
     },
     "execution_count": 48,
     "metadata": {},
     "output_type": "execute_result"
    }
   ],
   "source": [
    "sorted(str , reverse=True)"
   ]
  },
  {
   "cell_type": "code",
   "execution_count": 49,
   "id": "9fdf2637-c785-4c74-9670-0e5fa40aec9d",
   "metadata": {},
   "outputs": [
    {
     "data": {
      "text/plain": [
       "'Majid_hussain'"
      ]
     },
     "execution_count": 49,
     "metadata": {},
     "output_type": "execute_result"
    }
   ],
   "source": [
    "# Some others function like \n",
    "# 1.Capitalize     2.tittle   3.uppar    4.lower    5. Swapecase\n",
    "str.capitalize()\n",
    "# It gives value first value of starting like capital even if you wrote wrong it will correct automatically by using capitalize function"
   ]
  },
  {
   "cell_type": "code",
   "execution_count": 50,
   "id": "d4d9f02d-03b2-45f9-8f84-ab574f32ef2c",
   "metadata": {},
   "outputs": [
    {
     "data": {
      "text/plain": [
       "'MAJID_HUSSAIN'"
      ]
     },
     "execution_count": 50,
     "metadata": {},
     "output_type": "execute_result"
    }
   ],
   "source": [
    "str.upper()\n",
    "# This function give output all capital characters even if you written all small"
   ]
  },
  {
   "cell_type": "code",
   "execution_count": 51,
   "id": "42430df4-2f6f-43c5-ba65-567ad483267a",
   "metadata": {},
   "outputs": [
    {
     "data": {
      "text/plain": [
       "'majid_hussain'"
      ]
     },
     "execution_count": 51,
     "metadata": {},
     "output_type": "execute_result"
    }
   ],
   "source": [
    "str.lower()\n",
    "# this function give output all characters in lower case even if you written randomaly "
   ]
  },
  {
   "cell_type": "code",
   "execution_count": 52,
   "id": "d404db53-f37a-4682-8e17-5832cc703737",
   "metadata": {},
   "outputs": [
    {
     "data": {
      "text/plain": [
       "'Majid_Hussain'"
      ]
     },
     "execution_count": 52,
     "metadata": {},
     "output_type": "execute_result"
    }
   ],
   "source": [
    "str.title()\n",
    "# this functon give an output like all first character of every world capital"
   ]
  },
  {
   "cell_type": "code",
   "execution_count": 53,
   "id": "0730b70f-c838-4269-932a-428cd7dbd131",
   "metadata": {},
   "outputs": [
    {
     "data": {
      "text/plain": [
       "'mAJID_hUSSAIN'"
      ]
     },
     "execution_count": 53,
     "metadata": {},
     "output_type": "execute_result"
    }
   ],
   "source": [
    "str.swapcase()\n",
    "# this fun give an output if written all capital it will gives all small but if you written randomaly capital and small mix then it will give small to capital and capital to samll"
   ]
  },
  {
   "cell_type": "markdown",
   "id": "afa81f3e-efa5-4fdb-b206-c0ce55bc53c1",
   "metadata": {},
   "source": [
    "# Advance level of Functions in string :\n",
    "- split() / join() / replace() / strip()"
   ]
  },
  {
   "cell_type": "code",
   "execution_count": 54,
   "id": "6077951b-bd52-4b27-85f8-dcc8cbd9e920",
   "metadata": {},
   "outputs": [
    {
     "name": "stdout",
     "output_type": "stream",
     "text": [
      "['Hai', 'amir', 'khan', 'kiya', 'hall', 'hai']\n"
     ]
    }
   ],
   "source": [
    "# Using of 1.split and 2.join  3.Replace   4. Strip function in string\n",
    "print(\"Hai amir khan kiya hall hai\" .split())\n",
    "# Here is used of split functin  which means it sparate the given text and any given value convert in list"
   ]
  },
  {
   "cell_type": "code",
   "execution_count": 9,
   "id": "019986c9-d5b0-474f-b1da-8f8e36b1b40d",
   "metadata": {},
   "outputs": [
    {
     "data": {
      "text/plain": [
       "'Hai  amir  khan  kiya  hall  hai'"
      ]
     },
     "execution_count": 9,
     "metadata": {},
     "output_type": "execute_result"
    }
   ],
   "source": [
    "\"  \".join(['Hai', 'amir', 'khan', 'kiya', 'hall', 'hai'])\n",
    "\n",
    "# Here using of join it again convert the original form that mean it convert the split form into original form"
   ]
  },
  {
   "cell_type": "code",
   "execution_count": 12,
   "id": "e6a006e7-d0db-46bf-b521-f591822c6f9c",
   "metadata": {},
   "outputs": [
    {
     "name": "stdout",
     "output_type": "stream",
     "text": [
      "Hai amjad khan ! What are you doing now ! hee what's up \n"
     ]
    }
   ],
   "source": [
    "str = \"Hai amir khan ! What are you doing now ! hee what's up \"\n",
    "result = str.replace(\"amir\", \"amjad\")\n",
    "print(result)\n"
   ]
  },
  {
   "cell_type": "code",
   "execution_count": 10,
   "id": "44a64c21-ae8a-42f9-bfe7-1615e9ae4330",
   "metadata": {},
   "outputs": [
    {
     "data": {
      "text/plain": [
       "\"Hai amir khan ! What are you doing now ! hee what's up\""
      ]
     },
     "execution_count": 10,
     "metadata": {},
     "output_type": "execute_result"
    }
   ],
   "source": [
    "str = \"           Hai amir khan ! What are you doing now ! hee what's up    \"\n",
    "str.strip()\n",
    "# print(str)\n",
    "#  this strip() funciton remove blank space bydefault left and right but if you want specific side there have lstrip() and rstrip()"
   ]
  },
  {
   "cell_type": "code",
   "execution_count": 13,
   "id": "aabc7f22-432c-4793-9bb6-549545dfb0ed",
   "metadata": {},
   "outputs": [
    {
     "name": "stdout",
     "output_type": "stream",
     "text": [
      "hai amir khan   what are you doing now   hee what s up\n",
      "Counter({'what': 2, 'hai': 1, 'amir': 1, 'khan': 1, 'are': 1, 'you': 1, 'doing': 1, 'now': 1, 'hee': 1, 's': 1, 'up': 1})\n"
     ]
    }
   ],
   "source": [
    "# removing unmeaningful characters, symbols which is most useful in NLP\n",
    "from collections import Counter\n",
    "import re\n",
    "str = \"           Hai amir khan ! What are you doing now ! hee what's up    \"\n",
    "clean = re.sub(r'[^\\w\\s]' , ' ' , str)\n",
    "result = clean.lower().strip()\n",
    "counter = Counter(result.split())\n",
    "\n",
    "print(result)\n",
    "print(counter)\n"
   ]
  },
  {
   "cell_type": "code",
   "execution_count": 58,
   "id": "7dcb2e45-be5b-4faa-a56c-7e707386b2de",
   "metadata": {},
   "outputs": [
    {
     "name": "stdout",
     "output_type": "stream",
     "text": [
      "    Hello ! world   \n"
     ]
    }
   ],
   "source": [
    "str = \"    Hello ! world   \"\n",
    "str.strip()\n",
    "\n",
    "# this function bydafault remove both side "
   ]
  },
  {
   "cell_type": "code",
   "execution_count": 59,
   "id": "483201a4-a7e5-46b2-9860-4e024c6710b6",
   "metadata": {},
   "outputs": [
    {
     "name": "stdout",
     "output_type": "stream",
     "text": [
      "    Hello ! world   \n"
     ]
    }
   ],
   "source": [
    "str.lstrip()\n",
    "print(str)"
   ]
  },
  {
   "cell_type": "code",
   "execution_count": 14,
   "id": "b97ad05d-183e-43bf-b355-cb15ced2290b",
   "metadata": {},
   "outputs": [
    {
     "data": {
      "text/plain": [
       "'hey my name is majid  '"
      ]
     },
     "execution_count": 14,
     "metadata": {},
     "output_type": "execute_result"
    }
   ],
   "source": [
    "raw_text = \" Hey My name Is Majid !!  \"\n",
    "clean_text = raw_text.strip().lower().replace(\"!!\", \" \")\n",
    "clean_text"
   ]
  },
  {
   "cell_type": "code",
   "execution_count": 15,
   "id": "570cf146-fedf-491b-9476-0bc7ac41b439",
   "metadata": {},
   "outputs": [
    {
     "data": {
      "text/plain": [
       "'Hey my name is majid '"
      ]
     },
     "execution_count": 15,
     "metadata": {},
     "output_type": "execute_result"
    }
   ],
   "source": [
    "raw_text = \" Hey My name Is Majid !!  \"\n",
    "clean_text = raw_text.strip().capitalize().replace(\"!!\", \"\")\n",
    "clean_text"
   ]
  },
  {
   "cell_type": "code",
   "execution_count": 16,
   "id": "4593c007-7259-4d50-97a6-27b1de2e3888",
   "metadata": {},
   "outputs": [
    {
     "name": "stdout",
     "output_type": "stream",
     "text": [
      "train.csv\n"
     ]
    }
   ],
   "source": [
    "# Extracting file name for ML dataset \n",
    "path = \"/home/user/data/train.csv\"\n",
    "filename = path.split(\"/\")[-1]\n",
    "print(filename) "
   ]
  },
  {
   "cell_type": "code",
   "execution_count": 17,
   "id": "2b5a952a-e2e1-4e90-9e14-8e7aad83c545",
   "metadata": {},
   "outputs": [
    {
     "name": "stdout",
     "output_type": "stream",
     "text": [
      "['I', 'love', 'machine', 'learning']\n"
     ]
    }
   ],
   "source": [
    "# Tokenizing text for NLP \n",
    "sentence = \"I love machine learning\"\n",
    "tokens = sentence.split()\n",
    "print(tokens)  # Output: ['I', 'love', 'machine', 'learning']"
   ]
  },
  {
   "cell_type": "code",
   "execution_count": 19,
   "id": "cb9e85af-5245-44f2-b0b1-feb08b717dd9",
   "metadata": {},
   "outputs": [
    {
     "name": "stdout",
     "output_type": "stream",
     "text": [
      "olleH\n"
     ]
    }
   ],
   "source": [
    "# take one string and reverse them without using slicing\n",
    "\n",
    "text = \"Hello\"\n",
    "reversed_text = \"\".join(reversed(text))\n",
    "print(reversed_text) "
   ]
  },
  {
   "cell_type": "code",
   "execution_count": 20,
   "id": "f711ac68-d2f2-4685-9a13-d9eb7ff8b4a0",
   "metadata": {},
   "outputs": [
    {
     "name": "stdout",
     "output_type": "stream",
     "text": [
      "olleH\n"
     ]
    }
   ],
   "source": [
    "# by using of slicing to convert inverse of text\n",
    "\n",
    "text = \"Hello\"\n",
    "print(text[::-1])"
   ]
  },
  {
   "cell_type": "code",
   "execution_count": 22,
   "id": "460a5d85-b797-4625-9b2c-8c4883ac167d",
   "metadata": {},
   "outputs": [
    {
     "name": "stdout",
     "output_type": "stream",
     "text": [
      "9\n"
     ]
    }
   ],
   "source": [
    "# Count vowels in any text. 1st method\n",
    "counter = 0\n",
    "text = \"Hey my name is majid hussain\"\n",
    "vowels = \"aeiou\"\n",
    "for txt in text.lower():\n",
    "    if txt in vowels:\n",
    "        counter+=1\n",
    "    else:\n",
    "        continue\n",
    "\n",
    "print(counter)"
   ]
  },
  {
   "cell_type": "code",
   "execution_count": 21,
   "id": "a3b5b34d-a1e1-4b15-94d9-ac26031a3231",
   "metadata": {},
   "outputs": [
    {
     "name": "stdout",
     "output_type": "stream",
     "text": [
      "10\n"
     ]
    }
   ],
   "source": [
    "# count vowels in given strings, list\n",
    "text = \"Hello majid hussian KiYa Hall\"\n",
    "vowels = sum(1 for char in text.lower() if char in 'aeiou')\n",
    "print(vowels)"
   ]
  },
  {
   "cell_type": "code",
   "execution_count": 23,
   "id": "72197875-31e0-4c78-a3ce-95109ef25b4f",
   "metadata": {},
   "outputs": [
    {
     "name": "stdout",
     "output_type": "stream",
     "text": [
      "Enter your name : machine learning\n"
     ]
    },
    {
     "name": "stdout",
     "output_type": "stream",
     "text": [
      "gninrael enihcam\n"
     ]
    }
   ],
   "source": [
    "# Convert any name you give into reverse\n",
    "\n",
    "user_name = input(\"Enter your name :\")\n",
    "reversed_text = \"\"\n",
    "for char in user_name:\n",
    "    reversed_text = char + reversed_text\n",
    "print(reversed_text)"
   ]
  },
  {
   "cell_type": "code",
   "execution_count": 25,
   "id": "5245959b-2971-44dc-9c09-d975a42e6ef4",
   "metadata": {},
   "outputs": [
    {
     "name": "stdout",
     "output_type": "stream",
     "text": [
      "Becoming a machine learning engineer\n",
      "reenigne gninrael enihcam a gnimoceB\n"
     ]
    }
   ],
   "source": [
    "# this method accroding to join and reversed method\n",
    "\n",
    "text = \"Becoming a machine learning engineer\"\n",
    "reversed_text = \"\".join(reversed(text))\n",
    "print(text)\n",
    "print(reversed_text)"
   ]
  },
  {
   "cell_type": "code",
   "execution_count": 26,
   "id": "480fa027-8273-4a4c-9c90-f601edc200a9",
   "metadata": {},
   "outputs": [
    {
     "name": "stdout",
     "output_type": "stream",
     "text": [
      "Enter your name:  Becoming a machine learning engineer \n"
     ]
    },
    {
     "name": "stdout",
     "output_type": "stream",
     "text": [
      "Reversed name:  reenigne gninrael enihcam a gnimoceB\n",
      "Time taken: 0.0 seconds\n"
     ]
    }
   ],
   "source": [
    "# 3rd method and fast method \n",
    "import time\n",
    "\n",
    "user_name = input(\"Enter your name: \")\n",
    "\n",
    "start_time = time.time()\n",
    "reversed_text = user_name[::-1]\n",
    "end_time = time.time()\n",
    "\n",
    "print(\"Reversed name:\", reversed_text)\n",
    "print(f\"Time taken: {end_time - start_time} seconds\")\n"
   ]
  },
  {
   "cell_type": "markdown",
   "id": "4ba788be-8fa5-477b-ae72-31b4336902db",
   "metadata": {},
   "source": [
    "# Exercises:\n",
    "# Q1."
   ]
  },
  {
   "cell_type": "code",
   "execution_count": 5,
   "id": "b85bf4af-1b20-4810-8eb8-be2859eab50b",
   "metadata": {},
   "outputs": [
    {
     "name": "stdout",
     "output_type": "stream",
     "text": [
      "Enter string  majid hussain rind\n"
     ]
    },
    {
     "name": "stdout",
     "output_type": "stream",
     "text": [
      "The length of string is : 18\n"
     ]
    }
   ],
   "source": [
    "# Q1. find the length of string without using len() function \n",
    "str = input(\"Enter string \")\n",
    "counter = 0\n",
    "for i in str:\n",
    "    counter +=1\n",
    "print(\"The length of string is :\", counter)"
   ]
  },
  {
   "cell_type": "code",
   "execution_count": 13,
   "id": "a314035a-753e-4b1c-8847-f8531874980a",
   "metadata": {},
   "outputs": [
    {
     "name": "stdout",
     "output_type": "stream",
     "text": [
      "Enter any string : Majid Hussain\n"
     ]
    },
    {
     "name": "stdout",
     "output_type": "stream",
     "text": [
      "The length of user input is : 13\n"
     ]
    }
   ],
   "source": [
    "# Second method to find length with len function\n",
    "str = input(\"Enter any string :\")\n",
    "string_length = len(str)\n",
    "print(\"The length of user input is :\", string_length )"
   ]
  },
  {
   "cell_type": "markdown",
   "id": "64da763e-1a59-4ad6-8738-56df4795d615",
   "metadata": {},
   "source": [
    "# Q2."
   ]
  },
  {
   "cell_type": "code",
   "execution_count": 14,
   "id": "0b9e5b88-53ef-415d-bf58-8ac9897753b9",
   "metadata": {},
   "outputs": [
    {
     "name": "stdout",
     "output_type": "stream",
     "text": [
      "Enter the user email majidhussain3897@gmail.com\n"
     ]
    },
    {
     "name": "stdout",
     "output_type": "stream",
     "text": [
      "majidhussain3897\n"
     ]
    }
   ],
   "source": [
    "#Q2. Extract the username from the given email \n",
    "# Example Em is majidhussain38rind@gmail.com\n",
    "# then the username is majidhussain38rind\n",
    "user_email = input(\"Enter the user email\")\n",
    "position = user_email.index(\"@\")\n",
    "print(user_email[0 : position])"
   ]
  },
  {
   "cell_type": "markdown",
   "id": "9789c5f6-2ab1-4b34-a43a-80c1c9d22bb9",
   "metadata": {},
   "source": [
    "# Q3."
   ]
  },
  {
   "cell_type": "code",
   "execution_count": 21,
   "id": "132e31d8-cc44-491f-a69e-ab0c63131ef3",
   "metadata": {},
   "outputs": [
    {
     "name": "stdout",
     "output_type": "stream",
     "text": [
      "Enter any string : majid hussain hussain hussain hussain\n",
      "What would you like to find :  s\n"
     ]
    },
    {
     "name": "stdout",
     "output_type": "stream",
     "text": [
      "s is repeated 8 time \n"
     ]
    }
   ],
   "source": [
    "# Q3. count the frequency of a particular string in a provided data\n",
    "# Example \" Hai my name is majid hussain ! what's your name\" here the frequency of 'h' is 3\n",
    "\n",
    "str = input(\"Enter any string :\")\n",
    "term = input(\"What would you like to find : \")\n",
    "counter = 0\n",
    "for i in str:\n",
    "    if i== term: \n",
    "        counter +=1\n",
    "print(f\"{term} is repeated {counter} time \")"
   ]
  },
  {
   "cell_type": "code",
   "execution_count": 25,
   "id": "b8e44c93-fb07-419c-b305-7272f757ff95",
   "metadata": {},
   "outputs": [
    {
     "name": "stdout",
     "output_type": "stream",
     "text": [
      "4\n",
      "4\n",
      "The 4 value is repeated 2 time \n"
     ]
    }
   ],
   "source": [
    "num = [1,2,3,4,5,5,4,2]\n",
    "find = 4\n",
    "counter = 0\n",
    "for n in num:\n",
    "    if find == n:\n",
    "        print(find)\n",
    "        counter +=1\n",
    "\n",
    "print(f\"The {find} value is repeated {counter} times \")"
   ]
  },
  {
   "cell_type": "markdown",
   "id": "1410b1ee-68ed-46e7-b423-4592525c61a9",
   "metadata": {},
   "source": [
    "# Q4."
   ]
  },
  {
   "cell_type": "code",
   "execution_count": 21,
   "id": "407dd6ee-bd16-4181-b640-a2f96e892035",
   "metadata": {},
   "outputs": [
    {
     "name": "stdout",
     "output_type": "stream",
     "text": [
      "enter any string : majidhussainrindb\n",
      "what would you like to remove: b\n"
     ]
    },
    {
     "name": "stdout",
     "output_type": "stream",
     "text": [
      " Your particular digit of: b :was deleted from the last of: majidhussainrindb : and remaining result is:  majidhussainrind :\n"
     ]
    }
   ],
   "source": [
    "# Q4. WAP which can remove a particular charater from a string\n",
    "str = input(\"enter any string :\")\n",
    "term = input(\"what would you like to remove:\")\n",
    "result = \" \"\n",
    "for i in str:\n",
    "    if i != term:\n",
    "        result = result + i\n",
    "print(f\" Your particular digit of: {term} :was deleted from the last of: {str} : and remaining result is: {result } :\")\n",
    "\n",
    "# Here is only del one character instead of words or snpit code"
   ]
  },
  {
   "cell_type": "markdown",
   "id": "5c60a03e-6841-49b2-9d94-1dd8798a4b2f",
   "metadata": {},
   "source": [
    "# Q5."
   ]
  },
  {
   "cell_type": "code",
   "execution_count": 27,
   "id": "196508e1-0670-41af-9169-b63c0eed3e54",
   "metadata": {},
   "outputs": [
    {
     "name": "stdout",
     "output_type": "stream",
     "text": [
      "Enter your string value to check whether it is palindrome or not : majid\n"
     ]
    },
    {
     "name": "stdout",
     "output_type": "stream",
     "text": [
      "Not a palindrome\n"
     ]
    }
   ],
   "source": [
    "# WAP that can check wheiter a given string is palindrome or not : This is whose we can read it from backword or rightword expale ; maam , 12321 , malayalam \n",
    "str = input(\"Enter your string value to check whether it is palindrome or not :\")\n",
    "flag = True\n",
    "for i in range(0,len(str)//2):\n",
    "    if str[i] == str[len(str) - i -1]:\n",
    "        flag = False\n",
    "        print(\"Palindrome\")\n",
    "        break\n",
    "    \n",
    "if flag:\n",
    "    print(\"Not a palindrome\")\n",
    "    "
   ]
  },
  {
   "cell_type": "code",
   "execution_count": 10,
   "id": "22b7abb8-8401-4030-bee9-b91f690d1eca",
   "metadata": {},
   "outputs": [
    {
     "name": "stdout",
     "output_type": "stream",
     "text": [
      "Enter your string value to check whether it is palindrome or not:  mjkikj\n"
     ]
    },
    {
     "name": "stdout",
     "output_type": "stream",
     "text": [
      "Not a palindrome\n"
     ]
    }
   ],
   "source": [
    "# this is in list comprehension code of palindrome\n",
    "\n",
    "str1 = input(\"Enter your string value to check whether it is palindrome or not: \")\n",
    "\n",
    "print(\"Palindrome\" if str1 == str1[::-1] else \"Not a palindrome\")\n"
   ]
  },
  {
   "cell_type": "code",
   "execution_count": 16,
   "id": "c8190450-f87e-4409-beae-1dc699016a7b",
   "metadata": {},
   "outputs": [
    {
     "name": "stdout",
     "output_type": "stream",
     "text": [
      "Enter your string value to check whether it is palindrome or not : maam\n"
     ]
    },
    {
     "name": "stdout",
     "output_type": "stream",
     "text": [
      "palindrome\n"
     ]
    }
   ],
   "source": [
    "str = input(\"Enter your string value to check whether it is palindrome or not :\")\n",
    "copy_str = str[::-1]\n",
    "# copy_str.reverse()\n",
    "if copy_str == str :\n",
    "    print(\"palindrome\")\n",
    "else:\n",
    "    print(\" Non palindrome\")"
   ]
  },
  {
   "cell_type": "markdown",
   "id": "7bdaadd2-6eb6-4fe2-8c41-d428f0f8e4a8",
   "metadata": {},
   "source": [
    "# Q."
   ]
  },
  {
   "cell_type": "code",
   "execution_count": 22,
   "id": "c37ab459-1fd0-4de4-9acf-946283ab4de3",
   "metadata": {},
   "outputs": [
    {
     "name": "stdout",
     "output_type": "stream",
     "text": [
      "palindrome\n"
     ]
    }
   ],
   "source": [
    "# Practice2: WAP to check if a list contain palindrome of elements.  Here palindrome mean if we write Ma'am and learn reverse and sort it will equal and\n",
    "#if we write a list [1,2,3,4,3,2,1] it is a palindrome list \n",
    "list1=[1,2,3,3, 2, 1,]\n",
    "copy_list1=list1.copy()\n",
    "copy_list1.reverse()\n",
    "if(copy_list1 == list1):\n",
    "   print(\"palindrome\")\n",
    "else:\n",
    "     print(\"Non palindrome\")\n",
    "\n",
    "# Here if we write a list [ 1,2,3,3,2,1] it tell us this is not palindrome but if this value written in double couts it will tell us it is a palindrome"
   ]
  },
  {
   "cell_type": "markdown",
   "id": "f64b07b9-49ba-4336-8b48-eab0a0581c02",
   "metadata": {},
   "source": [
    "# Q6."
   ]
  },
  {
   "cell_type": "code",
   "execution_count": 4,
   "id": "18d871bb-9a2c-4231-ac1b-29842ab27917",
   "metadata": {},
   "outputs": [
    {
     "name": "stdout",
     "output_type": "stream",
     "text": [
      "enter the string : majid hussain how are you\n"
     ]
    },
    {
     "name": "stdout",
     "output_type": "stream",
     "text": [
      "[' majid', ' hussain', ' how', ' are', ' you']\n"
     ]
    }
   ],
   "source": [
    "# Write a program to count the number of string without split function.\n",
    "str = input(\"enter the string :\")\n",
    "l = []\n",
    "temp = \" \"\n",
    "for i in str:\n",
    "    if i != \" \":\n",
    "        temp +=i\n",
    "    else: \n",
    "        l.append(temp)\n",
    "        temp = \" \"\n",
    "l.append(temp)\n",
    "print(l)"
   ]
  },
  {
   "cell_type": "markdown",
   "id": "54cc2592-6251-4fa0-a732-8adeb156632a",
   "metadata": {},
   "source": [
    "# 2nd method with split function:"
   ]
  },
  {
   "cell_type": "code",
   "execution_count": 8,
   "id": "d49bbb42-c5cd-4348-8e22-71083b6b6f61",
   "metadata": {},
   "outputs": [
    {
     "name": "stdout",
     "output_type": "stream",
     "text": [
      "Enter your string : how are you majid hussain ? What you doing ? why you live sad\n"
     ]
    },
    {
     "name": "stdout",
     "output_type": "stream",
     "text": [
      "['how', 'are', 'you', 'majid', 'hussain', '?', 'What', 'you', 'doing', '?', 'why', 'you', 'live', 'sad']\n"
     ]
    }
   ],
   "source": [
    "str = input(\"Enter your string :\")\n",
    "data =str.split()\n",
    "print(data)\n"
   ]
  },
  {
   "cell_type": "markdown",
   "id": "c88f1c02-8193-4871-b396-292da32806d0",
   "metadata": {},
   "source": [
    "# Q7. "
   ]
  },
  {
   "cell_type": "code",
   "execution_count": 16,
   "id": "9a8770ac-8fa8-4768-b437-61b322a56011",
   "metadata": {},
   "outputs": [
    {
     "name": "stdout",
     "output_type": "stream",
     "text": [
      "Enter the string : majid hussain rind baloch\n"
     ]
    },
    {
     "name": "stdout",
     "output_type": "stream",
     "text": [
      "Majid Hussain Rind Baloch\n"
     ]
    }
   ],
   "source": [
    "# Write a program to convert a string into title case without using of title() function :\n",
    "str = input(\"Enter the string :\")\n",
    "l = []\n",
    "for i in str.split():\n",
    "    l.append(i[0].upper() + i[1: ].lower())\n",
    "print(\" \".join(l))"
   ]
  },
  {
   "cell_type": "markdown",
   "id": "b81ff716-2431-41bf-8892-521b107ffb29",
   "metadata": {},
   "source": [
    "# 2nd method to solve with title function."
   ]
  },
  {
   "cell_type": "code",
   "execution_count": 10,
   "id": "c14db6f8-d5ca-4946-96bd-812b702c32fd",
   "metadata": {},
   "outputs": [
    {
     "name": "stdout",
     "output_type": "stream",
     "text": [
      "How are you guys ? as you know my name is majid hussain  majid hussain how are you\n"
     ]
    },
    {
     "name": "stdout",
     "output_type": "stream",
     "text": [
      "Majid Hussain How Are You\n"
     ]
    }
   ],
   "source": [
    "str = input(\"How are you guys ? as you know my name is majid hussain \")\n",
    "data = str.title()\n",
    "print(data)"
   ]
  },
  {
   "cell_type": "markdown",
   "id": "35c48dcf-d775-428e-975f-88c063ead8d8",
   "metadata": {},
   "source": [
    "# Q8.\n"
   ]
  },
  {
   "cell_type": "code",
   "execution_count": 24,
   "id": "58a04563-e714-45a0-9416-820974991fe1",
   "metadata": {},
   "outputs": [
    {
     "name": "stdout",
     "output_type": "stream",
     "text": [
      "Enter inter value 39393\n"
     ]
    },
    {
     "name": "stdout",
     "output_type": "stream",
     "text": [
      "39393 \n",
      "<class 'str'>\n"
     ]
    }
   ],
   "source": [
    "# Write a program that convert an integer into string\n",
    "number = int(input(\"Enter inter value\"))\n",
    "digits = \"0123456789\"\n",
    "result = \" \"\n",
    "while number != 0:\n",
    "    result = digits[number%10] + result\n",
    "    number = number//10\n",
    "print(\" This is an \"result)\n",
    "print(type(result))"
   ]
  },
  {
   "cell_type": "code",
   "execution_count": 26,
   "id": "dcab8516-4077-499e-9f52-fe6c7e094ab3",
   "metadata": {},
   "outputs": [
    {
     "name": "stdout",
     "output_type": "stream",
     "text": [
      "140707083139512\n",
      "140707083139512\n"
     ]
    }
   ],
   "source": [
    "a = 1\n",
    "print(id(a))\n",
    "print(id(1))"
   ]
  },
  {
   "cell_type": "code",
   "execution_count": 14,
   "id": "0d245bca-e234-4c93-8834-3287771259c2",
   "metadata": {},
   "outputs": [
    {
     "name": "stdout",
     "output_type": "stream",
     "text": [
      "['__add__', '__class__', '__contains__', '__delattr__', '__dir__', '__doc__', '__eq__', '__format__', '__ge__', '__getattribute__', '__getitem__', '__getnewargs__', '__getstate__', '__gt__', '__hash__', '__init__', '__init_subclass__', '__iter__', '__le__', '__len__', '__lt__', '__mod__', '__mul__', '__ne__', '__new__', '__reduce__', '__reduce_ex__', '__repr__', '__rmod__', '__rmul__', '__setattr__', '__sizeof__', '__str__', '__subclasshook__', 'capitalize', 'casefold', 'center', 'count', 'encode', 'endswith', 'expandtabs', 'find', 'format', 'format_map', 'index', 'isalnum', 'isalpha', 'isascii', 'isdecimal', 'isdigit', 'isidentifier', 'islower', 'isnumeric', 'isprintable', 'isspace', 'istitle', 'isupper', 'join', 'ljust', 'lower', 'lstrip', 'maketrans', 'partition', 'removeprefix', 'removesuffix', 'replace', 'rfind', 'rindex', 'rjust', 'rpartition', 'rsplit', 'rstrip', 'split', 'splitlines', 'startswith', 'strip', 'swapcase', 'title', 'translate', 'upper', 'zfill']\n"
     ]
    }
   ],
   "source": [
    "print(dir(str))  # Lists all string methods"
   ]
  },
  {
   "cell_type": "code",
   "execution_count": null,
   "id": "c3a2d287-fd6c-4c9d-9032-14ec94965042",
   "metadata": {},
   "outputs": [],
   "source": []
  }
 ],
 "metadata": {
  "kernelspec": {
   "display_name": "Python 3 (ipykernel)",
   "language": "python",
   "name": "python3"
  },
  "language_info": {
   "codemirror_mode": {
    "name": "ipython",
    "version": 3
   },
   "file_extension": ".py",
   "mimetype": "text/x-python",
   "name": "python",
   "nbconvert_exporter": "python",
   "pygments_lexer": "ipython3",
   "version": "3.12.4"
  }
 },
 "nbformat": 4,
 "nbformat_minor": 5
}
