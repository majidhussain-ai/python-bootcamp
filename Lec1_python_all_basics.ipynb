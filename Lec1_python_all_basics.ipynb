{
 "cells": [
  {
   "cell_type": "markdown",
   "id": "ecce831f-0348-45e5-af8e-12445dfd37a3",
   "metadata": {},
   "source": [
    "## Core code of python :"
   ]
  },
  {
   "cell_type": "markdown",
   "id": "0049aa1f-ec84-4d58-aff0-a9e3ab70061b",
   "metadata": {},
   "source": [
    "### What is python :\n",
    "- `Python` is an interpreted, high-level programming language used in web, data science, machine learning, and automation.\n",
    "-  Its syntax is clean and readable.\n",
    "\n",
    "  "
   ]
  },
  {
   "cell_type": "code",
   "execution_count": 16,
   "id": "8e427c0b-0901-48d7-bbda-18089e8a2e3e",
   "metadata": {},
   "outputs": [
    {
     "name": "stdout",
     "output_type": "stream",
     "text": [
      "Majid Hussain is learning Python\n"
     ]
    }
   ],
   "source": [
    "# Printing text\n",
    "print(\"Majid Hussain is learning Python\")\n"
   ]
  },
  {
   "cell_type": "code",
   "execution_count": 17,
   "id": "b1f895ef-c861-4565-b31f-1f9d28553b26",
   "metadata": {},
   "outputs": [
    {
     "name": "stdout",
     "output_type": "stream",
     "text": [
      "3\n"
     ]
    }
   ],
   "source": [
    "# Type casting\n",
    "x = int(3.8)   # convert float to int\n",
    "print(x)"
   ]
  },
  {
   "cell_type": "code",
   "execution_count": 15,
   "id": "b635ee68-f29b-4b90-b992-9371961497d7",
   "metadata": {},
   "outputs": [
    {
     "name": "stdout",
     "output_type": "stream",
     "text": [
      "Majid 24 95.5\n"
     ]
    }
   ],
   "source": [
    "#Variables and data types\n",
    "age = 24           # integer\n",
    "score = 95.5       # float\n",
    "name = \"Majid\"     # string\n",
    "print(name, age, score)\n"
   ]
  },
  {
   "cell_type": "code",
   "execution_count": 3,
   "id": "bc45a469-342c-4a38-a67e-706803c52a0c",
   "metadata": {},
   "outputs": [
    {
     "name": "stdout",
     "output_type": "stream",
     "text": [
      "3\n",
      "4.5\n",
      "True\n",
      "Amir Khan\n"
     ]
    }
   ],
   "source": [
    "# print all types of datatypes in one print line we can do it easily\n",
    "print(3,4.5,True, \"Amir Khan\", sep=\"\\n\")"
   ]
  },
  {
   "cell_type": "code",
   "execution_count": 36,
   "id": "eec8a363-4530-4897-a368-ad5537b808ee",
   "metadata": {},
   "outputs": [
    {
     "name": "stdout",
     "output_type": "stream",
     "text": [
      "Hello\\World\n"
     ]
    }
   ],
   "source": [
    "print(\"Hello\", end=\"\\\\\")\n",
    "print(\"World\")"
   ]
  },
  {
   "cell_type": "code",
   "execution_count": 3,
   "id": "38ee8b08-6911-4304-8031-82a9c6cda63f",
   "metadata": {},
   "outputs": [
    {
     "name": "stdout",
     "output_type": "stream",
     "text": [
      "Hello_World\n"
     ]
    }
   ],
   "source": [
    "# by using new line function \n",
    "print(\"Hello\", end=\"_\")\n",
    "print(\"World\")"
   ]
  },
  {
   "cell_type": "code",
   "execution_count": 4,
   "id": "95871d17-14ba-44cd-ae0e-8d96753ee47d",
   "metadata": {},
   "outputs": [
    {
     "name": "stdout",
     "output_type": "stream",
     "text": [
      "1 2 3\n"
     ]
    }
   ],
   "source": [
    "# Stylish printing\n",
    "a,b,c=1,2,3\n",
    "print(a,b,c)"
   ]
  },
  {
   "cell_type": "code",
   "execution_count": 37,
   "id": "87a74382-d7a5-445b-b856-07c3c5d67106",
   "metadata": {},
   "outputs": [
    {
     "name": "stdout",
     "output_type": "stream",
     "text": [
      "329.32\n"
     ]
    }
   ],
   "source": [
    "# I can also use sum with iterables\n",
    "numbers = [124,6,3,53.32, 65, 53, 25]\n",
    "print(sum(numbers))"
   ]
  },
  {
   "cell_type": "markdown",
   "id": "1cc6a87f-e422-4f81-b41c-6c7049d8323a",
   "metadata": {},
   "source": [
    "### Operators:\n",
    "- Operators are symbols that perform operations on variables and values."
   ]
  },
  {
   "cell_type": "code",
   "execution_count": 4,
   "id": "147abcb8-6ef3-47ac-8415-118ab3a2258b",
   "metadata": {},
   "outputs": [
    {
     "name": "stdout",
     "output_type": "stream",
     "text": [
      "14\n",
      "12\n"
     ]
    }
   ],
   "source": [
    "a = 12\n",
    "b = 14\n",
    "# Arithmetic\n",
    "a + b\n",
    "a - b\n",
    "a * b\n",
    "a / b\n",
    "\n",
    "# Comparison\n",
    "a > b\n",
    "a == b\n",
    "\n",
    "# Logical\n",
    "print(a and b)\n",
    "print(a or b)\n",
    "# print(a not b)\n"
   ]
  },
  {
   "cell_type": "code",
   "execution_count": 24,
   "id": "90a7e4ef-3de2-40e9-81fb-abe65cabd08b",
   "metadata": {},
   "outputs": [
    {
     "name": "stdout",
     "output_type": "stream",
     "text": [
      "13 7 30 3.3333333333333335\n"
     ]
    }
   ],
   "source": [
    "# Arithematic operator:\n",
    "\"\"\"\n",
    "Arithmetic operators are used to perform mathematical operations on numbers (addition, subtraction, multiplication, division, etc.).\n",
    "\"\"\"\n",
    "a = 10\n",
    "b = 3\n",
    "print(a + b, a - b, a * b, a / b)\n",
    "\n"
   ]
  },
  {
   "cell_type": "code",
   "execution_count": 33,
   "id": "455da9d8-a78b-4994-9d05-88f40436391e",
   "metadata": {},
   "outputs": [
    {
     "name": "stdout",
     "output_type": "stream",
     "text": [
      "False\n",
      "True\n"
     ]
    }
   ],
   "source": [
    "# logical operator \n",
    "\"\"\"\n",
    "Logical operators combine conditional statements and return True or False.\n",
    "\"\"\"\n",
    "print(a > 5 and b < 5)\n",
    "print('Majid' in ['Majid','Amjad']) "
   ]
  },
  {
   "cell_type": "code",
   "execution_count": 30,
   "id": "169ce411-e3c4-4237-b4aa-cdb95775e6d4",
   "metadata": {},
   "outputs": [
    {
     "name": "stdout",
     "output_type": "stream",
     "text": [
      "True\n",
      "True\n",
      "True\n",
      "False\n"
     ]
    }
   ],
   "source": [
    "a = 5\n",
    "b = 10\n",
    "\n",
    "# and\n",
    "print(a > 0 and b > 0) \n",
    "\n",
    "# or\n",
    "print(a > 10 or b > 0)  \n",
    "\n",
    "# not\n",
    "print(not(a > 10))  \n",
    "\n",
    "# Combining\n",
    "print((a < 10) and (b < 5)) \n"
   ]
  },
  {
   "cell_type": "code",
   "execution_count": 34,
   "id": "92e956d8-7ff2-4ff7-87cd-1a32cb5896f2",
   "metadata": {},
   "outputs": [
    {
     "name": "stdout",
     "output_type": "stream",
     "text": [
      "False\n",
      "True\n",
      "False\n",
      "True\n"
     ]
    }
   ],
   "source": [
    "# comparison operator\n",
    "\"\"\"\n",
    "Comparison operators compare two values and return True or False.\n",
    "\"\"\"\n",
    "x = 10\n",
    "y = 20\n",
    "\n",
    "# Equal to\n",
    "print(x == y)  \n",
    "\n",
    "# Not equal to\n",
    "print(x != y) \n",
    "\n",
    "#  Greater than\n",
    "print(x > y)   \n",
    "\n",
    "# Less than or equal to\n",
    "print(x <= y) \n"
   ]
  },
  {
   "cell_type": "markdown",
   "id": "880d4bb7-e87f-4dfa-89c1-60df5ce00f2e",
   "metadata": {},
   "source": [
    "### identity operator:\n",
    "- Identity operators check whether two variables point to the same object in memory, not just equal values."
   ]
  },
  {
   "cell_type": "code",
   "execution_count": 32,
   "id": "72c2b70b-f0d5-4925-8898-d681ac5e1f98",
   "metadata": {},
   "outputs": [
    {
     "name": "stdout",
     "output_type": "stream",
     "text": [
      "True\n",
      "True\n",
      "True\n",
      "False\n",
      "True\n"
     ]
    }
   ],
   "source": [
    "x = [1,2,3]\n",
    "y = x\n",
    "z = [1,2,3]\n",
    "\n",
    "# is (same object)\n",
    "print(x is y) \n",
    "\n",
    "# is not (different object)\n",
    "print(x is not z)\n",
    "\n",
    "#  Value equality vs identity\n",
    "print(x == z) \n",
    "print(x is z)  \n",
    "\n",
    "# With immutable types\n",
    "a = 10\n",
    "b = 10\n",
    "print(a is b)  \n"
   ]
  },
  {
   "cell_type": "markdown",
   "id": "0e627c36-fb6f-40a6-bb35-0fcdd8d38422",
   "metadata": {},
   "source": [
    "### membership operators:\n",
    "- Membership operators check whether a value exists in a sequence (like list, tuple, string, dict)."
   ]
  },
  {
   "cell_type": "code",
   "execution_count": 35,
   "id": "e838b5be-d1ec-48eb-abbc-cfb2f643da1d",
   "metadata": {},
   "outputs": [
    {
     "name": "stdout",
     "output_type": "stream",
     "text": [
      "True\n",
      "True\n",
      "True\n",
      "True\n"
     ]
    }
   ],
   "source": [
    "friends = ['Majid Hussain','Amjad Hussain','Malik Usman']\n",
    "\n",
    "#  in (string in list)\n",
    "print('Majid Hussain' in friends)  \n",
    "\n",
    "# not in (string not in list)\n",
    "print('Tahir Hussain' not in friends)  \n",
    "\n",
    "# in (character in string)\n",
    "print('M' in 'Majid')  \n",
    "\n",
    "# not in (character not in string)\n",
    "print('z' not in 'Majid') \n"
   ]
  },
  {
   "cell_type": "markdown",
   "id": "3da1c85b-f41c-47ce-ad25-86bfd3dd9f4e",
   "metadata": {},
   "source": [
    "### Control flow:\n",
    "- Control flow decides which block of code runs (if/else) and how many times (loops)."
   ]
  },
  {
   "cell_type": "code",
   "execution_count": 13,
   "id": "c6a3e16a-e4e0-4347-9ce4-013d9d3606e1",
   "metadata": {},
   "outputs": [
    {
     "name": "stdout",
     "output_type": "stream",
     "text": [
      "Grade B\n"
     ]
    }
   ],
   "source": [
    "#If-Else\n",
    "marks = 85\n",
    "if marks >= 90:\n",
    "    print(\"Grade A\")\n",
    "elif marks >= 80:\n",
    "    print(\"Grade B\")\n",
    "else:\n",
    "    print(\"Grade C\")\n"
   ]
  },
  {
   "cell_type": "code",
   "execution_count": 12,
   "id": "ef5b75cd-5ea0-4d34-a9c5-ee666b68e0f0",
   "metadata": {},
   "outputs": [
    {
     "name": "stdout",
     "output_type": "stream",
     "text": [
      "Loop: 0\n",
      "Loop: 1\n",
      "Loop: 2\n"
     ]
    }
   ],
   "source": [
    "# While loop\n",
    "i = 0\n",
    "while i < 3:\n",
    "    print(\"Loop:\", i)\n",
    "    i += 1"
   ]
  },
  {
   "cell_type": "code",
   "execution_count": 20,
   "id": "db3fe6ff-cb6d-4046-aa78-5be82170155c",
   "metadata": {},
   "outputs": [
    {
     "name": "stdout",
     "output_type": "stream",
     "text": [
      "Amjad Hussain\n",
      "Amir Hussain\n"
     ]
    }
   ],
   "source": [
    "# For loop\n",
    "friends = ['Amjad Hussain','Amir Hussain']\n",
    "for friend in friends:\n",
    "    print(friend)\n"
   ]
  },
  {
   "cell_type": "code",
   "execution_count": 21,
   "id": "30ba631c-fe39-45aa-89be-3438a3eba76e",
   "metadata": {},
   "outputs": [
    {
     "name": "stdout",
     "output_type": "stream",
     "text": [
      "1\n",
      "2\n",
      "3\n",
      "4\n",
      "4\n",
      "5\n",
      "6\n"
     ]
    }
   ],
   "source": [
    "my_list = [1,2,3,4,4,5,6]\n",
    "for i in my_list:\n",
    "    print(i)"
   ]
  },
  {
   "cell_type": "code",
   "execution_count": 22,
   "id": "fdbb9a34-a7c8-473f-85b6-862061d8a2b0",
   "metadata": {},
   "outputs": [
    {
     "name": "stdout",
     "output_type": "stream",
     "text": [
      "white\n",
      "black\n",
      "red\n",
      "blue\n",
      "yellow\n",
      "cyan\n",
      "orange\n"
     ]
    }
   ],
   "source": [
    "colors = ['white', 'black', 'red', 'blue', 'yellow', 'cyan', 'orange']\n",
    "for i in colors:\n",
    "    print(i)"
   ]
  },
  {
   "cell_type": "code",
   "execution_count": 5,
   "id": "3368ac31-33a7-4971-ba4b-d2a60372b620",
   "metadata": {},
   "outputs": [
    {
     "name": "stdout",
     "output_type": "stream",
     "text": [
      "3 3 3\n"
     ]
    }
   ],
   "source": [
    "a=b=c = 3\n",
    "print(a,b,c)"
   ]
  },
  {
   "cell_type": "code",
   "execution_count": null,
   "id": "56e63ae6-be85-4c5d-9917-7ffd0a9d1d68",
   "metadata": {},
   "outputs": [],
   "source": []
  }
 ],
 "metadata": {
  "kernelspec": {
   "display_name": "Python 3 (ipykernel)",
   "language": "python",
   "name": "python3"
  },
  "language_info": {
   "codemirror_mode": {
    "name": "ipython",
    "version": 3
   },
   "file_extension": ".py",
   "mimetype": "text/x-python",
   "name": "python",
   "nbconvert_exporter": "python",
   "pygments_lexer": "ipython3",
   "version": "3.12.4"
  }
 },
 "nbformat": 4,
 "nbformat_minor": 5
}
