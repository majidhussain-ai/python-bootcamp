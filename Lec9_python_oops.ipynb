{
 "cells": [
  {
   "cell_type": "markdown",
   "id": "ac86e922-1740-47db-992b-0b08722b7091",
   "metadata": {},
   "source": [
    "## 📌 Classes and Objects in Python\n",
    "\n",
    "### 1. What is a Class?\n",
    "- A **class** is a blueprint or template for creating objects.\n",
    "- It defines **attributes** (data) and **methods** (functions) that its objects will have.\n",
    "\n",
    "Example: `Car` class → blueprint for cars (attributes: color, model; methods: drive, stop).\n",
    "\n",
    "### 2. What is an Object?\n",
    "- An **object** is an **instance** of a class.\n",
    "- When you create an object, Python allocates memory and gives it the attributes and methods defined by the class.\n",
    "\n",
    "### 3. Why Classes/Objects Are Important\n",
    "- They support **Object-Oriented Programming (OOP)**, which organizes code into reusable pieces.\n",
    "- In data science, classes are used heavily in libraries like pandas, scikit-learn, and TensorFlow (datasets, models, transformers are all classes/objects).\n"
   ]
  },
  {
   "cell_type": "code",
   "execution_count": 1,
   "id": "8fcf5c63-475c-47b6-8280-09ecb487b972",
   "metadata": {},
   "outputs": [
    {
     "name": "stdout",
     "output_type": "stream",
     "text": [
      "Car: Toyota Corolla\n",
      "Car: Honda Civic\n"
     ]
    }
   ],
   "source": [
    "# Basic Class and Object \n",
    "class Car:\n",
    "    def __init__(self, brand, model):\n",
    "        self.brand = brand  # attribute\n",
    "        self.model = model  # attribute\n",
    "    \n",
    "    def show_info(self):  # method\n",
    "        print(f\"Car: {self.brand} {self.model}\")\n",
    "\n",
    "# Create objects (instances)\n",
    "car1 = Car(\"Toyota\", \"Corolla\")\n",
    "car2 = Car(\"Honda\", \"Civic\")\n",
    "\n",
    "car1.show_info()  # Car: Toyota Corolla\n",
    "car2.show_info()  # Car: Honda Civic\n"
   ]
  },
  {
   "cell_type": "markdown",
   "id": "83b4d817-055a-4b80-a04b-37581bccbcea",
   "metadata": {},
   "source": [
    "### 4. Class Attributes vs Instance Attributes\n",
    "- **Instance Attributes**: belong to a specific object (e.g., each car has its own color).\n",
    "- **Class Attributes**: shared by all objects of the class.\n"
   ]
  },
  {
   "cell_type": "code",
   "execution_count": 2,
   "id": "3c8fe87f-dfad-4d8f-a3d5-53b60aea8032",
   "metadata": {},
   "outputs": [
    {
     "name": "stdout",
     "output_type": "stream",
     "text": [
      "Professor science Professor science\n"
     ]
    }
   ],
   "source": [
    "class Student:\n",
    "    school = \"Professor science\"  # class attribute\n",
    "\n",
    "    def __init__(self, name, age):\n",
    "        self.name = name      # instance attribute\n",
    "        self.age = age\n",
    "\n",
    "# Two students share same class attribute\n",
    "s1 = Student(\"Majid\", 22)\n",
    "s2 = Student(\"Amjad\", 24)\n",
    "\n",
    "print(s1.school, s2.school)  "
   ]
  },
  {
   "cell_type": "markdown",
   "id": "8d8df137-9930-46f9-92b1-7b8083b2e5dd",
   "metadata": {},
   "source": [
    "### 5. Encapsulation (Access Control)\n",
    "- We can “hide” internal details by using underscore `_` convention.\n",
    "- This is common in large codebases and libraries.\n"
   ]
  },
  {
   "cell_type": "code",
   "execution_count": 3,
   "id": "c8d99a09-e549-4f2c-8b00-2e2a0494c1b2",
   "metadata": {},
   "outputs": [
    {
     "name": "stdout",
     "output_type": "stream",
     "text": [
      "1500\n"
     ]
    }
   ],
   "source": [
    "class BankAccount:\n",
    "    def __init__(self, owner, balance):\n",
    "        self.owner = owner\n",
    "        self._balance = balance  # protected by convention\n",
    "\n",
    "    def deposit(self, amount):\n",
    "        self._balance += amount\n",
    "\n",
    "    def get_balance(self):\n",
    "        return self._balance\n",
    "\n",
    "acc = BankAccount(\"Majid\", 1000)\n",
    "acc.deposit(500)\n",
    "print(acc.get_balance())  # 1500\n"
   ]
  },
  {
   "cell_type": "code",
   "execution_count": 4,
   "id": "634a5ccb-cc5c-422c-894b-aee47ff57c74",
   "metadata": {},
   "outputs": [
    {
     "name": "stdout",
     "output_type": "stream",
     "text": [
      "Please introduce your self! \n",
      "My name is: ('majid',)\n",
      "My roll_number is: (1149,)\n",
      "My class section is: ('3M(c)',)\n",
      "And my current semester is: Seventh will starting very soon\n"
     ]
    }
   ],
   "source": [
    "# FIRST PROGRAM OF OOPS CLASSES AND OBJECTS\n",
    "# class syntax:  class class_name\n",
    "class student:\n",
    "    name = 'majid',\n",
    "    roll_no = 1149,\n",
    "    section = '3M(c)',\n",
    "    current_sem = 'Seventh will starting very soon'\n",
    "    print('Please introduce your self! ')\n",
    "    \n",
    "# object syntax : object_name = class_name()\n",
    "s = student()\n",
    "print(f\"My name is: {s.name}\\nMy roll_number is: {s.roll_no}\\nMy class section is: {s.section}\\nAnd my current semester is: {s.current_sem}\")"
   ]
  },
  {
   "cell_type": "markdown",
   "id": "4a841d7f-6612-4122-8875-c5e5eb17bd40",
   "metadata": {},
   "source": [
    "### 6. Inheritance\n",
    "- A class can inherit attributes and methods from another class.\n",
    "- This allows code reuse and hierarchical design.\n"
   ]
  },
  {
   "cell_type": "code",
   "execution_count": 5,
   "id": "1b644355-7d75-4b5b-85f2-bd56759585ee",
   "metadata": {},
   "outputs": [
    {
     "name": "stdout",
     "output_type": "stream",
     "text": [
      "Buddy says Woof!\n"
     ]
    }
   ],
   "source": [
    "class Animal:\n",
    "    def __init__(self, name):\n",
    "        self.name = name\n",
    "    def speak(self):\n",
    "        print(\"Some sound\")\n",
    "\n",
    "class Dog(Animal):  # Dog inherits from Animal\n",
    "    def speak(self):\n",
    "        print(f\"{self.name} says Woof!\")\n",
    "\n",
    "dog1 = Dog(\"Buddy\")\n",
    "dog1.speak()  \n"
   ]
  },
  {
   "cell_type": "markdown",
   "id": "d4b27ef7-70e1-4429-b1cf-05ebca52ec9c",
   "metadata": {},
   "source": [
    "### 7. Polymorphism\n",
    "- Different classes can define methods with the same name but different behaviors.\n",
    "- Makes code flexible when working with multiple types of objects.\n"
   ]
  },
  {
   "cell_type": "code",
   "execution_count": 6,
   "id": "b69412c0-3abc-46e9-ae05-8aa6de2a688f",
   "metadata": {},
   "outputs": [
    {
     "name": "stdout",
     "output_type": "stream",
     "text": [
      "Rex says Woof!\n",
      "Misty says Meow!\n"
     ]
    }
   ],
   "source": [
    "class Cat(Animal):\n",
    "    def speak(self):\n",
    "        print(f\"{self.name} says Meow!\")\n",
    "\n",
    "animals = [Dog(\"Rex\"), Cat(\"Misty\")]\n",
    "for a in animals:\n",
    "    a.speak()\n"
   ]
  },
  {
   "cell_type": "code",
   "execution_count": null,
   "id": "0d026270-ee4e-4bea-884c-198a941a9b3f",
   "metadata": {},
   "outputs": [],
   "source": []
  },
  {
   "cell_type": "markdown",
   "id": "f27b8fd8-3994-4c61-967d-b42bc39a8ade",
   "metadata": {},
   "source": [
    "## Advance OOPs :\n"
   ]
  },
  {
   "cell_type": "code",
   "execution_count": 7,
   "id": "db3f7e72-35a8-4b57-af38-af62941d0c7b",
   "metadata": {},
   "outputs": [
    {
     "name": "stdout",
     "output_type": "stream",
     "text": [
      "Your name is: Amir\n",
      "Your marks are: 96\n",
      "Your class Section is: 7st morning\n"
     ]
    }
   ],
   "source": [
    "# PARAMETERIZED VALUE:\n",
    "class Student:\n",
    "\n",
    "    # Here accessing data by using constructor\n",
    "    def __init__(self, name_of_s, marks_of_s, class_n):\n",
    "        self.name = name_of_s\n",
    "        self.marks = marks_of_s\n",
    "        self.class_in = class_n\n",
    "    def info(self):\n",
    "        print(f'Your name is: {self.name}\\nYour marks are: {self.marks}\\nYour class Section is: {self.class_in}')\n",
    "        \n",
    "s3=Student(\"Amir\", 96 ,\"7st morning\")\n",
    "s3.info()\n"
   ]
  },
  {
   "cell_type": "code",
   "execution_count": 23,
   "id": "e0c1669c-c1e3-4c9c-bcef-83650aeadb12",
   "metadata": {},
   "outputs": [
    {
     "name": "stdout",
     "output_type": "stream",
     "text": [
      "Hello Student ! How are you \n",
      "How are you  Amir Khan\n",
      "Student your neet test result is  99\n"
     ]
    }
   ],
   "source": [
    "# Methods in classes and objects\n",
    "class Student:\n",
    "    def __init__(self, name_of_student, marks_in_neet):\n",
    "        self.name = name_of_student\n",
    "        self.marks = marks_in_neet\n",
    "        print(\"Hello Student ! How are you \")\n",
    "        \n",
    "    def greeting(self):\n",
    "        print(\"How are you \", self.name)\n",
    "    def result(self):\n",
    "        print(\"Student your neet test result is \", self.marks)\n",
    "\n",
    "s = Student('Amir Khan', 99)\n",
    "s.greeting()\n",
    "s.result()"
   ]
  },
  {
   "cell_type": "code",
   "execution_count": 5,
   "id": "fbe11885-6d2d-4546-a21b-5d6c2cbb1f13",
   "metadata": {},
   "outputs": [
    {
     "name": "stdout",
     "output_type": "stream",
     "text": [
      "hello Everyone! How are you?\n",
      "Welcome Student Please to met you ,\n",
      "Amjad Hussain\n",
      "Your NEET test marks are:\n"
     ]
    },
    {
     "data": {
      "text/plain": [
       "93"
      ]
     },
     "execution_count": 5,
     "metadata": {},
     "output_type": "execute_result"
    }
   ],
   "source": [
    "# Methods in classes and objects\n",
    "class Student:\n",
    "    \n",
    "    # def __init__(self,name,marks):      # Bydefault Constructor \n",
    "    name= \"Amjad Hussain\"\n",
    "    marks= 93\n",
    "    print(\"hello Everyone! How are you?\")\n",
    "    \n",
    "    def welcome(self):           # Method function\n",
    "        print(\"Welcome Student Please to met you ,\")\n",
    "\n",
    "    def get_marks(self):\n",
    "        print(\"Your NEET test marks are:\")\n",
    "\n",
    "s1=Student()\n",
    "s1.welcome()\n",
    "print(s1.name)   #Here is compulsry for print of name\n",
    "s1.get_marks()\n",
    "s1.marks"
   ]
  },
  {
   "cell_type": "code",
   "execution_count": 6,
   "id": "1aef4b04-d93a-4f7f-8670-c30d0d7c8fb9",
   "metadata": {},
   "outputs": [
    {
     "name": "stdout",
     "output_type": "stream",
     "text": [
      "Hi Amir Khan your average score is:  91.7 \n",
      "Hi Amjad Khan your average score is:  91.7 \n"
     ]
    }
   ],
   "source": [
    "# PRACTICE Q1: create student class that takes name and marks of 3 subjects as an argument in constructor. Then create a method to print the avg\n",
    "class Student:\n",
    "    def __init__(self, name,marks):\n",
    "        self.name=name\n",
    "        self.marks=marks\n",
    "\n",
    "    def get_avg(self):\n",
    "        sum=0\n",
    "        for val in self.marks:\n",
    "            sum +=val\n",
    "        print(f\"Hi { self.name} your average score is: {sum/3: .1f} \")\n",
    "\n",
    "s1= Student(\"Amir Khan\", [98,89,88])\n",
    "s1.get_avg()\n",
    "\n",
    "# AND IT CAN BE POSSIBLE TO CHANGEABLE THE VALUE OF ATTRIBUTE AND MANIPULATE IT\n",
    "s1.name=\"Amjad Khan\"\n",
    "s1.get_avg()\n"
   ]
  },
  {
   "cell_type": "code",
   "execution_count": 26,
   "id": "181e7ff5-d794-4e90-b6fd-1b9dc00a191c",
   "metadata": {},
   "outputs": [
    {
     "name": "stdout",
     "output_type": "stream",
     "text": [
      "Car Starting......\n"
     ]
    }
   ],
   "source": [
    "# ABSTRUCTION METHOD: hiding the implementation details of a class and only showing the essential features to the user\n",
    "class car:\n",
    "    def __init__(self):\n",
    "        self.acc=False\n",
    "        self.brk=False\n",
    "        self.clutch=False\n",
    "    def start(self):\n",
    "        self.acc= True\n",
    "        self.clutch=True\n",
    "        print(\"Car Starting......\")\n",
    "Car1 = car()\n",
    "Car1.start()"
   ]
  },
  {
   "cell_type": "code",
   "execution_count": 30,
   "id": "e23af8ac-5cc6-4442-a43c-c7b42c3321f1",
   "metadata": {},
   "outputs": [
    {
     "name": "stdout",
     "output_type": "stream",
     "text": [
      "Enter balanace for debt  444\n",
      "Enter balance for credit 100\n"
     ]
    },
    {
     "name": "stdout",
     "output_type": "stream",
     "text": [
      "Total Balanace is =  100000\n",
      "Rs. 444 was debited\n",
      "After debt Remaining balance= 99556\n",
      "RS. 100 was credit\n",
      "After credit balance= 99656\n"
     ]
    }
   ],
   "source": [
    "# PRACTICE Q1: Create an account with 2 attributes - balance & Account_no . Create method for debit , credit and print the final value\n",
    "class Account:\n",
    "    def __init__(self, bal, acc):\n",
    "        self.balance= bal\n",
    "        self.account_no= acc\n",
    "        print(\"Total Balanace is = \" , self.balance)\n",
    "\n",
    "    def debit(self, amount):\n",
    "        self.balance -=amount\n",
    "        print(\"Rs.\" ,amount, \"was debited\")\n",
    "        print(\"After debt Remaining balance=\", self.get_balance())\n",
    "\n",
    "    def credit(self, amount):\n",
    "        self.balance +=amount\n",
    "        print(\"RS.\", amount,\"was credit\")\n",
    "        print(\"After credit balance=\", self.get_balance())\n",
    "\n",
    "    def get_balance(self):\n",
    "        return self.balance\n",
    "debt = int(input(\"Enter balanace for debt \"))\n",
    "credit = int(input(\"Enter balance for credit\"))\n",
    "acc1 = Account(100000, 233233)\n",
    "acc1.debit(debt)\n",
    "acc1.credit(credit)"
   ]
  },
  {
   "cell_type": "code",
   "execution_count": 31,
   "id": "971aa45d-575f-490c-8b17-63cb29b12d05",
   "metadata": {},
   "outputs": [
    {
     "name": "stdout",
     "output_type": "stream",
     "text": [
      "Account No: 233233, Balance: 103000\n"
     ]
    }
   ],
   "source": [
    "class Account:  \n",
    "    def __init__(self, bal, acc):  \n",
    "        self.balance = bal  \n",
    "        self.account_no = acc  \n",
    "    \n",
    "    def debit(self, amount):  \n",
    "        if amount > self.balance:  \n",
    "            print(\"Insufficient funds\")  \n",
    "        else:  \n",
    "            self.balance -= amount  \n",
    "    \n",
    "    def credit(self, amount):  \n",
    "        self.balance += amount  \n",
    "    \n",
    "    def print_balance(self):  \n",
    "        print(f\"Account No: {self.account_no}, Balance: {self.balance}\")  \n",
    "\n",
    "# Creating an account  \n",
    "acc1 = Account(100000, 233233)  \n",
    "\n",
    "# Example usage  \n",
    "acc1.credit(5000)  # Credit 5000  \n",
    "acc1.debit(2000)   # Debit 2000  \n",
    "acc1.print_balance()  # Print account details"
   ]
  },
  {
   "cell_type": "code",
   "execution_count": 23,
   "id": "aba8907b-b847-4aaa-a904-5c8073022f20",
   "metadata": {},
   "outputs": [
    {
     "name": "stdout",
     "output_type": "stream",
     "text": [
      "Rs. 300 was debited\n",
      "Total balance= 19700\n",
      "Rs. 3000 was credited\n",
      "Total balance= 22700\n"
     ]
    }
   ],
   "source": [
    "# PRACTICE Q1: Create a class of an account with 2 attributes - balance & Account_no . Create method for debit , credit and print the final value\n",
    "class Account:\n",
    "    def __init__(self, bal, account_no):\n",
    "        self.balance=bal\n",
    "        self.account_no =account_no\n",
    "\n",
    "    def debit(self,amount):\n",
    "        self.balance -=amount\n",
    "        print(\"Rs.\",amount,\"was debited\")\n",
    "        print(\"Total balance=\",self.get_balance())\n",
    "\n",
    "    def credit(self, amount):\n",
    "        self.balance +=amount\n",
    "        print(\"Rs.\",amount,\"was credited\")\n",
    "        print(\"Total balance=\",self.get_balance())\n",
    "    def get_balance(self):\n",
    "        return self.balance\n",
    "        \n",
    "acc1= Account(20000,44994)\n",
    "acc1.debit(300)\n",
    "acc1.credit(3000)"
   ]
  },
  {
   "cell_type": "code",
   "execution_count": null,
   "id": "ecc12824-ba6d-49cb-810e-1b071a53697e",
   "metadata": {},
   "outputs": [],
   "source": []
  }
 ],
 "metadata": {
  "kernelspec": {
   "display_name": "Python 3 (ipykernel)",
   "language": "python",
   "name": "python3"
  },
  "language_info": {
   "codemirror_mode": {
    "name": "ipython",
    "version": 3
   },
   "file_extension": ".py",
   "mimetype": "text/x-python",
   "name": "python",
   "nbconvert_exporter": "python",
   "pygments_lexer": "ipython3",
   "version": "3.12.4"
  }
 },
 "nbformat": 4,
 "nbformat_minor": 5
}
