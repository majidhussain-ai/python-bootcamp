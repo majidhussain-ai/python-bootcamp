{
 "cells": [
  {
   "cell_type": "markdown",
   "id": "d2aba309-2d76-4482-bef5-b6014922382e",
   "metadata": {},
   "source": [
    "# What is list Data structure :\n",
    "- A list is an ordered, mutable (changeable) collection of items. It can hold mixed data types."
   ]
  },
  {
   "cell_type": "markdown",
   "id": "1d5ec2cb-69ff-43fc-aaeb-d897fe87f258",
   "metadata": {},
   "source": [
    "## Examples:"
   ]
  },
  {
   "cell_type": "code",
   "execution_count": 5,
   "id": "954da69d-c5fd-47d5-9fb4-4cd01bab659b",
   "metadata": {},
   "outputs": [
    {
     "data": {
      "text/plain": [
       "[1, 'hello', 3.14, True, [4, 5]]"
      ]
     },
     "execution_count": 5,
     "metadata": {},
     "output_type": "execute_result"
    }
   ],
   "source": [
    "\"\"\" \n",
    "Python lists are inherently heterogeneous, meaning they can store elements of different data types within the same list.\n",
    "\n",
    "For example: a single Python list can contain integers, strings, floats, and even other lists or objects, all at the same time.\n",
    "\"\"\"\n",
    "my_list = [1, \"hello\", 3.14, True, [4, 5]]\n",
    "my_list"
   ]
  },
  {
   "cell_type": "code",
   "execution_count": 6,
   "id": "a1eb5545-15a1-497e-83ed-ae3f86a40338",
   "metadata": {},
   "outputs": [
    {
     "name": "stdout",
     "output_type": "stream",
     "text": [
      "[]\n"
     ]
    }
   ],
   "source": [
    "# creating empty list\n",
    "list = []\n",
    "print(list)    \n"
   ]
  },
  {
   "cell_type": "code",
   "execution_count": 7,
   "id": "e91d50d1-bb69-4269-963b-9fe17f36d487",
   "metadata": {},
   "outputs": [
    {
     "name": "stdout",
     "output_type": "stream",
     "text": [
      "[1, 3, 4, 5]\n"
     ]
    }
   ],
   "source": [
    "# 1D list : also called tensor\n",
    "list = [ 1 ,3 , 4, 5]\n",
    "print(list)"
   ]
  },
  {
   "cell_type": "code",
   "execution_count": 8,
   "id": "b800a36a-12c9-4851-9d04-5fbc9f3eaba5",
   "metadata": {},
   "outputs": [
    {
     "name": "stdout",
     "output_type": "stream",
     "text": [
      "[[1, 2, 3], [44, 34]]\n"
     ]
    }
   ],
   "source": [
    "# 2D list known as Matrix\n",
    "TwoD_list = [[ 1,2,3], [44 ,34]]\n",
    "print(TwoD_list)"
   ]
  },
  {
   "cell_type": "code",
   "execution_count": 3,
   "id": "621942ae-c797-4f54-af4d-02bc95ba6573",
   "metadata": {},
   "outputs": [
    {
     "name": "stdout",
     "output_type": "stream",
     "text": [
      "[[[5, 6], [1, 2], [3, 4]]]\n"
     ]
    }
   ],
   "source": [
    "# 3D list\n",
    "Three_D_list = [[[5,6],[1,2],[3,4]]]\n",
    "print(Three_D_list)"
   ]
  },
  {
   "cell_type": "code",
   "execution_count": 9,
   "id": "0df20104-fb97-4779-a0e6-a6913067ce50",
   "metadata": {},
   "outputs": [
    {
     "name": "stdout",
     "output_type": "stream",
     "text": [
      "2\n",
      "8\n"
     ]
    }
   ],
   "source": [
    "# Creating a 2D list  \n",
    "matrix = [  \n",
    "    [1, 2, 3],  # First row  \n",
    "    [4, 5, 6],  # Second row  \n",
    "    [7, 8, 9]   # Third row  \n",
    "]  \n",
    "\n",
    "# Accessing elements  \n",
    "print(matrix[0][1])  # Output: 2 (Element in the first row, second column)  \n",
    "print(matrix[2][1])\n"
   ]
  },
  {
   "cell_type": "code",
   "execution_count": 10,
   "id": "42872fbf-0f08-4497-bef2-d5acae3e8df2",
   "metadata": {},
   "outputs": [
    {
     "name": "stdout",
     "output_type": "stream",
     "text": [
      "1 2 3 4 5 6 7 8 9 "
     ]
    }
   ],
   "source": [
    "# Iterating through the 2D list  \n",
    "for row in matrix:  \n",
    "    for element in row:  \n",
    "        print(element, end=' ') "
   ]
  },
  {
   "cell_type": "markdown",
   "id": "61a08e90-4304-424d-aeb6-e7a529c7a51a",
   "metadata": {},
   "source": [
    "# Accessing items from a list :"
   ]
  },
  {
   "cell_type": "code",
   "execution_count": 7,
   "id": "8fe76fee-f88f-4a3a-9495-d6fcf6f14b79",
   "metadata": {},
   "outputs": [
    {
     "name": "stdout",
     "output_type": "stream",
     "text": [
      "2\n"
     ]
    }
   ],
   "source": [
    "# index accessing \n",
    "list = [[1,2],[3,4]]\n",
    "print(list[0][1])"
   ]
  },
  {
   "cell_type": "code",
   "execution_count": 8,
   "id": "b345d065-44a9-4c8e-917d-d5ff2887e7bd",
   "metadata": {},
   "outputs": [
    {
     "name": "stdout",
     "output_type": "stream",
     "text": [
      "6\n"
     ]
    }
   ],
   "source": [
    "list = [[[1,2],[3,4]],[[5,6],[7,8]]]\n",
    "print(list[1][0][1])\n",
    "\n",
    "# by using of idexing we can extracting just specific values but by using of slicing we can extracting according to our own decision\n",
    "# Here i can access any digit by using of 3D list index like above performed operation to accessing of 6"
   ]
  },
  {
   "cell_type": "code",
   "execution_count": 11,
   "id": "c3d70fbe-69d3-4739-aec8-0cd0d34e58e7",
   "metadata": {},
   "outputs": [
    {
     "name": "stdout",
     "output_type": "stream",
     "text": [
      "[2, 4, 6]\n"
     ]
    }
   ],
   "source": [
    "list = [1 , 2, 3, 4, 5, 6]\n",
    "print(list[ 1 : :2])\n",
    "\n",
    "# Here by extracting of specific values "
   ]
  },
  {
   "cell_type": "code",
   "execution_count": 16,
   "id": "88c034ad-db13-4346-8386-fbf6843549de",
   "metadata": {},
   "outputs": [
    {
     "name": "stdout",
     "output_type": "stream",
     "text": [
      "[6, 4, 2]\n"
     ]
    }
   ],
   "source": [
    "list = [1 , 2, 3, 4, 5, 6]\n",
    "print(list[ -1 : -6 : -2])\n",
    "\n",
    "# By extracting value negative slicing"
   ]
  },
  {
   "cell_type": "markdown",
   "id": "c160ec0b-ed26-4395-b9d5-67f1ac485987",
   "metadata": {},
   "source": [
    "# Adding items to a list :\n"
   ]
  },
  {
   "cell_type": "code",
   "execution_count": 18,
   "id": "e801256c-59aa-4385-92f8-89be7f85a65b",
   "metadata": {},
   "outputs": [
    {
     "name": "stdout",
     "output_type": "stream",
     "text": [
      "[1, 2, 3, 4, 5]\n"
     ]
    }
   ],
   "source": [
    "# appending method : There are three methods to append value in list \n",
    "list = [1,2,3,4]\n",
    "list.append(5)\n",
    "print(list)\n",
    "\n",
    "# This is first method to append only single argument "
   ]
  },
  {
   "cell_type": "code",
   "execution_count": 19,
   "id": "958b3b16-c883-4ad7-89ee-9ebd492388eb",
   "metadata": {},
   "outputs": [
    {
     "name": "stdout",
     "output_type": "stream",
     "text": [
      "[1, 2, 3, 4, 5, 6, 'Majid', 8.8]\n"
     ]
    }
   ],
   "source": [
    "list.extend([6,\"Majid\", 8.8])\n",
    "print(list)\n",
    "\n",
    "# This is 2nd method to in extend() method we can append multi value . BUT IN APPEND WE CAN ONLY APPEND SIGNLE"
   ]
  },
  {
   "cell_type": "code",
   "execution_count": 20,
   "id": "b6111d6e-3181-4a51-9604-a90d92ec9755",
   "metadata": {},
   "outputs": [
    {
     "name": "stdout",
     "output_type": "stream",
     "text": [
      "[1, 2, 3, 4, 5, 6, 7, 'Majid', 8.8]\n"
     ]
    }
   ],
   "source": [
    "list.insert(6 , 7)\n",
    "print(list)\n",
    "\n",
    "# Here by using of insert() function we can insert value in our own after index "
   ]
  },
  {
   "cell_type": "markdown",
   "id": "91f94378-bd2a-421b-8811-2c8a0ed745ed",
   "metadata": {},
   "source": [
    "# Editing items in list :"
   ]
  },
  {
   "cell_type": "code",
   "execution_count": 25,
   "id": "c18015b6-6010-4d5e-a2d5-f4b3a41ad701",
   "metadata": {},
   "outputs": [
    {
     "name": "stdout",
     "output_type": "stream",
     "text": [
      "[100, 200, 300, 4, 500]\n"
     ]
    }
   ],
   "source": [
    "list = [ 1, 2, 3, 4, 5]\n",
    "\n",
    "# editing with index\n",
    "list[-1] = 500\n",
    "# print(list)\n",
    "\n",
    "# editing with slicing\n",
    "list[ 0: 3] = [100, 200, 300]\n",
    "print(list)"
   ]
  },
  {
   "cell_type": "markdown",
   "id": "2f34203f-269a-4519-9786-9d03c01237f6",
   "metadata": {},
   "source": [
    "# Deleting items from a list :\n",
    " - del\n",
    " - pop\n",
    "- remove\n",
    " - clear"
   ]
  },
  {
   "cell_type": "code",
   "execution_count": 33,
   "id": "d9d97839-981d-46bd-8a1b-5f931f836e24",
   "metadata": {},
   "outputs": [
    {
     "name": "stdout",
     "output_type": "stream",
     "text": [
      "[1, 2, 3, 4, 5]\n",
      "[1, 2, 3, 5]\n",
      "[5]\n"
     ]
    }
   ],
   "source": [
    "# Deleting list or specific digits from a list by using of del keyword \n",
    "list = [1,2,3,4,5]\n",
    "print(list)\n",
    "\n",
    "# deleting by index\n",
    "del list[3]\n",
    "print(list)\n",
    "\n",
    "# deleting by slicing\n",
    "del list[0 : 3]\n",
    "print(list)\n",
    "\n",
    "# Here we can delete many ways like negative slicing and many more ways . But here you must try by yourself"
   ]
  },
  {
   "cell_type": "code",
   "execution_count": 35,
   "id": "6eee62b8-6019-438b-b2dc-9fbc0de6a154",
   "metadata": {},
   "outputs": [
    {
     "name": "stdout",
     "output_type": "stream",
     "text": [
      "[1, 2, 3, 5]\n"
     ]
    }
   ],
   "source": [
    "# By using of remove function \n",
    "# The advantages of remove is that you just give those value you want to delete . Here is no need to give an index or slicing only one digit can delete\n",
    "\n",
    "list = [1,2,3,4,5]\n",
    "list.remove(4)\n",
    "print(list)"
   ]
  },
  {
   "cell_type": "code",
   "execution_count": 15,
   "id": "d5e02902-f45e-46a0-bae1-3b0d573a9c1e",
   "metadata": {},
   "outputs": [
    {
     "name": "stdout",
     "output_type": "stream",
     "text": [
      "[1, 2, 3, 4]\n",
      "[1, 2, 4]\n",
      "[1, 4]\n"
     ]
    },
    {
     "data": {
      "text/plain": [
       "4"
      ]
     },
     "execution_count": 15,
     "metadata": {},
     "output_type": "execute_result"
    }
   ],
   "source": [
    "# By using of pop function we can delete bydefault last items of list and second method by giving of index\n",
    "\n",
    "list = [1,2,3,4,5]\n",
    "list.pop()\n",
    "print(list)\n",
    "\n",
    "# 2nd method\n",
    "list.pop(2)\n",
    "print(list)\n",
    "\n",
    "# 3rd method is that you can find which is last item and which value is deleted item\n",
    "list.pop(1)\n",
    "print(list)\n",
    "\n",
    "# It means it just tell us what value is deleted and show those value\n",
    "list.pop(1)"
   ]
  },
  {
   "cell_type": "code",
   "execution_count": 44,
   "id": "d12530f6-1332-4f5f-b92e-cd75bcbf1c7a",
   "metadata": {},
   "outputs": [
    {
     "name": "stdout",
     "output_type": "stream",
     "text": [
      "[]\n"
     ]
    }
   ],
   "source": [
    "# By using of clear function you can clear list after clearing your list is empty\n",
    "\n",
    "list = [1,2,3,4,5]\n",
    "list.clear()\n",
    "print(list)"
   ]
  },
  {
   "cell_type": "markdown",
   "id": "34eb2290-d6be-4a7c-9bcf-502169ca187d",
   "metadata": {},
   "source": [
    "# Operations on list\n",
    "- Arithmatic   \n",
    "- Membership\n",
    "- loop"
   ]
  },
  {
   "cell_type": "code",
   "execution_count": 49,
   "id": "3a38f8ea-8e2e-44ff-8a56-f7f7ca88bf52",
   "metadata": {},
   "outputs": [
    {
     "name": "stdout",
     "output_type": "stream",
     "text": [
      "[1, 2, 3, 4, 6, 7, 8, 9]\n"
     ]
    }
   ],
   "source": [
    "# Arithmatic operations ( + , * ) . list mostly performed on plus and astric operations:\n",
    "list = [1,2,3,4]\n",
    "list1 = [6,7,8,9]\n",
    "print(list + list1)"
   ]
  },
  {
   "cell_type": "code",
   "execution_count": 50,
   "id": "055c30df-c4fe-4e03-95f5-e66493a25227",
   "metadata": {},
   "outputs": [
    {
     "name": "stdout",
     "output_type": "stream",
     "text": [
      "[1, 2, 3, 4, 1, 2, 3, 4, 1, 2, 3, 4]\n"
     ]
    }
   ],
   "source": [
    "list = [1,2,3,4]\n",
    "print(list*3)"
   ]
  },
  {
   "cell_type": "code",
   "execution_count": 53,
   "id": "a18b3ef8-ec64-4bbc-81da-ba2da8c8d8d3",
   "metadata": {},
   "outputs": [
    {
     "name": "stdout",
     "output_type": "stream",
     "text": [
      "True\n",
      "False\n"
     ]
    }
   ],
   "source": [
    "# Membership operations ( in , not in)\n",
    "list = [1,2,3,4 , [5,6]]     # Here is not of 5 but it just another list\n",
    "print( 4 in list)\n",
    "print(5 in list)"
   ]
  },
  {
   "cell_type": "code",
   "execution_count": 1,
   "id": "7fc10dc9-8268-402c-b0b7-6b57ff881a68",
   "metadata": {},
   "outputs": [
    {
     "name": "stdout",
     "output_type": "stream",
     "text": [
      "False\n"
     ]
    }
   ],
   "source": [
    "list = [1,2,3,4]\n",
    "print( 2 not in list)"
   ]
  },
  {
   "cell_type": "code",
   "execution_count": 16,
   "id": "8d9b0292-ddd6-4aea-9cb9-5c00cdc3250f",
   "metadata": {},
   "outputs": [
    {
     "name": "stdout",
     "output_type": "stream",
     "text": [
      "1\n",
      "2\n",
      "3\n",
      "4\n",
      "[1, 2, 3, 4]\n",
      "[5, 6, 7]\n",
      "[[1, 2], [3, 4]]\n",
      "[[5, 6, 7]]\n"
     ]
    }
   ],
   "source": [
    "# Loops in list 1D, 2D , 3D list\n",
    "list1 = [1,2,3,4]\n",
    "list2 = [[1,2,3,4], [5,6,7]]\n",
    "list3 = [[[1,2],[3,4]], [[5,6,7]]]\n",
    "for i in list1:\n",
    "    print(i)\n",
    "\n",
    "for i in list2: \n",
    "    print(i)\n",
    "\n",
    "for i in list3:\n",
    "    print(i)"
   ]
  },
  {
   "cell_type": "markdown",
   "id": "4725df9e-57f7-4859-abc5-6ad7206a2360",
   "metadata": {},
   "source": [
    "# List functions :"
   ]
  },
  {
   "cell_type": "code",
   "execution_count": 61,
   "id": "4efda543-9767-448a-8e5a-2c3ca8653ef0",
   "metadata": {},
   "outputs": [
    {
     "name": "stdout",
     "output_type": "stream",
     "text": [
      "5\n",
      "1\n",
      "5\n",
      "[1, 2, 3, 4, 5]\n",
      "[5, 4, 3, 2, 1]\n"
     ]
    }
   ],
   "source": [
    "# len/min/max/sorted\n",
    "list = [1,2,3,4,5]\n",
    "print(len(list))\n",
    "print(min(list))\n",
    "print(max(list))\n",
    "print(sorted(list))\n",
    "print(sorted(list, reverse = True))"
   ]
  },
  {
   "cell_type": "markdown",
   "id": "7b9cc09a-17c7-4cfb-8a86-737da0eaa093",
   "metadata": {},
   "source": [
    "# index() :"
   ]
  },
  {
   "cell_type": "code",
   "execution_count": 63,
   "id": "48f728e5-49b2-4f51-8bae-f8e588477255",
   "metadata": {},
   "outputs": [
    {
     "data": {
      "text/plain": [
       "3"
      ]
     },
     "execution_count": 63,
     "metadata": {},
     "output_type": "execute_result"
    }
   ],
   "source": [
    "# index function\n",
    "list = [1,2,4,5,6]\n",
    "list.index(5)\n",
    "\n",
    "# This will just give you an index that where is your given value"
   ]
  },
  {
   "cell_type": "markdown",
   "id": "0e7e6b65-b836-4346-b542-d499ecb312d6",
   "metadata": {},
   "source": [
    "# count() :"
   ]
  },
  {
   "cell_type": "code",
   "execution_count": 64,
   "id": "05eaacbb-85af-487a-b14a-ea183306d3be",
   "metadata": {},
   "outputs": [
    {
     "data": {
      "text/plain": [
       "2"
      ]
     },
     "execution_count": 64,
     "metadata": {},
     "output_type": "execute_result"
    }
   ],
   "source": [
    "# By using of count() function it will just shows you that how many times your given values come\n",
    "\n",
    "list = [ 1,3,4,5,5]\n",
    "list.count(5)"
   ]
  },
  {
   "cell_type": "markdown",
   "id": "c31b44e4-25d1-4d70-912c-daab610b7144",
   "metadata": {},
   "source": [
    "# reverse() : "
   ]
  },
  {
   "cell_type": "code",
   "execution_count": 73,
   "id": "cac544c3-6b8d-47a5-984b-0bb47c4004cb",
   "metadata": {},
   "outputs": [
    {
     "name": "stdout",
     "output_type": "stream",
     "text": [
      "[1, 2, 5, 5, 4, 3, 1]\n",
      "[5, 5, 4, 3, 2, 1, 1]\n"
     ]
    }
   ],
   "source": [
    "# By using of reverse() function It will permanently reverses the original list and also sort not sorted  . But some entire function only change to create new memory and changing in new list\n",
    "\n",
    "list = [ 1,3,4,5,5 , 2,1]\n",
    "list.reverse()\n",
    "print(list)\n",
    "\n",
    "print(sorted(list, reverse = True))\n"
   ]
  },
  {
   "cell_type": "code",
   "execution_count": 71,
   "id": "66731a0e-6ee4-4d7b-8700-3fb2f92eff7c",
   "metadata": {},
   "outputs": [
    {
     "name": "stdout",
     "output_type": "stream",
     "text": [
      "[5, 5, 4, 3, 3, 2, 1]\n"
     ]
    }
   ],
   "source": [
    "list = [ 1,3,4,5,5,3,2]\n",
    "print(sorted(list, reverse = True))  # This sort show descending values"
   ]
  },
  {
   "cell_type": "markdown",
   "id": "010d6a44-e0b0-4646-92fe-1d4114180645",
   "metadata": {},
   "source": [
    "# sort() :"
   ]
  },
  {
   "cell_type": "code",
   "execution_count": 8,
   "id": "11bb554c-2700-4ef3-a92a-9fc820c5791c",
   "metadata": {},
   "outputs": [
    {
     "name": "stdout",
     "output_type": "stream",
     "text": [
      "[1, 3, 4, 5, 5, 2, 1]\n",
      "[1, 1, 2, 3, 4, 5, 5]\n",
      "[1, 3, 4, 5, 5, 2, 1]\n",
      "[1, 1, 2, 3, 4, 5, 5]\n"
     ]
    }
   ],
   "source": [
    "# By using of sort() function it will parmanently sort the values in original list like as reverse\n",
    "\n",
    "list = [ 1,3,4,5,5 , 2,1]\n",
    "print(list) # original list  \n",
    "\n",
    "print(sorted(list))    # sorted list\n",
    "print(list)             # by checking that it was really not change\n",
    "\n",
    "list.sort()       # sort list changing in original list\n",
    "print(list)"
   ]
  },
  {
   "cell_type": "code",
   "execution_count": 7,
   "id": "988bcf2e-a1c2-4734-8aad-269055eee9c7",
   "metadata": {},
   "outputs": [
    {
     "name": "stdout",
     "output_type": "stream",
     "text": [
      "[1, 2, 5, 5, 4, 3, 1]\n"
     ]
    }
   ],
   "source": [
    "list = [ 1,3,4,5,5 , 2,1]\n",
    "list.reverse()\n",
    "print(list)"
   ]
  },
  {
   "cell_type": "markdown",
   "id": "c8deb696-8d50-48b8-85fd-4e634ba9bc5f",
   "metadata": {},
   "source": [
    "# copy() :"
   ]
  },
  {
   "cell_type": "code",
   "execution_count": 10,
   "id": "0c992ce4-0fd1-4b35-8332-6357b652e7b5",
   "metadata": {},
   "outputs": [
    {
     "name": "stdout",
     "output_type": "stream",
     "text": [
      "2589018649984\n",
      "[1, 2, 3, 4, 5, 6]\n",
      "2589018668864\n",
      "[1, 2, 3, 4, 5, 6]\n"
     ]
    }
   ],
   "source": [
    "list = [1,2,3,4,5,6]\n",
    "print(id(list))\n",
    "print(list)\n",
    "list1 = list.copy()\n",
    "print(id(list1))\n",
    "print(list1)"
   ]
  },
  {
   "cell_type": "markdown",
   "id": "ccab2171-0672-4aeb-9955-353c9ab87073",
   "metadata": {},
   "source": [
    "# Advance level List comprehension\n",
    "- list comprehension provides a concise way to create a list\n",
    "- newlist = [expresion for item in iterable if condition == True]\n",
    "- space efficent and more time efficient than loop\n",
    "- require fewer lines of code"
   ]
  },
  {
   "cell_type": "markdown",
   "id": "177fbe60-d7b4-4bc4-b15d-d186de4ac07f",
   "metadata": {
    "jp-MarkdownHeadingCollapsed": true
   },
   "source": [
    "# Examples :"
   ]
  },
  {
   "cell_type": "markdown",
   "id": "ccd14583-9b9a-4b51-87cb-efd09c0e6c27",
   "metadata": {},
   "source": [
    "# Q1."
   ]
  },
  {
   "cell_type": "code",
   "execution_count": 24,
   "id": "25f14578-f0c3-4612-a23b-1a02257640e5",
   "metadata": {},
   "outputs": [
    {
     "name": "stdout",
     "output_type": "stream",
     "text": [
      "[1, 2, 3, 4, 5, 6, 7, 8, 9, 10]\n",
      "[1, 2, 3, 4, 5, 6, 7, 8, 9, 10]\n"
     ]
    }
   ],
   "source": [
    "# Add 1 to 10 number in a list\n",
    "# by using of simple for loop jaise hmm ne phele codes mein istamal karte a rhe hai\n",
    "list = []\n",
    "for i in range(1, 11): \n",
    "    list.append(i)\n",
    "print(list)\n",
    "\n",
    "# 2nd method with the help of comprehension list\n",
    "list = [ i for i in range(1,11)]\n",
    "print(list)"
   ]
  },
  {
   "cell_type": "markdown",
   "id": "f1858c7a-37f1-4446-8199-4ef155606ffe",
   "metadata": {},
   "source": [
    "# Q2."
   ]
  },
  {
   "cell_type": "code",
   "execution_count": 26,
   "id": "9a5b756b-cffc-450a-8e81-6427ba09553c",
   "metadata": {},
   "outputs": [
    {
     "name": "stdout",
     "output_type": "stream",
     "text": [
      "[-6, -9, -12]\n"
     ]
    }
   ],
   "source": [
    "# Scaller multiplication on vector\n",
    "v = [2,3,4]\n",
    "s = -3\n",
    "x = []\n",
    "for i in v:\n",
    "    x.append(i*s)\n",
    "\n",
    "print(x)"
   ]
  },
  {
   "cell_type": "code",
   "execution_count": 27,
   "id": "4fc51118-ddcb-496c-a346-4f127d945ab5",
   "metadata": {},
   "outputs": [
    {
     "data": {
      "text/plain": [
       "[-6, -9, -12]"
      ]
     },
     "execution_count": 27,
     "metadata": {},
     "output_type": "execute_result"
    }
   ],
   "source": [
    "# 2nd method of comprehension\n",
    "v = [2,3,4]\n",
    "s = -3\n",
    "[s*i for i in v]\n",
    "\n"
   ]
  },
  {
   "cell_type": "markdown",
   "id": "99b1526d-82e4-4eaa-9323-debaa53b50b8",
   "metadata": {},
   "source": [
    "# Q3."
   ]
  },
  {
   "cell_type": "code",
   "execution_count": 41,
   "id": "a2cd0126-1d0f-40fa-876f-43c619acba47",
   "metadata": {},
   "outputs": [
    {
     "name": "stdout",
     "output_type": "stream",
     "text": [
      "['Amir khan', 'Amjad khan']\n"
     ]
    }
   ],
   "source": [
    "names = [ \"Amir khan\" , \"Amjad khan\" , \"Majid Khan\" , \"Yasir khan\"]\n",
    "empty_list = []\n",
    "for name in names:\n",
    "    if \"A\" in name:\n",
    "        empty_list.append(name)\n",
    "print(empty_list)\n"
   ]
  },
  {
   "cell_type": "code",
   "execution_count": 42,
   "id": "c0b5c875-2869-4132-a57a-b184fb7998f7",
   "metadata": {},
   "outputs": [
    {
     "name": "stdout",
     "output_type": "stream",
     "text": [
      "['Amir khan', 'Amjad khan']\n"
     ]
    }
   ],
   "source": [
    "\n",
    "list = [ name for name in names if \"A\" in name]\n",
    "print(list)"
   ]
  },
  {
   "cell_type": "code",
   "execution_count": 48,
   "id": "4b11f234-25e7-43ad-8ab8-36ac7f4dad3e",
   "metadata": {},
   "outputs": [
    {
     "name": "stdout",
     "output_type": "stream",
     "text": [
      "['Aqib', 'Aqeel', 'Amjad']\n"
     ]
    }
   ],
   "source": [
    "# 2nd method . This method of comprehension list this method save of time and a lot of lines code decreases\n",
    "names = [ \"Aqib\" , \"Aqeel\" , \"Majid\" , \"Amjad\"]\n",
    "list = [name for name in names if \"A\" in name]\n",
    "print(list)\n"
   ]
  },
  {
   "cell_type": "code",
   "execution_count": 50,
   "id": "58e42a85-256b-45bc-8d95-735661d67110",
   "metadata": {},
   "outputs": [
    {
     "name": "stdout",
     "output_type": "stream",
     "text": [
      "['Aqib', 'Aqeel', 'Majid', 'Amjad']\n"
     ]
    }
   ],
   "source": [
    "# by checking that check condition in list is optional if you want any specific from list then you would use . Otherwise if you not use it's not mandatory\n",
    "names = [ \"Aqib\" , \"Aqeel\" , \"Majid\" , \"Amjad\"]\n",
    "list = [ name for name in names]\n",
    "print(list)"
   ]
  },
  {
   "cell_type": "markdown",
   "id": "97377850-8f02-4489-8c8e-4977e1e29ffb",
   "metadata": {},
   "source": [
    "# Home Task :"
   ]
  },
  {
   "cell_type": "code",
   "execution_count": 52,
   "id": "a169fa45-9375-4e27-8119-bc1d6a8cbbab",
   "metadata": {},
   "outputs": [
    {
     "name": "stdout",
     "output_type": "stream",
     "text": [
      "['Lion', 'Tiger', 'Rech', 'Monkey', 'Elephent', 'Frog']\n"
     ]
    }
   ],
   "source": [
    "# Convert the following list into a comprehension\n",
    "animals = [ 'lion' , 'tiger' , 'rech' , 'monkey', 'elephent', 'frog']\n",
    "filtered_animal = []\n",
    "for animal in animals :\n",
    "    filtered_animal.append(animal.title())\n",
    "print(filtered_animal)"
   ]
  },
  {
   "cell_type": "code",
   "execution_count": 55,
   "id": "760b307f-63dc-462f-b1f1-233bec3e7fa5",
   "metadata": {},
   "outputs": [
    {
     "name": "stdout",
     "output_type": "stream",
     "text": [
      "['Lion', 'Tiger', 'Rech', 'Monkey', 'Elephent', 'Frog']\n"
     ]
    }
   ],
   "source": [
    "# converted list\n",
    "animals = [ 'lion' , 'tiger' , 'rech' , 'monkey', 'elephent', 'frog']\n",
    "filter_animal = [ animal.title() for animal in animals ]\n",
    "print(filter_animal)"
   ]
  },
  {
   "cell_type": "code",
   "execution_count": 58,
   "id": "b60bf345-d689-4245-a93e-c90efb5ba02f",
   "metadata": {},
   "outputs": [
    {
     "name": "stdout",
     "output_type": "stream",
     "text": [
      "[1, 3, 5, 7, 9, 11, 13, 15, 17, 19]\n"
     ]
    }
   ],
   "source": [
    "lists = [ list for list in range(1, 21) if list%2 != 0]\n",
    "print(lists)"
   ]
  },
  {
   "cell_type": "markdown",
   "id": "590316c3-fadd-4bf3-84c5-6bc0f34ea768",
   "metadata": {},
   "source": [
    "# Nested list comprehension :"
   ]
  },
  {
   "cell_type": "code",
   "execution_count": 60,
   "id": "6f1b0586-443b-4c7b-8384-63bd69b35ac9",
   "metadata": {},
   "outputs": [
    {
     "name": "stdout",
     "output_type": "stream",
     "text": [
      "[1, 2, 3, 4, 5, 6, 7, 8, 9]\n"
     ]
    }
   ],
   "source": [
    "# Nested list comprehension\n",
    "\n",
    "matrix = [[1, 2, 3], [4, 5, 6], [7, 8, 9]]  \n",
    "flat_list = [num for row in matrix for num in row]  \n",
    "print(flat_list)  "
   ]
  },
  {
   "cell_type": "markdown",
   "id": "42e8a506-2489-4811-8f2c-21da3ae4a3c3",
   "metadata": {},
   "source": [
    "# Q4."
   ]
  },
  {
   "cell_type": "code",
   "execution_count": 66,
   "id": "37e066ce-a5dc-4da5-82e3-f531170fc737",
   "metadata": {},
   "outputs": [
    {
     "name": "stdout",
     "output_type": "stream",
     "text": [
      "[5, 10, 15, 20, 25, 30, 35, 40, 45, 50]\n"
     ]
    }
   ],
   "source": [
    "# print all the number divisible of 5 from 1 to 50\n",
    "divisible_by_five = [ num for num in range(1 , 51) if num%5 == 0 ]\n",
    "print(divisible_by_five )"
   ]
  },
  {
   "cell_type": "markdown",
   "id": "6be5be21-5bb6-4746-ab9d-aa823ebe7e86",
   "metadata": {},
   "source": [
    "# Q5."
   ]
  },
  {
   "cell_type": "code",
   "execution_count": 78,
   "id": "62791c78-4a2b-4456-b896-dd161c765497",
   "metadata": {},
   "outputs": [
    {
     "name": "stdout",
     "output_type": "stream",
     "text": [
      "['python', 'php']\n",
      "['cpp', 'php']\n"
     ]
    }
   ],
   "source": [
    "# find languages which letter start from p\n",
    "languages = [ \"python\" , \"java\" , \"javascript\" , \"cpp\" , \"php\" ]\n",
    "data = [language for language in languages if language.startswith(\"p\")]\n",
    "print(data)\n",
    "\n",
    "data = [language for language in languages if language.endswith(\"p\")]\n",
    "print(data)"
   ]
  },
  {
   "cell_type": "markdown",
   "id": "d9694cbc-959d-4137-8536-c0d3276d4cf4",
   "metadata": {},
   "source": [
    "# Q6."
   ]
  },
  {
   "cell_type": "code",
   "execution_count": 77,
   "id": "0d7cc339-5482-4bdb-9ad1-938ae762232e",
   "metadata": {},
   "outputs": [
    {
     "name": "stdout",
     "output_type": "stream",
     "text": [
      "['apple']\n"
     ]
    }
   ],
   "source": [
    "# Nested if with list comprehension\n",
    "# create new list from my_fruit and items and then check whether in new list existing list items exist and start with 'a' \n",
    "\n",
    "basket = [ 'apple' , 'cherry', ' guava' , ' banana']\n",
    "my_fruits = [ 'giwwi' , 'cherry', 'apple','grapes' , 'kiwi' ]\n",
    "new_fruit_list = [ fruit for fruit in my_fruits if fruit in basket  if fruit.startswith('a')]\n",
    "print(new_fruit_list)"
   ]
  },
  {
   "cell_type": "markdown",
   "id": "f50b9d27-bc60-4ce9-8b87-c19d6c68a066",
   "metadata": {},
   "source": [
    "# Q7."
   ]
  },
  {
   "cell_type": "code",
   "execution_count": 4,
   "id": "b3e7b83e-4987-412e-8be5-b97b1452d14a",
   "metadata": {},
   "outputs": [
    {
     "data": {
      "text/plain": [
       "[[1, 2, 3], [2, 4, 6], [3, 6, 9]]"
      ]
     },
     "execution_count": 4,
     "metadata": {},
     "output_type": "execute_result"
    }
   ],
   "source": [
    "# print the ( 3 * 3) matrix by using of list comprehension\n",
    "[ [i*j for i in range(1 , 4)] for j in range(1,4)]"
   ]
  },
  {
   "cell_type": "code",
   "execution_count": 5,
   "id": "87e0fc49-9cdd-4436-9aa6-9206bb351801",
   "metadata": {},
   "outputs": [
    {
     "data": {
      "text/plain": [
       "[1, 2, 3, 2, 4, 6, 3, 6, 9]"
      ]
     },
     "execution_count": 5,
     "metadata": {},
     "output_type": "execute_result"
    }
   ],
   "source": [
    "[ i*j for i in range(1 , 4) for j in range(1,4)]\n"
   ]
  },
  {
   "cell_type": "markdown",
   "id": "10cc9f2e-fc7f-4c85-93e3-43df91c0d6a0",
   "metadata": {},
   "source": [
    "# Q8."
   ]
  },
  {
   "cell_type": "code",
   "execution_count": 6,
   "id": "e47338cd-3459-49b4-826f-ec2a8212d42b",
   "metadata": {},
   "outputs": [
    {
     "data": {
      "text/plain": [
       "[[3, 6, 9, 12], [4, 8, 12, 16], [5, 10, 15, 20], [6, 12, 18, 24]]"
      ]
     },
     "execution_count": 6,
     "metadata": {},
     "output_type": "execute_result"
    }
   ],
   "source": [
    "# Cartesian product\n",
    "L1 = [ 1,2,3,4]\n",
    "L2 = [ 3,4,5,6]\n",
    "[[i*j for i in L1 ] for j in L2] \n"
   ]
  },
  {
   "cell_type": "markdown",
   "id": "ec93b550-e872-4662-b52a-e43181f850e7",
   "metadata": {},
   "source": [
    "# Two ways traverse a loop :\n",
    "- itemwise\n",
    "- idexwise"
   ]
  },
  {
   "cell_type": "code",
   "execution_count": 83,
   "id": "c46a1b94-0cd1-449e-93a4-51e37f115948",
   "metadata": {},
   "outputs": [
    {
     "name": "stdout",
     "output_type": "stream",
     "text": [
      "1\n",
      "2\n",
      "3\n",
      "4\n",
      "5\n"
     ]
    }
   ],
   "source": [
    "# itemwise loop\n",
    "list = [ 1,2,3,4,5]\n",
    "for i in list:\n",
    "    print(i)"
   ]
  },
  {
   "cell_type": "code",
   "execution_count": 24,
   "id": "dc8a477d-7d70-4fa1-967e-05abffd54060",
   "metadata": {},
   "outputs": [
    {
     "name": "stdout",
     "output_type": "stream",
     "text": [
      "0\n",
      "1\n",
      "2\n",
      "3\n",
      "4\n"
     ]
    }
   ],
   "source": [
    "# indexwise loop \n",
    "list1 = [ 1,2,3,4,5]\n",
    "for i in range(0, len(list1)):\n",
    "    print(i)\n",
    "\n",
    "# This is not off over list value it just index value that where is your value"
   ]
  },
  {
   "cell_type": "markdown",
   "id": "f6c207e7-89a1-448d-a3c4-1e5777496b90",
   "metadata": {},
   "source": [
    "# zip() function :"
   ]
  },
  {
   "cell_type": "code",
   "execution_count": 7,
   "id": "491a1c3e-902d-4f6f-9deb-2bfc05a7597e",
   "metadata": {},
   "outputs": [
    {
     "name": "stdout",
     "output_type": "stream",
     "text": [
      "{(2, 3), (3, 2), (4, 1), (1, 4)}\n",
      "[5, 5, 5, 5]\n"
     ]
    }
   ],
   "source": [
    "L1 = [1, 2, 3, 4]  \n",
    "L2 = [4, 3, 2, 1]  \n",
    "\n",
    "# Print paired elements from both lists  \n",
    "print(set(zip(L1, L2)))  # Output: [(1, 4), (2, 3), (3, 2), (4, 1)]  \n",
    "\n",
    "# Create a new list with sums of paired elements  \n",
    "result = [i + j for i, j in zip(L1, L2)]  \n",
    "print(result)  # Output: [5, 5, 5, 5]"
   ]
  },
  {
   "cell_type": "code",
   "execution_count": 1,
   "id": "eb647ad0-1797-4ab3-9287-2025c277df51",
   "metadata": {},
   "outputs": [
    {
     "name": "stdout",
     "output_type": "stream",
     "text": [
      "palindrome\n"
     ]
    }
   ],
   "source": [
    "list1=[1,2,3,3, 2, 1,]\n",
    "list2 = list1[::-1]\n",
    "if list1 == list2:\n",
    "    print('palindrome')\n",
    "\n",
    "else:\n",
    "    print('Non palindrome')"
   ]
  },
  {
   "cell_type": "code",
   "execution_count": 2,
   "id": "34903eec-b0a9-4a08-9685-0cf6f8bce1c0",
   "metadata": {},
   "outputs": [
    {
     "name": "stdout",
     "output_type": "stream",
     "text": [
      "Output: {(1, 1), (1, 2), (1, 3), (1, 4), (1, 5), (1, 6), (2, 1), (2, 2), (2, 3), (2, 4), (2, 5), (2, 6), (3, 1), (3, 2), (3, 3), (3, 4), (3, 5), (3, 6), (4, 1), (4, 2), (4, 3), (4, 4), (4, 5), (4, 6), (5, 1), (5, 2), (5, 3), (5, 4), (5, 5), (5, 6), (6, 1), (6, 2), (6, 3), (6, 4), (6, 5), (6, 6)}\n"
     ]
    }
   ],
   "source": [
    "# Initialize a list to hold the results\n",
    "results = []      # Loop through each possible roll of the first\n",
    "for die1 in range(1,7):\n",
    "    # Loop through each possible roll of the second die\n",
    "    for die2 in range(1, 7):\n",
    "        # Append the tuple (die1, die2) to results list \n",
    "        results.append((die1, die2))\n",
    "\n",
    "# Print output in desired format\n",
    "output = ', '.join(map(str, results))\n",
    "print(f\"Output: {{{output}}}\")\n"
   ]
  },
  {
   "cell_type": "code",
   "execution_count": 3,
   "id": "74ccc4ba-5104-4f40-9c20-d743e62a73c9",
   "metadata": {},
   "outputs": [
    {
     "name": "stdout",
     "output_type": "stream",
     "text": [
      "Output: {(1, 1),(1, 2),(1, 3),(1, 4),(1, 5),(1, 6),(2, 1),(2, 2),(2, 3),(2, 4),(2, 5),(2, 6),(3, 1),(3, 2),(3, 3),(3, 4),(3, 5),(3, 6),(4, 1),(4, 2),(4, 3),(4, 4),(4, 5),(4, 6),(5, 1),(5, 2),(5, 3),(5, 4),(5, 5),(5, 6),(6, 1),(6, 2),(6, 3),(6, 4),(6, 5),(6, 6)}\n"
     ]
    }
   ],
   "source": [
    "# Method 2. Concluding in advance\n",
    "result = [(die1, die2) for die1 in range(1,7) for die2 in range(1,7)]\n",
    "print(f\"Output: {{{','.join(str(pair) for pair in result)}}}\")"
   ]
  },
  {
   "cell_type": "code",
   "execution_count": 4,
   "id": "7e8f7ab9-743b-480d-9e8c-e4180c6e77f8",
   "metadata": {},
   "outputs": [
    {
     "name": "stdout",
     "output_type": "stream",
     "text": [
      "Output: {(1, 1),(1, 2),(1, 3),(1, 4),(1, 5),(1, 6),(2, 1),(2, 2),(2, 3),(2, 4),(2, 5),(2, 6),(3, 1),(3, 2),(3, 3),(3, 4),(3, 5),(3, 6),(4, 1),(4, 2),(4, 3),(4, 4),(4, 5),(4, 6),(5, 1),(5, 2),(5, 3),(5, 4),(5, 5),(5, 6),(6, 1),(6, 2),(6, 3),(6, 4),(6, 5),(6, 6)}\n"
     ]
    }
   ],
   "source": [
    "# method 3 : make possible combination of two dice\n",
    "import itertools\n",
    "\n",
    "result = list(itertools.product(range(1,7) , repeat = 2))\n",
    "\n",
    "print(f\"Output: {{{\",\".join(str(pair) for pair in result)}}}\")\n"
   ]
  },
  {
   "cell_type": "code",
   "execution_count": null,
   "id": "1081f1ce-a549-4306-8299-d2784443d8e0",
   "metadata": {},
   "outputs": [],
   "source": []
  }
 ],
 "metadata": {
  "kernelspec": {
   "display_name": "Python 3 (ipykernel)",
   "language": "python",
   "name": "python3"
  },
  "language_info": {
   "codemirror_mode": {
    "name": "ipython",
    "version": 3
   },
   "file_extension": ".py",
   "mimetype": "text/x-python",
   "name": "python",
   "nbconvert_exporter": "python",
   "pygments_lexer": "ipython3",
   "version": "3.12.4"
  }
 },
 "nbformat": 4,
 "nbformat_minor": 5
}
