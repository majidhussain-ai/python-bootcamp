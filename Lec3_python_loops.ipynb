{
 "cells": [
  {
   "cell_type": "markdown",
   "id": "0eb891d2-0062-495d-b66a-ea70f3e4a9f4",
   "metadata": {},
   "source": [
    "# Basics Control flow:"
   ]
  },
  {
   "cell_type": "markdown",
   "id": "c543c4ed-d495-491d-a937-8a25dd087f9b",
   "metadata": {
    "jp-MarkdownHeadingCollapsed": true
   },
   "source": [
    "### if | elif | else statements :\n",
    "- They let you execute code conditionally. Python evaluates the condition; if it’s True, it runs that block."
   ]
  },
  {
   "cell_type": "code",
   "execution_count": null,
   "id": "4face771-888b-4515-8621-2e5ed989214c",
   "metadata": {},
   "outputs": [],
   "source": [
    "# Simple syntax :\n",
    "if condition:\n",
    "    # code if condition true\n",
    "elif another_condition:\n",
    "    # code if second condition true\n",
    "else:\n",
    "    # code if none is true\n"
   ]
  },
  {
   "cell_type": "markdown",
   "id": "6c216000-0eb2-4af0-919c-90e9ee0cff83",
   "metadata": {
    "jp-MarkdownHeadingCollapsed": true
   },
   "source": [
    "### Examples:"
   ]
  },
  {
   "cell_type": "code",
   "execution_count": 5,
   "id": "873d5974-bbae-43be-a3b9-a35bd42187e4",
   "metadata": {},
   "outputs": [
    {
     "name": "stdout",
     "output_type": "stream",
     "text": [
      "Grade A\n"
     ]
    }
   ],
   "source": [
    "# Simple if\n",
    "marks = 95\n",
    "if marks > 90:\n",
    "    print(\"Grade A\")\n"
   ]
  },
  {
   "cell_type": "code",
   "execution_count": 6,
   "id": "ae75ec4f-d8ff-484b-915f-19ad3b9d443d",
   "metadata": {},
   "outputs": [
    {
     "name": "stdout",
     "output_type": "stream",
     "text": [
      "Pass with C\n"
     ]
    }
   ],
   "source": [
    "# if-else\n",
    "marks = 70\n",
    "if marks >= 80:\n",
    "    print(\"Pass with B\")\n",
    "else:\n",
    "    print(\"Pass with C\")\n"
   ]
  },
  {
   "cell_type": "code",
   "execution_count": 7,
   "id": "b74fc014-29d3-4227-9921-e91e21241545",
   "metadata": {},
   "outputs": [
    {
     "name": "stdout",
     "output_type": "stream",
     "text": [
      "Needs Improvement\n"
     ]
    }
   ],
   "source": [
    "# if-elif-else\n",
    "score = 50\n",
    "if score >= 90:\n",
    "    print(\"Excellent\")\n",
    "elif score >= 60:\n",
    "    print(\"Good\")\n",
    "else:\n",
    "    print(\"Needs Improvement\")\n"
   ]
  },
  {
   "cell_type": "code",
   "execution_count": 8,
   "id": "6e16cbd4-14f2-49ac-8aa0-0fbfdb49c0d7",
   "metadata": {},
   "outputs": [
    {
     "name": "stdout",
     "output_type": "stream",
     "text": [
      "Majid is an adult\n"
     ]
    }
   ],
   "source": [
    "# Nested if\n",
    "name = \"Majid Hussain\"\n",
    "age = 24\n",
    "if age > 18:\n",
    "    if name == \"Majid Hussain\":\n",
    "        print(\"Majid is an adult\")\n"
   ]
  },
  {
   "cell_type": "markdown",
   "id": "eb3a66f7-4082-4123-a9e5-366a385308ef",
   "metadata": {
    "jp-MarkdownHeadingCollapsed": true
   },
   "source": [
    "### loops ( while , for):\n",
    "- Loops repeat a block of code multiple times.\n",
    "- **for loop:** iterate over a sequence (list, string, range).\n",
    "- **while loop:** run while a condition is true."
   ]
  },
  {
   "cell_type": "code",
   "execution_count": null,
   "id": "0e3be878-abbf-45ca-91ce-ca94ff9b53c1",
   "metadata": {},
   "outputs": [],
   "source": [
    "# simple syntax: \n",
    "for item in sequence:\n",
    "    # code\n",
    "\n",
    "while condition:\n",
    "    # code\n"
   ]
  },
  {
   "cell_type": "markdown",
   "id": "9f7673f9-b186-4fe7-88fc-27b009def9f3",
   "metadata": {
    "jp-MarkdownHeadingCollapsed": true
   },
   "source": [
    "### Examples:"
   ]
  },
  {
   "cell_type": "code",
   "execution_count": 9,
   "id": "077ac8da-c5b3-46eb-a953-1a8d7aebea39",
   "metadata": {},
   "outputs": [
    {
     "name": "stdout",
     "output_type": "stream",
     "text": [
      "Amjad Hussain\n",
      "Amir Hussain\n",
      "Tahir Hussain\n",
      "Noor Mustafa\n"
     ]
    }
   ],
   "source": [
    "# for loop over list\n",
    "friends = ['Amjad Hussain','Amir Hussain','Tahir Hussain', 'Noor Mustafa']\n",
    "for friend in friends:\n",
    "    print(friend)\n"
   ]
  },
  {
   "cell_type": "code",
   "execution_count": 10,
   "id": "0ff77e92-4517-4c09-afee-f37c2a5f123e",
   "metadata": {},
   "outputs": [
    {
     "name": "stdout",
     "output_type": "stream",
     "text": [
      "Loop 0\n",
      "Loop 1\n",
      "Loop 2\n",
      "Loop 3\n"
     ]
    }
   ],
   "source": [
    "# for loop with range\n",
    "for i in range(4):\n",
    "    print(\"Loop\", i)\n"
   ]
  },
  {
   "cell_type": "code",
   "execution_count": 11,
   "id": "50d83695-2482-42e0-af84-2b5c672a9194",
   "metadata": {},
   "outputs": [
    {
     "name": "stdout",
     "output_type": "stream",
     "text": [
      "Count is 0\n",
      "Count is 1\n",
      "Count is 2\n"
     ]
    }
   ],
   "source": [
    "# hile loop\n",
    "count = 0\n",
    "while count < 3:\n",
    "    print(\"Count is\", count)\n",
    "    count += 1"
   ]
  },
  {
   "cell_type": "code",
   "execution_count": 12,
   "id": "4475704f-0d95-4234-b5a0-2511b972acbb",
   "metadata": {},
   "outputs": [
    {
     "name": "stdout",
     "output_type": "stream",
     "text": [
      "M\n",
      "a\n",
      "j\n",
      "i\n",
      "d\n"
     ]
    }
   ],
   "source": [
    "# iterate string\n",
    "for char in \"Majid\":\n",
    "    print(char)\n"
   ]
  },
  {
   "cell_type": "markdown",
   "id": "d6c71417-c0fe-461c-85e8-f9c2fe718b2a",
   "metadata": {
    "jp-MarkdownHeadingCollapsed": true
   },
   "source": [
    "### loop control( break, continue, pass):\n",
    "- **`break:`** stops the loop immediately.\n",
    "- **`continue:`** skips to the next iteration.\n",
    "- **`pass:`** does nothing (placeholder)."
   ]
  },
  {
   "cell_type": "code",
   "execution_count": null,
   "id": "2b8b1812-73b7-4a9f-86a3-915fc900c11d",
   "metadata": {},
   "outputs": [],
   "source": [
    "# simple syntax:\n",
    "for item in sequence:\n",
    "    if condition:\n",
    "        break   # exit loop\n",
    "    if condition2:\n",
    "        continue # skip rest, go next\n",
    "    pass        # do nothing\n"
   ]
  },
  {
   "cell_type": "markdown",
   "id": "0efe169b-2d0a-49d7-b5bd-2c6c45330102",
   "metadata": {
    "jp-MarkdownHeadingCollapsed": true
   },
   "source": [
    "### Examples:"
   ]
  },
  {
   "cell_type": "code",
   "execution_count": 13,
   "id": "59846126-cd00-43c4-b89a-6a06c818627a",
   "metadata": {},
   "outputs": [
    {
     "name": "stdout",
     "output_type": "stream",
     "text": [
      "Majid\n"
     ]
    }
   ],
   "source": [
    "# break\n",
    "for friend in ['Majid','Amjad','Amir']:\n",
    "    if friend == 'Amjad':\n",
    "        break\n",
    "    print(friend)\n"
   ]
  },
  {
   "cell_type": "code",
   "execution_count": 14,
   "id": "936e3b02-4a35-4ecb-909c-089150c294a3",
   "metadata": {},
   "outputs": [
    {
     "name": "stdout",
     "output_type": "stream",
     "text": [
      "0\n",
      "1\n",
      "3\n",
      "4\n"
     ]
    }
   ],
   "source": [
    "\n",
    "# continue\n",
    "for i in range(5):\n",
    "    if i == 2:   # skip value 2 \n",
    "        continue\n",
    "    print(i)"
   ]
  },
  {
   "cell_type": "code",
   "execution_count": 15,
   "id": "d263eb6d-e59d-49b8-9389-25b6363bd420",
   "metadata": {},
   "outputs": [
    {
     "name": "stdout",
     "output_type": "stream",
     "text": [
      "Majid\n",
      "Tahir\n",
      "Noor\n"
     ]
    }
   ],
   "source": [
    "# pass\n",
    "for name in ['Majid','Tahir','Noor']:\n",
    "    if name == 'Tahir':\n",
    "        pass  # do nothing here\n",
    "    print(name)"
   ]
  },
  {
   "cell_type": "code",
   "execution_count": 16,
   "id": "c2ced597-8002-465a-a53f-79d8876b039f",
   "metadata": {},
   "outputs": [
    {
     "name": "stdout",
     "output_type": "stream",
     "text": [
      "Count: 0\n",
      "Count: 1\n",
      "Count: 2\n"
     ]
    }
   ],
   "source": [
    "#  break in while\n",
    "count = 0\n",
    "while True:\n",
    "    print(\"Count:\", count)\n",
    "    count += 1\n",
    "    if count == 3:\n",
    "        break"
   ]
  },
  {
   "cell_type": "code",
   "execution_count": 17,
   "id": "c3e29e20-e2bd-43af-bd4c-c2891d291104",
   "metadata": {},
   "outputs": [
    {
     "name": "stdout",
     "output_type": "stream",
     "text": [
      "5\n",
      "4\n",
      "3\n",
      "2\n",
      "1\n",
      "Our loop are ended\n"
     ]
    }
   ],
   "source": [
    "# Descend value using loops\n",
    "num=5\n",
    "while(num>=1):\n",
    "    print(num)\n",
    "    num-=1\n",
    "print(\"Our loop are ended\")"
   ]
  },
  {
   "cell_type": "code",
   "execution_count": 18,
   "id": "c9b910e7-fa88-4e0b-bae1-9aee38b1260d",
   "metadata": {},
   "outputs": [
    {
     "name": "stdout",
     "output_type": "stream",
     "text": [
      "1\n",
      "2\n",
      "3\n",
      "4\n"
     ]
    }
   ],
   "source": [
    "for i in range(1, 10):  \n",
    "    if i * 2 >= 10:  \n",
    "        continue  \n",
    "    print(i)"
   ]
  },
  {
   "cell_type": "markdown",
   "id": "d3117113-fcf5-44e6-8a1d-40896c676e0e",
   "metadata": {
    "jp-MarkdownHeadingCollapsed": true
   },
   "source": [
    "# Advance Control flow for industry level developer:"
   ]
  },
  {
   "cell_type": "code",
   "execution_count": 19,
   "id": "bfb35c0a-e0dd-4d6e-b45a-5589febf7082",
   "metadata": {},
   "outputs": [
    {
     "name": "stdout",
     "output_type": "stream",
     "text": [
      "1 1\n",
      "1 2\n",
      "1 3\n",
      "2 1\n",
      "2 2\n",
      "2 3\n",
      "3 1\n",
      "3 2\n",
      "3 3\n"
     ]
    }
   ],
   "source": [
    "# Nested loop: loop within loop for example i would like to print two dice\n",
    "for i in range(1,4):\n",
    "    for j in range(1,4):\n",
    "        print(i, j)"
   ]
  },
  {
   "cell_type": "code",
   "execution_count": 20,
   "id": "4bc8966e-4642-40c9-a2f7-eeaa581aa4de",
   "metadata": {},
   "outputs": [
    {
     "name": "stdout",
     "output_type": "stream",
     "text": [
      "1 1 1 2 1 3 1 4 \n",
      "2 2 2 3 2 4 \n",
      "3 3 3 4 \n",
      "4 4 \n"
     ]
    }
   ],
   "source": [
    "for j in range(1, 5):\n",
    "    for k in range(j, 5):\n",
    "        print(j, k, end= \" \")\n",
    "    print()"
   ]
  },
  {
   "cell_type": "code",
   "execution_count": 21,
   "id": "ff7f5587-c304-4543-b587-1fde4db47618",
   "metadata": {},
   "outputs": [
    {
     "name": "stdout",
     "output_type": "stream",
     "text": [
      "* \n",
      "* * \n",
      "* * * \n",
      "* * * * \n"
     ]
    }
   ],
   "source": [
    "for j in range(1, 5):\n",
    "    for k in range(1, j+1):\n",
    "        print(\"*\" , end = \" \")\n",
    "    print()"
   ]
  },
  {
   "cell_type": "code",
   "execution_count": 22,
   "id": "e7cadfd3-e5ff-4719-8d92-75e071ccd9f3",
   "metadata": {},
   "outputs": [
    {
     "name": "stdout",
     "output_type": "stream",
     "text": [
      "* * * * \n",
      "* * * \n",
      "* * \n",
      "* \n",
      "\n"
     ]
    }
   ],
   "source": [
    "for i in range(1,6):\n",
    "    for j in range(1, 6-i):\n",
    "        print(\"*\", end=\" \")\n",
    "    print()"
   ]
  },
  {
   "cell_type": "code",
   "execution_count": 24,
   "id": "26206f6a-3b49-4c06-87dd-47eda136bd4c",
   "metadata": {},
   "outputs": [
    {
     "name": "stdin",
     "output_type": "stream",
     "text": [
      "Enter a number 8\n"
     ]
    },
    {
     "name": "stdout",
     "output_type": "stream",
     "text": [
      "1 2 3 4 5 6 \n",
      "1 2 3 4 5 \n",
      "1 2 3 4 \n",
      "1 2 3 \n",
      "1 2 \n",
      "1 \n",
      "\n",
      "\n"
     ]
    }
   ],
   "source": [
    "rows = int(input(\"Enter a number\"))\n",
    "for i in range(1,rows+1):\n",
    "    for j in range(1, rows-i):\n",
    "        print(j, end=\" \")\n",
    "    for k in range(i+1, 0, 1):\n",
    "        print(k, end= \" \")\n",
    "    print()"
   ]
  },
  {
   "cell_type": "code",
   "execution_count": 25,
   "id": "987b625c-4394-45dd-9161-977d127e573a",
   "metadata": {},
   "outputs": [
    {
     "name": "stdin",
     "output_type": "stream",
     "text": [
      "Enter lower value : 2\n",
      "Enter uppar value : 8\n"
     ]
    },
    {
     "name": "stdout",
     "output_type": "stream",
     "text": [
      "2\n",
      "3\n",
      "5\n",
      "7\n"
     ]
    }
   ],
   "source": [
    "# print the prime number enter number by user\n",
    "lower = int(input(\"Enter lower value :\"))\n",
    "uppar = int(input(\"Enter uppar value :\"))\n",
    "for i in range(lower, uppar):\n",
    "    for j in range(2, i):\n",
    "        if i%j == 0:\n",
    "            break\n",
    "    else:\n",
    "       print(i)"
   ]
  },
  {
   "cell_type": "code",
   "execution_count": 26,
   "id": "3a2c7b6b-04df-4104-bc08-267d0107e7c6",
   "metadata": {},
   "outputs": [
    {
     "name": "stdout",
     "output_type": "stream",
     "text": [
      "feroz khan\n",
      "saifly khan\n",
      "shah rukhan\n",
      "salman khan\n",
      "amir khan\n"
     ]
    }
   ],
   "source": [
    "# print the heroes name by traverse of the following list\n",
    "heroes=[\"amir khan\", \"salman khan\", \"shah rukhan\", \"saifly khan\", \"feroz khan\"]\n",
    "new_list = heroes[::-1]\n",
    "for hero in new_list:\n",
    "    print(hero)"
   ]
  },
  {
   "cell_type": "code",
   "execution_count": 27,
   "id": "cd92f1f6-e98a-446c-a93d-21f784001526",
   "metadata": {},
   "outputs": [
    {
     "name": "stdout",
     "output_type": "stream",
     "text": [
      "1 Alice\n",
      "3 Charlie\n"
     ]
    }
   ],
   "source": [
    "# practice by self\n",
    "data = [(1, \"Alice\"), (2, \"\"), (3 ,\"Charlie\")]  \n",
    "for id, name in data:  \n",
    "    # if not id:\n",
    "    if not name:\n",
    "        continue  \n",
    "    print(id, name)\n"
   ]
  },
  {
   "cell_type": "code",
   "execution_count": 28,
   "id": "8aafc4de-b4fc-4987-8d83-a0e5a5b7a434",
   "metadata": {},
   "outputs": [
    {
     "name": "stdin",
     "output_type": "stream",
     "text": [
      "enter numbers: 5\n"
     ]
    },
    {
     "name": "stdout",
     "output_type": "stream",
     "text": [
      "factorial of n is= 120\n"
     ]
    }
   ],
   "source": [
    "# find the factorial number of N using while loop\n",
    "n=int(input(\"enter numbers:\"))\n",
    "i=1\n",
    "fact=1\n",
    "while i<=n:\n",
    "    fact*=i\n",
    "    i+=1\n",
    "\n",
    "print(\"factorial of n is=\",fact)"
   ]
  },
  {
   "cell_type": "code",
   "execution_count": 31,
   "id": "bf4ff671-f611-49c8-a9e5-9bcd60186433",
   "metadata": {},
   "outputs": [
    {
     "name": "stdin",
     "output_type": "stream",
     "text": [
      "Enter numbers 5\n"
     ]
    },
    {
     "name": "stdout",
     "output_type": "stream",
     "text": [
      "Factorial of 5 = 120\n"
     ]
    }
   ],
   "source": [
    "# 2nd method\n",
    "import math\n",
    "n = int(input('Enter numbers'))\n",
    "print(f'Factorial of {n} = {math.factorial(n)}')"
   ]
  },
  {
   "cell_type": "code",
   "execution_count": 30,
   "id": "709454f0-2d2b-4e6d-899c-a34cc94e0e64",
   "metadata": {},
   "outputs": [
    {
     "name": "stdout",
     "output_type": "stream",
     "text": [
      "1  apple\n",
      "2  banana\n",
      "3  watermelon\n",
      "4  pineapple\n",
      "5  mango\n"
     ]
    }
   ],
   "source": [
    "# By using python built-in module which is enumerate it combines values(list, string, tuples etc..) with syntax\n",
    "fruits = ['apple', 'banana', 'watermelon', 'pineapple', 'mango']\n",
    "for index, fruit in enumerate(fruits , start = 1):\n",
    "    print(f'{index}  {fruit}')"
   ]
  },
  {
   "cell_type": "code",
   "execution_count": 1,
   "id": "6d1b0821-c04f-41f2-bc14-f08a54ccc1e6",
   "metadata": {},
   "outputs": [
    {
     "name": "stdin",
     "output_type": "stream",
     "text": [
      "Enter 'quit' to stop:  My name is Majid Hussain\n"
     ]
    },
    {
     "name": "stdout",
     "output_type": "stream",
     "text": [
      "You entered: My name is Majid Hussain\n"
     ]
    },
    {
     "name": "stdin",
     "output_type": "stream",
     "text": [
      "Enter 'quit' to stop:  I want to become a data scientist\n"
     ]
    },
    {
     "name": "stdout",
     "output_type": "stream",
     "text": [
      "You entered: I want to become a data scientist\n"
     ]
    },
    {
     "name": "stdin",
     "output_type": "stream",
     "text": [
      "Enter 'quit' to stop:  q\n"
     ]
    },
    {
     "name": "stdout",
     "output_type": "stream",
     "text": [
      "You entered: q\n"
     ]
    }
   ],
   "source": [
    "response = \"\"\n",
    "while response not in [\"exit\", \"quit\", \"q\"]:\n",
    "    response = input(\"Enter 'quit' to stop: \")\n",
    "    print(f\"You entered: {response}\")"
   ]
  },
  {
   "cell_type": "code",
   "execution_count": 4,
   "id": "18e07635-26d5-4c04-b3f2-79ef7561e925",
   "metadata": {},
   "outputs": [
    {
     "name": "stdin",
     "output_type": "stream",
     "text": [
      "Enter number you want for sum 6\n"
     ]
    },
    {
     "name": "stdout",
     "output_type": "stream",
     "text": [
      "Sum the value from 0 to 6 = 21\n"
     ]
    }
   ],
   "source": [
    "# Enter number from user and sum them \n",
    "num = int(input(\"Enter number you want for sum\"))\n",
    "total = 0\n",
    "for i in range(num+1):\n",
    "    total+=i\n",
    "\n",
    "print(f'Sum the value from 0 to {num} = {total}')"
   ]
  },
  {
   "cell_type": "code",
   "execution_count": 3,
   "id": "ade9205d-5753-45e0-bedb-bda9b2664909",
   "metadata": {},
   "outputs": [
    {
     "name": "stdin",
     "output_type": "stream",
     "text": [
      "Enter number 6\n"
     ]
    },
    {
     "name": "stdout",
     "output_type": "stream",
     "text": [
      "Sum the value from 0 to 6 = 21\n"
     ]
    }
   ],
   "source": [
    "# 2nd method\n",
    "n = int(input('Enter number'))\n",
    "print(f'Sum the value from 0 to {n} = {sum(range(1,n+1))}')"
   ]
  },
  {
   "cell_type": "markdown",
   "id": "3944331a-b921-4159-af2d-6b19f0c3e4c2",
   "metadata": {},
   "source": [
    "### Q1."
   ]
  },
  {
   "cell_type": "code",
   "execution_count": null,
   "id": "772bb417-83ad-4803-9eab-cfc1d5d3a3ea",
   "metadata": {},
   "outputs": [],
   "source": [
    "# the current population of a town is 10000. the growth of population in every year is 10% and what is the population of back 10 years \n",
    "curr_pop =10000\n",
    "for i in range(10,0,-1):\n",
    "    curr_pop= curr_pop/1.1\n",
    "    print(f\"{curr_pop: .2f}\")"
   ]
  },
  {
   "cell_type": "code",
   "execution_count": null,
   "id": "225de3cb-599e-4f7d-8e78-97df85fdff88",
   "metadata": {},
   "outputs": [],
   "source": [
    "# 2nd method\n",
    "current_pop = 10000\n",
    "growth_rate = 1.1\n",
    "years_back = 10\n",
    "\n",
    "pop = current_pop\n",
    "for year in range(1, years_back+1):\n",
    "    pop = pop/growth_rate\n",
    "    print(f\"Population {year} years ago {pop:.2f}:\")"
   ]
  },
  {
   "cell_type": "markdown",
   "id": "ddda8826-a030-4fe0-9d62-c0bf7ecfe769",
   "metadata": {
    "jp-MarkdownHeadingCollapsed": true
   },
   "source": [
    "# Q2."
   ]
  },
  {
   "cell_type": "code",
   "execution_count": null,
   "id": "cb64134e-ed24-4995-ad2a-fcdba177f939",
   "metadata": {},
   "outputs": [],
   "source": [
    "# practice q3. find the sum of first Natural number\n",
    "n = int(input(\"Enter a number: \"))  \n",
    "sum = 0  \n",
    "for i in range(1, n+1):  \n",
    "    print(i)\n",
    "    sum += i  \n",
    "print(\"Total sum:\", sum)"
   ]
  },
  {
   "cell_type": "markdown",
   "id": "becad89c-9b43-4eb5-892c-bcf1684998c8",
   "metadata": {},
   "source": [
    "### Q3."
   ]
  },
  {
   "cell_type": "code",
   "execution_count": null,
   "id": "365e4516-4ef6-49df-a7b3-2b512918c8ee",
   "metadata": {},
   "outputs": [],
   "source": [
    "#  sequence series of 1/1! + 2/2! + 3/3! +..... upto user input \n",
    "n = int(input(\"Enter a number\"))\n",
    "fact =1\n",
    "result=0\n",
    "for i in range(1, n+1):\n",
    "    fact = fact*i\n",
    "    result = result + i/fact\n",
    "    print(f\"{result: .1f}\")"
   ]
  },
  {
   "cell_type": "code",
   "execution_count": null,
   "id": "e7c0e3d6-fa22-4f00-b5d6-c5675f220493",
   "metadata": {},
   "outputs": [],
   "source": [
    "# python code more readable and efficient. \n",
    "#  sequence series of 1/1! + 2/2! + 3/3! +..... upto user input \n",
    "import math\n",
    "try:\n",
    "    n = int(input(\"Enter positive numbers\"))\n",
    "    if n<1:\n",
    "        raise ValueError(\"Numbers must be positive\")\n",
    "\n",
    "except ValueError as e:\n",
    "    print(f\"Error: {e if str(e) else 'Please enter a validate integer'}\")\n",
    "    exit()\n",
    "\n",
    "series_sum = sum(i/math.factorial(i) for i in range(1, n+1))\n",
    "print(f\"Cumulative sum of {n} is {series_sum:.2f}\")"
   ]
  },
  {
   "cell_type": "markdown",
   "id": "88231d6c-fc73-419f-b2ad-6fcb388dc9c8",
   "metadata": {},
   "source": [
    "### Q4."
   ]
  },
  {
   "cell_type": "code",
   "execution_count": null,
   "id": "7f084a3c-5dd1-43da-a03a-eb441dc08e5e",
   "metadata": {},
   "outputs": [],
   "source": [
    "# Practice4: WAP to check if a list contain palindrome of elements.  Here palindrome mean if we write Ma'am and learn reverse and sort it will equal and\n",
    "#if we write a list [1,2,3,4,3,2,1] it is a palindrome list \n",
    "list1=[1,2,3,3, 2, 1,]\n",
    "copy_list1=list1.copy()\n",
    "copy_list1.reverse()\n",
    "if(copy_list1 == list1):\n",
    "   print(\"palindrome\")\n",
    "else:\n",
    "     print(\"Non palindrome\")\n",
    "\n",
    "# Here if we write a list [ 1,2,3,3,2,1] it tell us this is not palindrome but if this value written in double couts it will tell us it is a palindrome"
   ]
  },
  {
   "cell_type": "markdown",
   "id": "64a827d9-18bb-4cd0-b2ab-690c5c705dde",
   "metadata": {},
   "source": [
    "### Q5."
   ]
  },
  {
   "cell_type": "code",
   "execution_count": null,
   "id": "3d718881-dddc-495d-b1a2-ab421c90e64e",
   "metadata": {},
   "outputs": [],
   "source": [
    "# Q5. print the multiplication number of table n\n",
    "n = int(input(\"Enter your number: \"))  \n",
    "for i in range(1, n+1):\n",
    "    print(f\"{n} * {i} = {n * i}\")  \n",
    "    \n"
   ]
  },
  {
   "cell_type": "markdown",
   "id": "e47400cd-d185-433a-b3dc-67131c548ae2",
   "metadata": {},
   "source": [
    "### Q6."
   ]
  },
  {
   "cell_type": "code",
   "execution_count": null,
   "id": "52213f87-5a4d-4b7e-9466-865503cfac88",
   "metadata": {},
   "outputs": [],
   "source": [
    "#Q6. search the x number from the list give your choice from the list to x like x=49\n",
    "nums = (1, 4, 9, 16, 25, 36, 49, 64, 81, 100)\n",
    "x = 81\n",
    "if x in nums:\n",
    "    print(f'The value of {x} is found at index: {nums.index(x)}')\n",
    "else:\n",
    "    print('Sorry you enter wrong number! please try new')"
   ]
  },
  {
   "cell_type": "code",
   "execution_count": null,
   "id": "2d9ab72d-af30-427a-a010-d72a085c50b3",
   "metadata": {},
   "outputs": [],
   "source": [
    "# 2nd method\n",
    "\n",
    "nums = (1, 4, 9, 16, 25, 36, 49, 64, 81, 100)\n",
    "x = 8\n",
    "try:\n",
    "    index = nums.index(x)\n",
    "    print(f'The value of {x} found at index {index}')\n",
    "\n",
    "except ValueError:\n",
    "    print(f\"The Value of {x} not found\")\n"
   ]
  },
  {
   "cell_type": "code",
   "execution_count": null,
   "id": "0c3eb100-8408-4130-8548-e41e563e95f0",
   "metadata": {},
   "outputs": [],
   "source": [
    "# Write a program in which searching of your givin specific digits \n",
    "nums = (1, 4, 9, 16, 81,25, 36, 49, 64, 81, 100)  \n",
    "x = 81\n",
    "for i in range(len(nums)):\n",
    "    if nums[i] == x:\n",
    "        print(f\"The value of {x} found at index {i}\")\n",
    "    else:\n",
    "        print(\"Finding........!\")\n",
    "\n",
    "print(\"End of the body\")"
   ]
  },
  {
   "cell_type": "code",
   "execution_count": null,
   "id": "de3db02b-50fe-444d-b8f5-908b8a602b08",
   "metadata": {},
   "outputs": [],
   "source": [
    "import datetime\n",
    "today = datetime.datetime.today()\n",
    "print(today)"
   ]
  },
  {
   "cell_type": "code",
   "execution_count": null,
   "id": "64c1375d-bc1c-4d1a-98b1-5bd4d489ee91",
   "metadata": {},
   "outputs": [],
   "source": []
  }
 ],
 "metadata": {
  "kernelspec": {
   "display_name": "Python 3 (ipykernel)",
   "language": "python",
   "name": "python3"
  },
  "language_info": {
   "codemirror_mode": {
    "name": "ipython",
    "version": 3
   },
   "file_extension": ".py",
   "mimetype": "text/x-python",
   "name": "python",
   "nbconvert_exporter": "python",
   "pygments_lexer": "ipython3",
   "version": "3.12.4"
  }
 },
 "nbformat": 4,
 "nbformat_minor": 5
}
